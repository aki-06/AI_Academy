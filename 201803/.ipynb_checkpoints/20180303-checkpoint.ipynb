{
 "cells": [
  {
   "cell_type": "code",
   "execution_count": 4,
   "metadata": {},
   "outputs": [
    {
     "name": "stdout",
     "output_type": "stream",
     "text": [
      "調べるリスト\n",
      "[1, 4, 5, 6, 8, 9, 14, 58]\n",
      "14を検索します\n",
      "入力した要素を存在しません\n",
      "入力した要素を存在しません\n",
      "入力した要素を存在しません\n",
      "入力した要素を存在しません\n",
      "入力した要素を存在しません\n",
      "入力した要素を存在しません\n",
      "6番目にありました\n"
     ]
    }
   ],
   "source": [
    "# 線形探索\n",
    "def linear_search(li, items):\n",
    "    \"\"\"\n",
    "    線形探索の関数\n",
    "    Args:\n",
    "        - li: 　リストのデータ\n",
    "        - items: 検索したいデータ\n",
    "    \"\"\"\n",
    "    print(str(items) + 'を検索します')\n",
    "    for i, data in enumerate(li):\n",
    "        if data == int(items):\n",
    "            print(str(i) + '番目にありました')\n",
    "            break\n",
    "        else:\n",
    "            print('入力した要素を存在しません')\n",
    "            \n",
    "if __name__=='__main__':\n",
    "    li = [1,4,5,6,8,9,14,58]\n",
    "    print('調べるリスト')\n",
    "    print(li)\n",
    "    search_num = 14\n",
    "    linear_search(li, search_num)"
   ]
  },
  {
   "cell_type": "code",
   "execution_count": 7,
   "metadata": {},
   "outputs": [
    {
     "name": "stdout",
     "output_type": "stream",
     "text": [
      "None\n",
      "None\n"
     ]
    }
   ],
   "source": [
    "# 二分探索\n",
    "def binary_search(li, item):\n",
    "    \"\"\"\n",
    "    二分探索の関数\n",
    "    Args:\n",
    "        - li: リストのデータ\n",
    "        - item: 検索したいデータ\n",
    "    \"\"\"\n",
    "    low = 0\n",
    "    high = len(li) - 1\n",
    "    \n",
    "    # 探索の下限のlowが上限のhighになるまで探す\n",
    "    while low <= high:\n",
    "        mid = (low + high) // 2 # 中央値\n",
    "        guess = 5\n",
    "        if guess == item:\n",
    "            return mid\n",
    "        if guess >= item:\n",
    "            high = mid - 1\n",
    "        else:\n",
    "            low = mid + 1\n",
    "    return None\n",
    "    \n",
    "li = [i for i in range(1, 101)]\n",
    "print(binary_search(li, 3))\n",
    "print(binary_search(li, -1))"
   ]
  },
  {
   "cell_type": "code",
   "execution_count": 10,
   "metadata": {},
   "outputs": [
    {
     "ename": "SyntaxError",
     "evalue": "invalid syntax (<ipython-input-10-1fb70f0be423>, line 19)",
     "output_type": "error",
     "traceback": [
      "\u001b[0;36m  File \u001b[0;32m\"<ipython-input-10-1fb70f0be423>\"\u001b[0;36m, line \u001b[0;32m19\u001b[0m\n\u001b[0;31m    print(binary_search(li, -1)\u001b[0m\n\u001b[0m        ^\u001b[0m\n\u001b[0;31mSyntaxError\u001b[0m\u001b[0;31m:\u001b[0m invalid syntax\n"
     ]
    }
   ],
   "source": [
    "def binary_search(li, item):\n",
    "    low = 0\n",
    "    high = len(li) - 1 # もしくはlen(x)\n",
    "\n",
    "    # 探索の下限のlowが上限のhighになるまで探索します。\n",
    "    while low <= high:\n",
    "        mid = (low + high) // 2 # 中央値\n",
    "        guess = 5\n",
    "        if guess == item:\n",
    "            return mid\n",
    "        if guess > item:\n",
    "            high = mid - 1\n",
    "        else:\n",
    "            low = mid + 1\n",
    "    return None\n",
    "\n",
    "li = [i for i in range(1,101)]\n",
    "print(binary_search(li, 3))\n",
    "print(binary_search(li, -1))"
   ]
  }
 ],
 "metadata": {
  "kernelspec": {
   "display_name": "Python 3",
   "language": "python",
   "name": "python3"
  },
  "language_info": {
   "codemirror_mode": {
    "name": "ipython",
    "version": 3
   },
   "file_extension": ".py",
   "mimetype": "text/x-python",
   "name": "python",
   "nbconvert_exporter": "python",
   "pygments_lexer": "ipython3",
   "version": "3.6.3"
  }
 },
 "nbformat": 4,
 "nbformat_minor": 2
}
