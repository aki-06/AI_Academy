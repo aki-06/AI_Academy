{
 "cells": [
  {
   "cell_type": "code",
   "execution_count": 1,
   "metadata": {},
   "outputs": [
    {
     "name": "stdout",
     "output_type": "stream",
     "text": [
      "調べるリスト\n",
      "[1, 4, 5, 6, 8, 9, 14, 58]\n",
      "6を検索します\n",
      "入力した要素を存在しません\n",
      "入力した要素を存在しません\n",
      "入力した要素を存在しません\n",
      "3番目にありました\n"
     ]
    }
   ],
   "source": [
    "# 線形探索\n",
    "\"\"\"\n",
    "線形探索の関数\n",
    "li: 　リストのデータ\n",
    "items: 検索したいデータ\n",
    "\"\"\"\n",
    "def linear_search(li, items):\n",
    "    print(str(items) + 'を検索します')\n",
    "    for i, data in enumerate(li):\n",
    "        if data == int(items):\n",
    "            print(str(i) + '番目にありました')\n",
    "            break\n",
    "        else:\n",
    "            print('入力した要素を存在しません')\n",
    "            \n",
    "if __name__=='__main__':\n",
    "    li = [1,4,5,6,8,9,14,58]\n",
    "    print('調べるリスト')\n",
    "    print(li)\n",
    "    search_num = 14\n",
    "    linear_search(li, search_num)"
   ]
  }
 ],
 "metadata": {
  "kernelspec": {
   "display_name": "Python 3",
   "language": "python",
   "name": "python3"
  },
  "language_info": {
   "codemirror_mode": {
    "name": "ipython",
    "version": 3
   },
   "file_extension": ".py",
   "mimetype": "text/x-python",
   "name": "python",
   "nbconvert_exporter": "python",
   "pygments_lexer": "ipython3",
   "version": "3.6.3"
  }
 },
 "nbformat": 4,
 "nbformat_minor": 2
}
