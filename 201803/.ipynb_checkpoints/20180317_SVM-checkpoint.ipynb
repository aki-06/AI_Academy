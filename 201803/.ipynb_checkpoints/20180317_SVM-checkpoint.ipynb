{
 "cells": [
  {
   "cell_type": "code",
   "execution_count": 12,
   "metadata": {},
   "outputs": [
    {
     "name": "stdout",
     "output_type": "stream",
     "text": [
      "Modified Olivetti faces dataset.\n",
      "\n",
      "The original database was available from\n",
      "\n",
      "    http://www.cl.cam.ac.uk/research/dtg/attarchive/facedatabase.html\n",
      "\n",
      "The version retrieved here comes in MATLAB format from the personal\n",
      "web page of Sam Roweis:\n",
      "\n",
      "    http://www.cs.nyu.edu/~roweis/\n",
      "\n",
      "There are ten different images of each of 40 distinct subjects. For some\n",
      "subjects, the images were taken at different times, varying the lighting,\n",
      "facial expressions (open / closed eyes, smiling / not smiling) and facial\n",
      "details (glasses / no glasses). All the images were taken against a dark\n",
      "homogeneous background with the subjects in an upright, frontal position (with\n",
      "tolerance for some side movement).\n",
      "\n",
      "The original dataset consisted of 92 x 112, while the Roweis version\n",
      "consists of 64x64 images.\n",
      "\n"
     ]
    }
   ],
   "source": [
    "import sklearn as sk\n",
    "import numpy as np\n",
    "import matplotlib.pyplot as plt\n",
    "from sklearn.datasets import fetch_olivetti_faces\n",
    "\n",
    "faces = fetch_olivetti_faces()\n",
    "print(faces.DESCR)"
   ]
  },
  {
   "cell_type": "code",
   "execution_count": 13,
   "metadata": {},
   "outputs": [
    {
     "name": "stdout",
     "output_type": "stream",
     "text": [
      "dict_keys(['data', 'images', 'target', 'DESCR'])\n"
     ]
    }
   ],
   "source": [
    "# データの確認\n",
    "print(faces.keys())"
   ]
  },
  {
   "cell_type": "code",
   "execution_count": 14,
   "metadata": {},
   "outputs": [
    {
     "name": "stdout",
     "output_type": "stream",
     "text": [
      "(400, 4096)\n",
      "(400, 64, 64)\n",
      "(400,)\n"
     ]
    }
   ],
   "source": [
    "# 要素数の確認\n",
    "print(faces.data.shape)\n",
    "print(faces.images.shape)\n",
    "print(faces.target.shape)"
   ]
  },
  {
   "cell_type": "code",
   "execution_count": 21,
   "metadata": {},
   "outputs": [
    {
     "name": "stdout",
     "output_type": "stream",
     "text": [
      "[ 0.93333333  0.86666667  0.91666667  0.93333333  0.91666667]\n",
      "Mean Score: 0.9133333333333334 (+/-0.012247448713915886)\n"
     ]
    }
   ],
   "source": [
    "from sklearn.svm import SVC\n",
    "from sklearn.cross_validation import train_test_split, cross_val_score, KFold\n",
    "from scipy.stats import sem\n",
    "\n",
    "svc_1 = SVC(kernel='linear')\n",
    "X_train, X_test, y_train, y_test = train_test_split(faces.data, faces.target, test_size=0.25, random_state=0)\n",
    "\n",
    "def eval_cross_validation(clf, x, y, K):\n",
    "    cv = KFold(len(y), K, shuffle=True, random_state=0)\n",
    "    scores = cross_val_score(clf, x, y, cv=cv)\n",
    "    print(scores)\n",
    "    print('Mean Score: {} (+/-{})'.format(np.mean(scores), sem(scores)))\n",
    "    \n",
    "eval_cross_validation(svc_1, X_train, y_train, 5)\n"
   ]
  },
  {
   "cell_type": "code",
   "execution_count": null,
   "metadata": {
    "collapsed": true
   },
   "outputs": [],
   "source": [
    "def train_and_eval(clf, X_train, X_test, y_train, y_test):\n",
    "    clf.fit(X_train, y_train)\n",
    "    \n",
    "    print('Accurancy(学習データ): ', clf.score(X_train, y_train))\n",
    "    print('Accurancy(テストデータ): ', clf.score(X_test, y_test))\n",
    "    \n",
    "train_and_eval(svc_1, X_train, X_test, y_train, y_test)"
   ]
  }
 ],
 "metadata": {
  "kernelspec": {
   "display_name": "Python 3",
   "language": "python",
   "name": "python3"
  },
  "language_info": {
   "codemirror_mode": {
    "name": "ipython",
    "version": 3
   },
   "file_extension": ".py",
   "mimetype": "text/x-python",
   "name": "python",
   "nbconvert_exporter": "python",
   "pygments_lexer": "ipython3",
   "version": "3.6.3"
  }
 },
 "nbformat": 4,
 "nbformat_minor": 2
}
