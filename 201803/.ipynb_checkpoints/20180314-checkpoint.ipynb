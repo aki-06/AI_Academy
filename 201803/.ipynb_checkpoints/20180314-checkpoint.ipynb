{
 "cells": [
  {
   "cell_type": "code",
   "execution_count": 2,
   "metadata": {},
   "outputs": [
    {
     "data": {
      "image/png": "[encoded data removed]",
      "text/plain": [
       "<matplotlib.figure.Figure at 0x115e7b080>"
      ]
     },
     "metadata": {},
     "output_type": "display_data"
    }
   ],
   "source": [
    "# 単回帰\n",
    "import matplotlib.pyplot as plt\n",
    "\n",
    "# ピザの直径\n",
    "x = [[12], [16], [20], [28], [36]]\n",
    "\n",
    "# ピザの値段\n",
    "y = [[700], [900], [1300], [1750], [1800]]\n",
    "\n",
    "# 新規のウィンドウ\n",
    "plt.figure()\n",
    "\n",
    "# タイトル\n",
    "plt.title('Relation between diameter and price')\n",
    "\n",
    "# x軸\n",
    "plt.xlabel('diameter')\n",
    "\n",
    "# y軸\n",
    "plt.ylabel('price')\n",
    "\n",
    "# 散布図の作成\n",
    "plt.scatter(x, y)\n",
    "\n",
    "# 表の最小値・最大値\n",
    "plt.axis([0, 50, 0, 2500])\n",
    "\n",
    "# grid線\n",
    "plt.grid(True)\n",
    "\n",
    "plt.show()"
   ]
  },
  {
   "cell_type": "code",
   "execution_count": 8,
   "metadata": {},
   "outputs": [
    {
     "name": "stdout",
     "output_type": "stream",
     "text": [
      "1416.91810345\n"
     ]
    }
   ],
   "source": [
    "# 回帰のパッケージをインポート\n",
    "from sklearn.linear_model import LinearRegression\n",
    "\n",
    "# 使うモデルを指定\n",
    "model = LinearRegression()\n",
    "\n",
    "# 学習\n",
    "model.fit(x, y)\n",
    "\n",
    "# 予測\n",
    "price = model.predict(25)\n",
    "print('25 inches pizza should cost: $%s'%price[0][0])"
   ]
  }
 ],
 "metadata": {
  "kernelspec": {
   "display_name": "Python 3",
   "language": "python",
   "name": "python3"
  },
  "language_info": {
   "codemirror_mode": {
    "name": "ipython",
    "version": 3
   },
   "file_extension": ".py",
   "mimetype": "text/x-python",
   "name": "python",
   "nbconvert_exporter": "python",
   "pygments_lexer": "ipython3",
   "version": "3.6.3"
  }
 },
 "nbformat": 4,
 "nbformat_minor": 2
}
