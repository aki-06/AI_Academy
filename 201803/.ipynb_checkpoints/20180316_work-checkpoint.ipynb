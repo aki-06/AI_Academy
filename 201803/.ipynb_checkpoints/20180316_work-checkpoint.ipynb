{
 "cells": [
  {
   "cell_type": "code",
   "execution_count": 12,
   "metadata": {},
   "outputs": [
    {
     "data": {
      "text/html": [
       "<div>\n",
       "<style>\n",
       "    .dataframe thead tr:only-child th {\n",
       "        text-align: right;\n",
       "    }\n",
       "\n",
       "    .dataframe thead th {\n",
       "        text-align: left;\n",
       "    }\n",
       "\n",
       "    .dataframe tbody tr th {\n",
       "        vertical-align: top;\n",
       "    }\n",
       "</style>\n",
       "<table border=\"1\" class=\"dataframe\">\n",
       "  <thead>\n",
       "    <tr style=\"text-align: right;\">\n",
       "      <th></th>\n",
       "      <th>ID</th>\n",
       "      <th>問い合わせ</th>\n",
       "      <th>回答</th>\n",
       "      <th>回答(修正)</th>\n",
       "      <th>紐付けID</th>\n",
       "    </tr>\n",
       "  </thead>\n",
       "  <tbody>\n",
       "    <tr>\n",
       "      <th>0</th>\n",
       "      <td>ID-000001</td>\n",
       "      <td>インターネットが繋がらない</td>\n",
       "      <td>再起動してください</td>\n",
       "      <td>再起動するか、店舗にお持ちください</td>\n",
       "      <td>NaN</td>\n",
       "    </tr>\n",
       "    <tr>\n",
       "      <th>1</th>\n",
       "      <td>ID-000002</td>\n",
       "      <td>ネットに繋がらない</td>\n",
       "      <td>Wi-Fiに接続されているか確認してください</td>\n",
       "      <td>NaN</td>\n",
       "      <td>ID-000001</td>\n",
       "    </tr>\n",
       "    <tr>\n",
       "      <th>2</th>\n",
       "      <td>ID-000003</td>\n",
       "      <td>画面が壊れた</td>\n",
       "      <td>店舗にお持ちください</td>\n",
       "      <td>再起動するか、店舗にお持ちください</td>\n",
       "      <td>NaN</td>\n",
       "    </tr>\n",
       "    <tr>\n",
       "      <th>3</th>\n",
       "      <td>ID-000004</td>\n",
       "      <td>画面にヒビが入った</td>\n",
       "      <td>修理に出してください</td>\n",
       "      <td>NaN</td>\n",
       "      <td>ID-000003</td>\n",
       "    </tr>\n",
       "    <tr>\n",
       "      <th>4</th>\n",
       "      <td>ID-000005</td>\n",
       "      <td>エンターが効かない</td>\n",
       "      <td>修理に出してください</td>\n",
       "      <td>NaN</td>\n",
       "      <td>NaN</td>\n",
       "    </tr>\n",
       "  </tbody>\n",
       "</table>\n",
       "</div>"
      ],
      "text/plain": [
       "          ID          問い合わせ                      回答             回答(修正)  \\\n",
       "0  ID-000001  インターネットが繋がらない               再起動してください  再起動するか、店舗にお持ちください   \n",
       "1  ID-000002      ネットに繋がらない  Wi-Fiに接続されているか確認してください                NaN   \n",
       "2  ID-000003         画面が壊れた              店舗にお持ちください  再起動するか、店舗にお持ちください   \n",
       "3  ID-000004      画面にヒビが入った              修理に出してください                NaN   \n",
       "4  ID-000005      エンターが効かない              修理に出してください                NaN   \n",
       "\n",
       "       紐付けID  \n",
       "0        NaN  \n",
       "1  ID-000001  \n",
       "2        NaN  \n",
       "3  ID-000003  \n",
       "4        NaN  "
      ]
     },
     "metadata": {},
     "output_type": "display_data"
    }
   ],
   "source": [
    "import pandas as pd\n",
    "\n",
    "# csv読み込み\n",
    "df = pd.read_csv('20180307_sample.csv', encoding='cp932')\n",
    "df"
   ]
  },
  {
   "cell_type": "code",
   "execution_count": 13,
   "metadata": {},
   "outputs": [
    {
     "data": {
      "text/html": [
       "<div>\n",
       "<style>\n",
       "    .dataframe thead tr:only-child th {\n",
       "        text-align: right;\n",
       "    }\n",
       "\n",
       "    .dataframe thead th {\n",
       "        text-align: left;\n",
       "    }\n",
       "\n",
       "    .dataframe tbody tr th {\n",
       "        vertical-align: top;\n",
       "    }\n",
       "</style>\n",
       "<table border=\"1\" class=\"dataframe\">\n",
       "  <thead>\n",
       "    <tr style=\"text-align: right;\">\n",
       "      <th></th>\n",
       "      <th>紐付けID</th>\n",
       "    </tr>\n",
       "  </thead>\n",
       "  <tbody>\n",
       "    <tr>\n",
       "      <th>1</th>\n",
       "      <td>ID-000001</td>\n",
       "    </tr>\n",
       "    <tr>\n",
       "      <th>3</th>\n",
       "      <td>ID-000003</td>\n",
       "    </tr>\n",
       "  </tbody>\n",
       "</table>\n",
       "</div>"
      ],
      "text/plain": [
       "       紐付けID\n",
       "1  ID-000001\n",
       "3  ID-000003"
      ]
     },
     "execution_count": 13,
     "metadata": {},
     "output_type": "execute_result"
    }
   ],
   "source": [
    "# nanを除いた紐付けID列のみを抽出\n",
    "relation_df = df.drop(['ID', '問い合わせ', '回答', '回答(修正)'], axis=1).dropna()\n",
    "relation_df"
   ]
  },
  {
   "cell_type": "code",
   "execution_count": 16,
   "metadata": {},
   "outputs": [
    {
     "data": {
      "text/html": [
       "<div>\n",
       "<style>\n",
       "    .dataframe thead tr:only-child th {\n",
       "        text-align: right;\n",
       "    }\n",
       "\n",
       "    .dataframe thead th {\n",
       "        text-align: left;\n",
       "    }\n",
       "\n",
       "    .dataframe tbody tr th {\n",
       "        vertical-align: top;\n",
       "    }\n",
       "</style>\n",
       "<table border=\"1\" class=\"dataframe\">\n",
       "  <thead>\n",
       "    <tr style=\"text-align: right;\">\n",
       "      <th></th>\n",
       "      <th>紐付けID</th>\n",
       "    </tr>\n",
       "  </thead>\n",
       "  <tbody>\n",
       "  </tbody>\n",
       "</table>\n",
       "</div>"
      ],
      "text/plain": [
       "Empty DataFrame\n",
       "Columns: [紐付けID]\n",
       "Index: []"
      ]
     },
     "execution_count": 16,
     "metadata": {},
     "output_type": "execute_result"
    }
   ],
   "source": [
    "# 紐付けIDがID列に含まれていないことを確認\n",
    "check_df = relation_df[~relation_df['紐付けID'].isin(df['ID'].values)]\n",
    "check_df"
   ]
  }
 ],
 "metadata": {
  "kernelspec": {
   "display_name": "Python 3",
   "language": "python",
   "name": "python3"
  },
  "language_info": {
   "codemirror_mode": {
    "name": "ipython",
    "version": 3
   },
   "file_extension": ".py",
   "mimetype": "text/x-python",
   "name": "python",
   "nbconvert_exporter": "python",
   "pygments_lexer": "ipython3",
   "version": "3.6.3"
  }
 },
 "nbformat": 4,
 "nbformat_minor": 2
}
