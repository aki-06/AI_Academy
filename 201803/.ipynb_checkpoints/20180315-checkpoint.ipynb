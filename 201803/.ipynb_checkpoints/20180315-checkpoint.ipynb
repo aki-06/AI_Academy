{
 "cells": [
  {
   "cell_type": "code",
   "execution_count": 1,
   "metadata": {},
   "outputs": [
    {
     "data": {
      "image/png": "[encoded data removed]",
      "text/plain": [
       "<matplotlib.figure.Figure at 0x1067e2f60>"
      ]
     },
     "metadata": {},
     "output_type": "display_data"
    }
   ],
   "source": [
    "# 重回帰\n",
    "import matplotlib.pyplot as plt\n",
    "\n",
    "labels = ['A', 'B', 'C', 'D', 'E']\n",
    "data = [54, 32, 18, 44, 29]\n",
    "ex = [0.1, 0, 0, 0, 0] \n",
    "\n",
    "plt.pie(data, explode=ex, labels=labels, autopct=\"%1.1f%%\", counterclock=False)\n",
    "plt.show()"
   ]
  },
  {
   "cell_type": "code",
   "execution_count": 4,
   "metadata": {},
   "outputs": [
    {
     "name": "stdout",
     "output_type": "stream",
     "text": [
      "Predicted:[ 1006.25], Target:[1100]\n",
      "Predicted:[ 1028.125], Target:[850]\n",
      "Predicted:[ 1309.375], Target:[1500]\n",
      "Predicted:[ 1814.58333333], Target:[1800]\n",
      "Predicted:[ 1331.25], Target:[1100]\n",
      "r-squared: 0.770167773132\n"
     ]
    }
   ],
   "source": [
    "from sklearn.linear_model import LinearRegression\n",
    "\n",
    "# [ピザの直径, トッピングの数]\n",
    "X = [[12,2],[16,1],[20,0],[28,2],[36,0]]\n",
    "\n",
    "# 値段\n",
    "y = [[700],[900],[1300],[1750],[1800]]\n",
    "\n",
    "# モデル作成\n",
    "model = LinearRegression()\n",
    "\n",
    "# 学習\n",
    "model.fit(X, y)\n",
    "\n",
    "# テストデータ\n",
    "X_test = [[16,2],[18,0],[22,2],[32,2],[24,0]]\n",
    "y_test = [[1100],[850],[1500],[1800],[1100]]\n",
    "\n",
    "# 予測\n",
    "prices = model.predict(X_test)\n",
    "\n",
    "for i, price in enumerate(prices):\n",
    "    print('Predicted:%s, Target:%s'%(price, y_test[i]))\n",
    "\n",
    "score = model.score(X_test, y_test)\n",
    "print('r-squared:', score)"
   ]
  },
  {
   "cell_type": "code",
   "execution_count": 7,
   "metadata": {},
   "outputs": [
    {
     "name": "stdout",
     "output_type": "stream",
     "text": [
      "[ 0.10079427 -0.47461797 -0.13951049  1.01047552]\n",
      "--------------------------------------------------\n",
      "        3          2\n",
      "0.1008 x - 0.4746 x - 0.1395 x + 1.01\n"
     ]
    }
   ],
   "source": [
    "# 多項式回帰\n",
    "import numpy as np\n",
    "import matplotlib.pyplot as plt\n",
    "\n",
    "X = np.array([-1.2, -0.6, 0.0, 0.6, 1.2, 1.8, 2.4, 3.0, 3.6, 4.2])\n",
    "y = np.array([0.36, 0.83, 1.0, 0.8, 0.4, -0.2, -0.7, -1.0, -0.89, -0.49])\n",
    "\n",
    "z = np.polyfit(X, y, 3)\n",
    "print(z)\n",
    "print('-' * 50)\n",
    "p = np.poly1d(z)\n",
    "print(p)"
   ]
  },
  {
   "cell_type": "code",
   "execution_count": 9,
   "metadata": {},
   "outputs": [
    {
     "name": "stdout",
     "output_type": "stream",
     "text": [
      "[ -9.04152718e-18  -3.35624700e-17  -1.19980704e-16  -4.04822257e-16\n",
      "  -1.23628322e-15  -3.04424724e-15  -2.98407806e-15   3.13312982e-14\n",
      "   3.22731920e-13   2.15721634e-12   1.22330635e-11   6.27517946e-11\n",
      "   2.96703707e-10   1.28987124e-09   5.03382845e-09   1.64466408e-08\n",
      "   3.43150788e-08  -6.37325167e-08  -1.30519629e-06  -9.56006614e-06\n",
      "  -4.81909918e-05  -1.61870067e-04   1.15552036e-05   3.23969682e-03\n",
      "   2.96733279e-02  -1.08287573e-01   2.39152959e-02   2.25377720e-01\n",
      "  -5.26343781e-01  -9.22502842e-02   1.00000000e+00]\n",
      "--------------------------------------------------\n",
      "            30             29           28             27\n",
      "-9.042e-18 x  - 3.356e-17 x  - 1.2e-16 x  - 4.048e-16 x \n",
      "              26             25             24             23\n",
      " - 1.236e-15 x  - 3.044e-15 x  - 2.984e-15 x  + 3.133e-14 x \n",
      "              22             21             20             19\n",
      " + 3.227e-13 x  + 2.157e-12 x  + 1.223e-11 x  + 6.275e-11 x \n",
      "              18            17             16             15\n",
      " + 2.967e-10 x  + 1.29e-09 x  + 5.034e-09 x  + 1.645e-08 x \n",
      "              14             13             12            11\n",
      " + 3.432e-08 x  - 6.373e-08 x  - 1.305e-06 x  - 9.56e-06 x \n",
      "              10             9             8           7           6\n",
      " - 4.819e-05 x  - 0.0001619 x + 1.156e-05 x + 0.00324 x + 0.02967 x\n",
      "           5           4          3          2\n",
      " - 0.1083 x + 0.02392 x + 0.2254 x - 0.5263 x - 0.09225 x + 1\n"
     ]
    },
    {
     "name": "stderr",
     "output_type": "stream",
     "text": [
      "/Users/akihiro/anaconda3/lib/python3.6/site-packages/ipykernel_launcher.py:1: RankWarning: Polyfit may be poorly conditioned\n",
      "  \"\"\"Entry point for launching an IPython kernel.\n"
     ]
    }
   ],
   "source": [
    "z30 = np.polyfit(X, y, 30)\n",
    "print(z30)\n",
    "\n",
    "print('-'*50)\n",
    "\n",
    "p30 = np.poly1d(z30)\n",
    "print(p30)"
   ]
  },
  {
   "cell_type": "code",
   "execution_count": null,
   "metadata": {
    "collapsed": true
   },
   "outputs": [],
   "source": [
    "xp = np.linspace(-2, 5, 100)\n",
    "\n",
    "plt.plot(xp, np.cos(xp), '.', xp, p(xp), '-', xp, p30(xp), '*')\n",
    "plt.ylim(-3, 3)\n",
    "plt.grid(True)\n",
    "plt.show()"
   ]
  }
 ],
 "metadata": {
  "kernelspec": {
   "display_name": "Python 3",
   "language": "python",
   "name": "python3"
  },
  "language_info": {
   "codemirror_mode": {
    "name": "ipython",
    "version": 3
   },
   "file_extension": ".py",
   "mimetype": "text/x-python",
   "name": "python",
   "nbconvert_exporter": "python",
   "pygments_lexer": "ipython3",
   "version": "3.6.3"
  }
 },
 "nbformat": 4,
 "nbformat_minor": 2
}
