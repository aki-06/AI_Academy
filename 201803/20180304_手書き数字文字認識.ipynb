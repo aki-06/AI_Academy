{
 "cells": [
  {
   "cell_type": "code",
   "execution_count": 1,
   "metadata": {},
   "outputs": [
    {
     "name": "stdout",
     "output_type": "stream",
     "text": [
      "['DESCR', 'data', 'images', 'target', 'target_names']\n"
     ]
    },
    {
     "data": {
      "text/plain": [
       "'\\nDESCR データセットの説明文\\ndata 画像データ（特徴量: 訓練データとテストデータに使用します。）\\nimages 8×8の行列\\ntarget 画像データに対応する数字（ターゲット『ラベル』: 教師データと検証用データに使用します。）\\ntarget_names ターゲットの名前（書いた数字の種類）\\n'"
      ]
     },
     "execution_count": 1,
     "metadata": {},
     "output_type": "execute_result"
    }
   ],
   "source": [
    "# ライブラリの読み込み\n",
    "from sklearn import datasets\n",
    "from sklearn import svm\n",
    "from sklearn import metrics\n",
    "from sklearn.externals import joblib\n",
    "import matplotlib.pyplot as plt\n",
    "%matplotlib inline\n",
    "\n",
    "# データセットの読み込み\n",
    "digits = datasets.load_digits()\n",
    "print(dir(digits))\n",
    "\"\"\"\n",
    "DESCR データセットの説明文\n",
    "data 画像データ（特徴量: 訓練データとテストデータに使用します。）\n",
    "images 8×8の行列\n",
    "target 画像データに対応する数字（ターゲット『ラベル』: 教師データと検証用データに使用します。）\n",
    "target_names ターゲットの名前（書いた数字の種類）\n",
    "\"\"\""
   ]
  },
  {
   "cell_type": "code",
   "execution_count": 2,
   "metadata": {},
   "outputs": [
    {
     "name": "stdout",
     "output_type": "stream",
     "text": [
      "[[  0.   0.   5. ...,   0.   0.   0.]\n",
      " [  0.   0.   0. ...,  10.   0.   0.]\n",
      " [  0.   0.   0. ...,  16.   9.   0.]\n",
      " ..., \n",
      " [  0.   0.   1. ...,   6.   0.   0.]\n",
      " [  0.   0.   2. ...,  12.   0.   0.]\n",
      " [  0.   0.  10. ...,  12.   1.   0.]]\n",
      "(1797, 64)\n",
      "(1797,)\n"
     ]
    }
   ],
   "source": [
    "# digitデータセットのdataの値を出力\n",
    "print(digits.data)\n",
    "# digitデータセットのdataの構造を出力 1967×64の2次元配列 (1797, 64)\n",
    "print(digits.data.shape)\n",
    "# digitデータセットのtargetの構造を出力　要素が1797個の1次元配列\n",
    "print(digits.target.shape)"
   ]
  },
  {
   "cell_type": "code",
   "execution_count": 3,
   "metadata": {},
   "outputs": [
    {
     "name": "stdout",
     "output_type": "stream",
     "text": [
      "64\n",
      "[  0.   0.   5.  13.   9.   1.   0.   0.   0.   0.  13.  15.  10.  15.   5.\n",
      "   0.   0.   3.  15.   2.   0.  11.   8.   0.   0.   4.  12.   0.   0.   8.\n",
      "   8.   0.   0.   5.   8.   0.   0.   9.   8.   0.   0.   4.  11.   0.   1.\n",
      "  12.   7.   0.   0.   2.  14.   5.  10.  12.   0.   0.   0.   0.   6.  13.\n",
      "  10.   0.   0.   0.]\n",
      "(64,)\n"
     ]
    },
    {
     "data": {
      "image/png": "[encoded data removed]",
      "text/plain": [
       "<matplotlib.figure.Figure at 0x10b4d33c8>"
      ]
     },
     "metadata": {},
     "output_type": "display_data"
    }
   ],
   "source": [
    "# 中身の確認\n",
    "print(len(digits.data[0]))\n",
    "print(digits.data[0])\n",
    "print(digits.data[0].shape)\n",
    "\n",
    "import numpy as np\n",
    "img = np.reshape(digits.data[0], (8, 8))\n",
    "plt.imshow(img, cmap=plt.cm.gray_r, interpolation='nearest')\n",
    "plt.axis('off')\n",
    "plt.show()"
   ]
  },
  {
   "cell_type": "code",
   "execution_count": 4,
   "metadata": {},
   "outputs": [
    {
     "name": "stdout",
     "output_type": "stream",
     "text": [
      "num=1797\n"
     ]
    }
   ],
   "source": [
    "# データ数を取得\n",
    "num = len(digits.data)\n",
    "print('num=' + str(num)) # 1797枚の画像がある"
   ]
  },
  {
   "cell_type": "code",
   "execution_count": 5,
   "metadata": {},
   "outputs": [
    {
     "data": {
      "image/png": "[encoded data removed]",
      "text/plain": [
       "<matplotlib.figure.Figure at 0x10b6b2400>"
      ]
     },
     "metadata": {},
     "output_type": "display_data"
    }
   ],
   "source": [
    "# データセットの画像の確認\n",
    "images_and_labels = list(zip(digits.images, digits.target))\n",
    "for index, (image, label) in enumerate(images_and_labels[:10]):\n",
    "    plt.subplot(2, 5, index + 1)\n",
    "    plt.axis('off')\n",
    "    plt.imshow(image, cmap=plt.cm.gray_r, interpolation='nearest')\n",
    "    plt.title('Training: %i' % label)\n",
    "plt.show()"
   ]
  },
  {
   "cell_type": "code",
   "execution_count": 6,
   "metadata": {},
   "outputs": [
    {
     "name": "stdout",
     "output_type": "stream",
     "text": [
      "training_num=1198\n",
      "training_num_type=<class 'int'>\n",
      "training_num=1198\n",
      "training_num_type=<class 'int'>\n"
     ]
    }
   ],
   "source": [
    "training_num = num*2//3\n",
    "print('training_num=' + str(training_num))\n",
    "print('training_num_type=' + str(type(training_num)))\n",
    "\n",
    "training_num = int(num*2//3)\n",
    "print('training_num=' + str(training_num))\n",
    "print('training_num_type=' + str(type(training_num)))"
   ]
  },
  {
   "cell_type": "code",
   "execution_count": 7,
   "metadata": {},
   "outputs": [
    {
     "name": "stdout",
     "output_type": "stream",
     "text": [
      "[  0.   0.   5.  13.   9.   1.   0.   0.   0.   0.  13.  15.  10.  15.   5.\n",
      "   0.   0.   3.  15.   2.   0.  11.   8.   0.   0.   4.  12.   0.   0.   8.\n",
      "   8.   0.   0.   5.   8.   0.   0.   9.   8.   0.   0.   4.  11.   0.   1.\n",
      "  12.   7.   0.   0.   2.  14.   5.  10.  12.   0.   0.   0.   0.   6.  13.\n",
      "  10.   0.   0.   0.]\n"
     ]
    }
   ],
   "source": [
    "data = digits.images.reshape((num, -1))\n",
    "# 最初の文字のベクトル\n",
    "print(data[0])"
   ]
  },
  {
   "cell_type": "code",
   "execution_count": 8,
   "metadata": {},
   "outputs": [
    {
     "data": {
      "image/png": "[encoded data removed]",
      "text/plain": [
       "<matplotlib.figure.Figure at 0x1a11224eb8>"
      ]
     },
     "metadata": {},
     "output_type": "display_data"
    },
    {
     "data": {
      "text/plain": [
       "['./model.pkl']"
      ]
     },
     "execution_count": 8,
     "metadata": {},
     "output_type": "execute_result"
    }
   ],
   "source": [
    "# SVMによるモデル作成\n",
    "classifier = svm.SVC(gamma=0.001)\n",
    "\n",
    "X_train = data[:training_num]\n",
    "y_train = digits.target[:training_num]\n",
    "\n",
    "classifier.fit(X_train, y_train)\n",
    "\n",
    "excepted = digits.target[training_num:]\n",
    "predicted = classifier.predict(data[training_num:])\n",
    "images_and_predictions = list(zip(digits.images[training_num:], predicted))\n",
    "for index, (image, prediction) in enumerate(images_and_predictions[:10]):\n",
    "    plt.subplot(2, 5, index+1)\n",
    "    plt.axis('off')\n",
    "    plt.imshow(image, cmap=plt.cm.gray_r, interpolation='nearest')\n",
    "    plt.title('Prediction:%i' % prediction)\n",
    "plt.show()\n",
    "\n",
    "joblib.dump(classifier, './model.pkl')"
   ]
  }
 ],
 "metadata": {
  "kernelspec": {
   "display_name": "Python 3",
   "language": "python",
   "name": "python3"
  },
  "language_info": {
   "codemirror_mode": {
    "name": "ipython",
    "version": 3
   },
   "file_extension": ".py",
   "mimetype": "text/x-python",
   "name": "python",
   "nbconvert_exporter": "python",
   "pygments_lexer": "ipython3",
   "version": "3.6.3"
  }
 },
 "nbformat": 4,
 "nbformat_minor": 2
}
