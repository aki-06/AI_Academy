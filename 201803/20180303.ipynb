{
 "cells": [
  {
   "cell_type": "code",
   "execution_count": 4,
   "metadata": {},
   "outputs": [
    {
     "name": "stdout",
     "output_type": "stream",
     "text": [
      "調べるリスト\n",
      "[1, 4, 5, 6, 8, 9, 14, 58]\n",
      "14を検索します\n",
      "入力した要素を存在しません\n",
      "入力した要素を存在しません\n",
      "入力した要素を存在しません\n",
      "入力した要素を存在しません\n",
      "入力した要素を存在しません\n",
      "入力した要素を存在しません\n",
      "6番目にありました\n"
     ]
    }
   ],
   "source": [
    "# 線形探索\n",
    "def linear_search(li, items):\n",
    "    \"\"\"\n",
    "    線形探索の関数\n",
    "    Args:\n",
    "        - li: 　リストのデータ\n",
    "        - items: 検索したいデータ\n",
    "    \"\"\"\n",
    "    print(str(items) + 'を検索します')\n",
    "    for i, data in enumerate(li):\n",
    "        if data == int(items):\n",
    "            print(str(i) + '番目にありました')\n",
    "            break\n",
    "        else:\n",
    "            print('入力した要素を存在しません')\n",
    "            \n",
    "if __name__=='__main__':\n",
    "    li = [1,4,5,6,8,9,14,58]\n",
    "    print('調べるリスト')\n",
    "    print(li)\n",
    "    search_num = 14\n",
    "    linear_search(li, search_num)"
   ]
  },
  {
   "cell_type": "code",
   "execution_count": 7,
   "metadata": {},
   "outputs": [
    {
     "name": "stdout",
     "output_type": "stream",
     "text": [
      "None\n",
      "None\n"
     ]
    }
   ],
   "source": [
    "# 二分探索\n",
    "def binary_search(li, item):\n",
    "    \"\"\"\n",
    "    二分探索の関数\n",
    "    Args:\n",
    "        - li: リストのデータ\n",
    "        - item: 検索したいデータ\n",
    "    \"\"\"\n",
    "    low = 0\n",
    "    high = len(li) - 1\n",
    "    \n",
    "    # 探索の下限のlowが上限のhighになるまで探す\n",
    "    while low <= high:\n",
    "        mid = (low + high) // 2 # 中央値\n",
    "        guess = 5\n",
    "        if guess == item:\n",
    "            return mid\n",
    "        if guess >= item:\n",
    "            high = mid - 1\n",
    "        else:\n",
    "            low = mid + 1\n",
    "    return None\n",
    "    \n",
    "li = [i for i in range(1, 101)]\n",
    "print(binary_search(li, 3))\n",
    "print(binary_search(li, -1))"
   ]
  },
  {
   "cell_type": "code",
   "execution_count": 12,
   "metadata": {},
   "outputs": [
    {
     "name": "stdout",
     "output_type": "stream",
     "text": [
      "[12, 22, 33, 42, 59, 73, 82]\n"
     ]
    }
   ],
   "source": [
    "# リストの並び替え\n",
    "li = [12, 42, 33, 59, 82, 73, 22]\n",
    "sorted_list = sorted(li)\n",
    "print(sorted_list)"
   ]
  },
  {
   "cell_type": "code",
   "execution_count": 13,
   "metadata": {},
   "outputs": [
    {
     "name": "stdout",
     "output_type": "stream",
     "text": [
      "[0, 1, 2, 3, 4, 5, 6, 7, 8, 9, 10, 11, 12, 13, 14]\n"
     ]
    }
   ],
   "source": [
    "# バブルソート\n",
    "\"\"\"\n",
    "リストにおいて、隣り合う二つの要素を比較して条件に応じた交換を行う整列アルゴリズム\n",
    "\"\"\"\n",
    "def bubble_sort(l):\n",
    "    for index in range(len(l)-1, 0, -1):\n",
    "        for low in range(index):\n",
    "            if l[low] > l[low + 1]:\n",
    "                tmp = l[low + 1]\n",
    "                l[low + 1] = l[low]\n",
    "                l[low] = tmp\n",
    "    return l\n",
    "\n",
    "if __name__=='__main__':\n",
    "    from random import shuffle\n",
    "    l = list(range(15))\n",
    "    lcopy = l[:]\n",
    "    shuffle(l)\n",
    "    print(bubble_sort(l))"
   ]
  },
  {
   "cell_type": "code",
   "execution_count": 15,
   "metadata": {},
   "outputs": [
    {
     "name": "stdout",
     "output_type": "stream",
     "text": [
      "[2, 4, 5, 29, 51, 75, 94, 99, 195, 252]\n"
     ]
    }
   ],
   "source": [
    "# 挿入ソート\n",
    "def insert_sort(data):\n",
    "    for i in range(1, len(data)):\n",
    "        select = data[i]\n",
    "        if data[i-1] >= select:\n",
    "            j = i\n",
    "            data[j] = data[j -1]\n",
    "            j -= 1\n",
    "            while j > 0 and data[j-1] > select:\n",
    "                data[j] = data[j-1]\n",
    "                j -= 1\n",
    "            data[j] = select\n",
    "            \n",
    "data = [4,5,195,252,51,2,94,29,75,99]\n",
    "insert_sort(data)\n",
    "print(data)"
   ]
  },
  {
   "cell_type": "code",
   "execution_count": 16,
   "metadata": {},
   "outputs": [
    {
     "name": "stdout",
     "output_type": "stream",
     "text": [
      "[6, 18, 99, 24, 82, 45, 65, 55]\n"
     ]
    }
   ],
   "source": [
    "# マージソート\n",
    "def merge_sort(data):\n",
    "    def _merge(data1, data2):\n",
    "        result = []\n",
    "        item1 = data1[0]\n",
    "        item2 = data2[0]\n",
    "        while(True):\n",
    "            if item1 < item2:\n",
    "                result.append(data1.pop(0))\n",
    "                if len(data1) == 0:\n",
    "                    result.extend(data2)\n",
    "                    break\n",
    "                item1 = data1[0]\n",
    "            else:\n",
    "                result.append(data2.pop(0))\n",
    "                if len(data2) == 0:\n",
    "                    result.extend(data1)\n",
    "                    break\n",
    "                item2 = data[0]\n",
    "        return result\n",
    "    \n",
    "    def _split(data):\n",
    "        length = len(data)\n",
    "        data1 = data[0:length//2]\n",
    "        data2 = data[length//2:length]\n",
    "        return data1, data2\n",
    "    \n",
    "    def _merge_sort(data):\n",
    "        if len(data) <= 1:\n",
    "            return data\n",
    "        data1, data2 = _split(data)\n",
    "        return _merge(_merge_sort(data1), _merge_sort(data2))\n",
    "    \n",
    "    return _merge_sort(data)\n",
    "\n",
    "data = [6, 55, 65, 45, 24, 82, 99, 18]\n",
    "\n",
    "data = merge_sort(data)\n",
    "print(data)"
   ]
  },
  {
   "cell_type": "code",
   "execution_count": 17,
   "metadata": {
    "collapsed": true
   },
   "outputs": [],
   "source": [
    "# クイックソート\n",
    "def quick_sort(seq):\n",
    "    if len(seq) < 1:\n",
    "        return seq\n",
    "    pivod = seq[0]\n",
    "    left = []\n",
    "    right = []\n",
    "    for x in range(1, len(seq)):\n",
    "        if seq[x] <= pivod:\n",
    "            left.append(seq[x])\n",
    "        else:\n",
    "            right.append(seq[x])\n",
    "    left = quick_sort(left)\n",
    "    right = quick_sort(right)\n",
    "    foo = [pivod]\n",
    "    return left + pivod + right"
   ]
  },
  {
   "cell_type": "code",
   "execution_count": 25,
   "metadata": {
    "scrolled": true
   },
   "outputs": [
    {
     "name": "stdout",
     "output_type": "stream",
     "text": [
      "[11, 14, 21, 22, 55, 58, 58, 59, 80, 81, 99]\n"
     ]
    }
   ],
   "source": [
    "# ヒープソート\n",
    "def left(i):\n",
    "    return i*2+1\n",
    "\n",
    "def right(i):\n",
    "    return i*2+2\n",
    "\n",
    "def parent(i):\n",
    "    return (i-1)//2\n",
    "\n",
    "def heapify(data):\n",
    "    last = (len(data)-1)//2\n",
    "    for i in range(last, 0, -1):\n",
    "        while True:\n",
    "            if left(i) < len(data) and data[i] > data[left(i)]:\n",
    "                data[i], data[left(i)] = data[left(i)], data[i]\n",
    "            if right(i) < len(data) and data[i] > data[right(i)]:\n",
    "                data[i], data[right(i)] = data[right(i)], data[i]\n",
    "            if i == 0:\n",
    "                break\n",
    "            i = parent(i)\n",
    "    return data\n",
    "\n",
    "def heap_sort(data):\n",
    "    result = []\n",
    "    data = heapify(data)\n",
    "    for i in range(len(data)):\n",
    "        result.append(data.pop(0))\n",
    "        data = heapify(data)\n",
    "    return result\n",
    "\n",
    "data = [80,  14, 59, 58, 55, 11, 58, 99, 21, 22, 81]\n",
    "\n",
    "data = heap_sort(data)\n",
    "print(data)"
   ]
  },
  {
   "cell_type": "code",
   "execution_count": 31,
   "metadata": {},
   "outputs": [
    {
     "name": "stdout",
     "output_type": "stream",
     "text": [
      "[1, 2, 3, 4, 5]\n",
      "5\n",
      "[1, 2, 3, 4]\n",
      "[1, 2, 3]\n"
     ]
    }
   ],
   "source": [
    "# スタック\n",
    "stack = [1, 2, 3]\n",
    "stack.append(4)\n",
    "stack.append(5)\n",
    "print(stack)\n",
    "\n",
    "print(stack.pop())\n",
    "print(stack)\n",
    "stack.pop()\n",
    "print(stack)"
   ]
  },
  {
   "cell_type": "code",
   "execution_count": 32,
   "metadata": {},
   "outputs": [
    {
     "name": "stdout",
     "output_type": "stream",
     "text": [
      "deque(['ruby', 'python'])\n"
     ]
    }
   ],
   "source": [
    "# キュー\n",
    "from collections import deque\n",
    "q = deque(['php', 'java', 'ruby'])\n",
    "q.append('python')\n",
    "q.popleft()\n",
    "q.popleft()\n",
    "print(q)"
   ]
  }
 ],
 "metadata": {
  "kernelspec": {
   "display_name": "Python 3",
   "language": "python",
   "name": "python3"
  },
  "language_info": {
   "codemirror_mode": {
    "name": "ipython",
    "version": 3
   },
   "file_extension": ".py",
   "mimetype": "text/x-python",
   "name": "python",
   "nbconvert_exporter": "python",
   "pygments_lexer": "ipython3",
   "version": "3.6.3"
  }
 },
 "nbformat": 4,
 "nbformat_minor": 2
}
