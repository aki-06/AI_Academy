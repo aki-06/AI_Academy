{
 "cells": [
  {
   "cell_type": "code",
   "execution_count": 4,
   "metadata": {},
   "outputs": [
    {
     "name": "stdout",
     "output_type": "stream",
     "text": [
      "調べるリスト\n",
      "[1, 4, 5, 6, 8, 9, 14, 58]\n",
      "14を検索します\n",
      "入力した要素を存在しません\n",
      "入力した要素を存在しません\n",
      "入力した要素を存在しません\n",
      "入力した要素を存在しません\n",
      "入力した要素を存在しません\n",
      "入力した要素を存在しません\n",
      "6番目にありました\n"
     ]
    }
   ],
   "source": [
    "# 線形探索\n",
    "def linear_search(li, items):\n",
    "    \"\"\"\n",
    "    線形探索の関数\n",
    "    Args:\n",
    "        - li: 　リストのデータ\n",
    "        - items: 検索したいデータ\n",
    "    \"\"\"\n",
    "    print(str(items) + 'を検索します')\n",
    "    for i, data in enumerate(li):\n",
    "        if data == int(items):\n",
    "            print(str(i) + '番目にありました')\n",
    "            break\n",
    "        else:\n",
    "            print('入力した要素を存在しません')\n",
    "            \n",
    "if __name__=='__main__':\n",
    "    li = [1,4,5,6,8,9,14,58]\n",
    "    print('調べるリスト')\n",
    "    print(li)\n",
    "    search_num = 14\n",
    "    linear_search(li, search_num)"
   ]
  },
  {
   "cell_type": "code",
   "execution_count": 7,
   "metadata": {},
   "outputs": [
    {
     "name": "stdout",
     "output_type": "stream",
     "text": [
      "None\n",
      "None\n"
     ]
    }
   ],
   "source": [
    "# 二分探索\n",
    "def binary_search(li, item):\n",
    "    \"\"\"\n",
    "    二分探索の関数\n",
    "    Args:\n",
    "        - li: リストのデータ\n",
    "        - item: 検索したいデータ\n",
    "    \"\"\"\n",
    "    low = 0\n",
    "    high = len(li) - 1\n",
    "    \n",
    "    # 探索の下限のlowが上限のhighになるまで探す\n",
    "    while low <= high:\n",
    "        mid = (low + high) // 2 # 中央値\n",
    "        guess = 5\n",
    "        if guess == item:\n",
    "            return mid\n",
    "        if guess >= item:\n",
    "            high = mid - 1\n",
    "        else:\n",
    "            low = mid + 1\n",
    "    return None\n",
    "    \n",
    "li = [i for i in range(1, 101)]\n",
    "print(binary_search(li, 3))\n",
    "print(binary_search(li, -1))"
   ]
  },
  {
   "cell_type": "code",
   "execution_count": 12,
   "metadata": {},
   "outputs": [
    {
     "name": "stdout",
     "output_type": "stream",
     "text": [
      "[12, 22, 33, 42, 59, 73, 82]\n"
     ]
    }
   ],
   "source": [
    "# リストの並び替え\n",
    "li = [12, 42, 33, 59, 82, 73, 22]\n",
    "sorted_list = sorted(li)\n",
    "print(sorted_list)"
   ]
  },
  {
   "cell_type": "code",
   "execution_count": 13,
   "metadata": {},
   "outputs": [
    {
     "name": "stdout",
     "output_type": "stream",
     "text": [
      "[0, 1, 2, 3, 4, 5, 6, 7, 8, 9, 10, 11, 12, 13, 14]\n"
     ]
    }
   ],
   "source": [
    "# バブルソート\n",
    "\"\"\"\n",
    "リストにおいて、隣り合う二つの要素を比較して条件に応じた交換を行う整列アルゴリズム\n",
    "\"\"\"\n",
    "def bubble_sort(l):\n",
    "    for index in range(len(l)-1, 0, -1):\n",
    "        for low in range(index):\n",
    "            if l[low] > l[low + 1]:\n",
    "                tmp = l[low + 1]\n",
    "                l[low + 1] = l[low]\n",
    "                l[low] = tmp\n",
    "    return l\n",
    "\n",
    "if __name__=='__main__':\n",
    "    from random import shuffle\n",
    "    l = list(range(15))\n",
    "    lcopy = l[:]\n",
    "    shuffle(l)\n",
    "    print(bubble_sort(l))"
   ]
  },
  {
   "cell_type": "code",
   "execution_count": 15,
   "metadata": {},
   "outputs": [
    {
     "name": "stdout",
     "output_type": "stream",
     "text": [
      "[2, 4, 5, 29, 51, 75, 94, 99, 195, 252]\n"
     ]
    }
   ],
   "source": [
    "# 挿入ソート\n",
    "def insert_sort(data):\n",
    "    for i in range(1, len(data)):\n",
    "        select = data[i]\n",
    "        if data[i-1] >= select:\n",
    "            j = i\n",
    "            data[j] = data[j -1]\n",
    "            j -= 1\n",
    "            while j > 0 and data[j-1] > select:\n",
    "                data[j] = data[j-1]\n",
    "                j -= 1\n",
    "            data[j] = select\n",
    "            \n",
    "data = [4,5,195,252,51,2,94,29,75,99]\n",
    "insert_sort(data)\n",
    "print(data)"
   ]
  }
 ],
 "metadata": {
  "kernelspec": {
   "display_name": "Python 3",
   "language": "python",
   "name": "python3"
  },
  "language_info": {
   "codemirror_mode": {
    "name": "ipython",
    "version": 3
   },
   "file_extension": ".py",
   "mimetype": "text/x-python",
   "name": "python",
   "nbconvert_exporter": "python",
   "pygments_lexer": "ipython3",
   "version": "3.6.3"
  }
 },
 "nbformat": 4,
 "nbformat_minor": 2
}
