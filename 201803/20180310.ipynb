{
 "cells": [
  {
   "cell_type": "code",
   "execution_count": 4,
   "metadata": {},
   "outputs": [
    {
     "name": "stdout",
     "output_type": "stream",
     "text": [
      "10\n",
      "27\n"
     ]
    }
   ],
   "source": [
    "# 関数の基礎\n",
    "def times(x, y):\n",
    "    return x * y\n",
    "\n",
    "print(times(2, 5))\n",
    "\n",
    "t = times(3, 9)\n",
    "print(t)"
   ]
  },
  {
   "cell_type": "code",
   "execution_count": 8,
   "metadata": {},
   "outputs": [
    {
     "name": "stdout",
     "output_type": "stream",
     "text": [
      "['S', 'A', 'M']\n"
     ]
    }
   ],
   "source": [
    "def intersect(seq1, seq2):\n",
    "    res = []\n",
    "    for i in seq1:\n",
    "        if i in seq2:\n",
    "            res.append(i)         \n",
    "    return res\n",
    "\n",
    "s1 = 'SPAM'\n",
    "s2 = 'SCAM'\n",
    "\n",
    "y = intersect(s1, s2)\n",
    "print(y)"
   ]
  }
 ],
 "metadata": {
  "kernelspec": {
   "display_name": "Python 3",
   "language": "python",
   "name": "python3"
  },
  "language_info": {
   "codemirror_mode": {
    "name": "ipython",
    "version": 3
   },
   "file_extension": ".py",
   "mimetype": "text/x-python",
   "name": "python",
   "nbconvert_exporter": "python",
   "pygments_lexer": "ipython3",
   "version": "3.6.3"
  }
 },
 "nbformat": 4,
 "nbformat_minor": 2
}
