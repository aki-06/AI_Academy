{
 "cells": [
  {
   "cell_type": "markdown",
   "metadata": {},
   "source": [
    "# AI Academy 手書き数字文字認識\n",
    "http://aiacademy.jp/texts/ai/31/#part11"
   ]
  },
  {
   "cell_type": "markdown",
   "metadata": {},
   "source": [
    "# 機械学習の手順\n",
    "\n",
    "## 1. データの収集\n",
    "\n",
    "スクレイピングなど様々な方法でデータを収集します。\n",
    "\n",
    "## 2. データの整形（前処理）とどのデータを利用するか選択する\n",
    "\n",
    "集めたデータを前処理します。<br>\n",
    "通常集めたデータには不要なゴミデータがありますので、それら削除したり、整形したりします。\n",
    "\n",
    "## 3. モデルの構築と学習(fit)\n",
    "\n",
    "モデルの構築を行うにあたり、どの手法やパラメータを利用するのかを決め、学習を行います。\n",
    "\n",
    "\n",
    "## 4. モデルの評価\n",
    "学習が終わったモデルは学習済みモデルと呼びますが、このモデルの精度を調べたり評価を行います。<br>\n",
    "その際にはテストデータを利用し分類精度を評価します。<br>\n",
    "精度が悪い場合は改めて3. モデルの構築と学習(fit)のフェーズに戻ります。\n",
    "場合によっては、データの収集から始め直すこともあります。"
   ]
  },
  {
   "cell_type": "code",
   "execution_count": 9,
   "metadata": {},
   "outputs": [
    {
     "name": "stdout",
     "output_type": "stream",
     "text": [
      "Optical Recognition of Handwritten Digits Data Set\n",
      "===================================================\n",
      "\n",
      "Notes\n",
      "-----\n",
      "Data Set Characteristics:\n",
      "    :Number of Instances: 5620\n",
      "    :Number of Attributes: 64\n",
      "    :Attribute Information: 8x8 image of integer pixels in the range 0..16.\n",
      "    :Missing Attribute Values: None\n",
      "    :Creator: E. Alpaydin (alpaydin '@' boun.edu.tr)\n",
      "    :Date: July; 1998\n",
      "\n",
      "This is a copy of the test set of the UCI ML hand-written digits datasets\n",
      "http://archive.ics.uci.edu/ml/datasets/Optical+Recognition+of+Handwritten+Digits\n",
      "\n",
      "The data set contains images of hand-written digits: 10 classes where\n",
      "each class refers to a digit.\n",
      "\n",
      "Preprocessing programs made available by NIST were used to extract\n",
      "normalized bitmaps of handwritten digits from a preprinted form. From a\n",
      "total of 43 people, 30 contributed to the training set and different 13\n",
      "to the test set. 32x32 bitmaps are divided into nonoverlapping blocks of\n",
      "4x4 and the number of on pixels are counted in each block. This generates\n",
      "an input matrix of 8x8 where each element is an integer in the range\n",
      "0..16. This reduces dimensionality and gives invariance to small\n",
      "distortions.\n",
      "\n",
      "For info on NIST preprocessing routines, see M. D. Garris, J. L. Blue, G.\n",
      "T. Candela, D. L. Dimmick, J. Geist, P. J. Grother, S. A. Janet, and C.\n",
      "L. Wilson, NIST Form-Based Handprint Recognition System, NISTIR 5469,\n",
      "1994.\n",
      "\n",
      "References\n",
      "----------\n",
      "  - C. Kaynak (1995) Methods of Combining Multiple Classifiers and Their\n",
      "    Applications to Handwritten Digit Recognition, MSc Thesis, Institute of\n",
      "    Graduate Studies in Science and Engineering, Bogazici University.\n",
      "  - E. Alpaydin, C. Kaynak (1998) Cascading Classifiers, Kybernetika.\n",
      "  - Ken Tang and Ponnuthurai N. Suganthan and Xi Yao and A. Kai Qin.\n",
      "    Linear dimensionalityreduction using relevance weighted LDA. School of\n",
      "    Electrical and Electronic Engineering Nanyang Technological University.\n",
      "    2005.\n",
      "  - Claudio Gentile. A New Approximate Maximal Margin Classification\n",
      "    Algorithm. NIPS. 2000.\n",
      "\n"
     ]
    }
   ],
   "source": [
    "\"\"\"\n",
    "手書き数字データセット(Optical Recognition of Handwritten Digits Data Set / 手書き数字の光学認識データセット)\n",
    "\n",
    "1797枚の画像\n",
    "0〜9までの手書き数字で、1画像1文字\n",
    "1画像のサイズは8×8ピクセル。合計で64ピクセルです\n",
    "グレイスケールで1ピクセルを0(薄い)として、16(濃い)までの範囲で表します。\n",
    "\"\"\"\n",
    "\n",
    "from sklearn.datasets import load_digits\n",
    "digits = load_digits()\n",
    "print(digits.DESCR)"
   ]
  },
  {
   "cell_type": "code",
   "execution_count": 12,
   "metadata": {
    "collapsed": true
   },
   "outputs": [],
   "source": [
    "i = 0"
   ]
  },
  {
   "cell_type": "code",
   "execution_count": 13,
   "metadata": {},
   "outputs": [
    {
     "data": {
      "text/plain": [
       "array([  0.,   0.,   5.,  13.,   9.,   1.,   0.,   0.,   0.,   0.,  13.,\n",
       "        15.,  10.,  15.,   5.,   0.,   0.,   3.,  15.,   2.,   0.,  11.,\n",
       "         8.,   0.,   0.,   4.,  12.,   0.,   0.,   8.,   8.,   0.,   0.,\n",
       "         5.,   8.,   0.,   0.,   9.,   8.,   0.,   0.,   4.,  11.,   0.,\n",
       "         1.,  12.,   7.,   0.,   0.,   2.,  14.,   5.,  10.,  12.,   0.,\n",
       "         0.,   0.,   0.,   6.,  13.,  10.,   0.,   0.,   0.])"
      ]
     },
     "execution_count": 13,
     "metadata": {},
     "output_type": "execute_result"
    }
   ],
   "source": [
    "digits.data[i] # データの一覧 0〜16の範囲で表されている。(1次元の配列データ)"
   ]
  },
  {
   "cell_type": "code",
   "execution_count": 14,
   "metadata": {},
   "outputs": [
    {
     "data": {
      "text/plain": [
       "0"
      ]
     },
     "execution_count": 14,
     "metadata": {},
     "output_type": "execute_result"
    }
   ],
   "source": [
    "digits.target[i] # ラベル"
   ]
  },
  {
   "cell_type": "code",
   "execution_count": null,
   "metadata": {},
   "outputs": [],
   "source": [
    "from sklearn import svm\n",
    "from sklearn.model_selection import train_test_split\n",
    "from sklearn.externals import joblib\n",
    "\n",
    "# train_test_split()は標準で、学習データを0.75、テストデータを0.25に設定されています。\n",
    "X_train, x_test, y_train, y_test = train_test_split(digits.data, digits.target)\n",
    "\n",
    "# 学習\n",
    "model = svm.SVC()\n",
    "\n",
    "\"\"\"\n",
    "演習問題1\n",
    "SVCのアルゴリズムにはいくつか種類があります。\n",
    "学習アルゴリズムが変更し、モデルを学習してどのモデルが良い精度が出せるか試してみてください。\n",
    "\n",
    "LinearSVC/NuSVC/NuSVR/OneClassSVM\n",
    "\n",
    "\"\"\"\n",
    "\n",
    "# model = svm.NuSVC()\n",
    "# model = svm.LinearSVC()\n",
    "# model = svm.NuSVR()\n",
    "# model = svm.OneClassSVM()\n",
    "\n",
    "model.fit(X_train, y_train)\n",
    "\n",
    "# モデルの評価\n",
    "pred   = model.predict(x_test)\n",
    "result = list(pred == y_test).count(True) / len(y_test)\n",
    "print(\"正解率は\" + str(result))"
   ]
  },
  {
   "cell_type": "code",
   "execution_count": 21,
   "metadata": {},
   "outputs": [
    {
     "data": {
      "text/plain": [
       "['linear_svc.pkl']"
      ]
     },
     "execution_count": 21,
     "metadata": {},
     "output_type": "execute_result"
    }
   ],
   "source": [
    "# モデルの保存\n",
    "joblib.dump(model, \"linear_svc.pkl\", compress=True)\n",
    "\n",
    "# 今回画像のチューニングには触れませんが、チューニングをする場合、\n",
    "# 自前のデータの選び直しから始めたり、学習データを増やしたり、水増ししたり、画像の解像度を高くしたり、学習アルゴリズムを変更したりなど色々と方法はあります。"
   ]
  },
  {
   "cell_type": "code",
   "execution_count": null,
   "metadata": {
    "collapsed": true
   },
   "outputs": [],
   "source": []
  }
 ],
 "metadata": {
  "kernelspec": {
   "display_name": "Python 3",
   "language": "python",
   "name": "python3"
  },
  "language_info": {
   "codemirror_mode": {
    "name": "ipython",
    "version": 3
   },
   "file_extension": ".py",
   "mimetype": "text/x-python",
   "name": "python",
   "nbconvert_exporter": "python",
   "pygments_lexer": "ipython3",
   "version": "3.6.3"
  }
 },
 "nbformat": 4,
 "nbformat_minor": 2
}
