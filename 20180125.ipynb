{
 "cells": [
  {
   "cell_type": "code",
   "execution_count": 1,
   "metadata": {},
   "outputs": [
    {
     "name": "stdout",
     "output_type": "stream",
     "text": [
      "[[-0.12493383 -0.11731664 -0.9205801   0.30915741  1.05113253]\n",
      " [-0.54575397  0.48990821  0.65545439  0.40194981  0.05469872]\n",
      " [-0.93738544  0.42203839  0.15978852  1.26399152 -0.23779847]\n",
      " [-0.27828554 -1.19079286 -0.12298422  0.98575431 -0.80810093]\n",
      " [ 0.65807115 -0.06588705  0.07801641 -0.0833836  -0.36203156]]\n",
      "[[-0.12493383 -0.11731664 -0.9205801   0.30915741  1.05113253]\n",
      " [ 0.65807115 -0.06588705  0.07801641 -0.0833836  -0.36203156]]\n"
     ]
    }
   ],
   "source": [
    "# ブールインデックス参照\n",
    "\n",
    "\"\"\"\n",
    "ブールの役割を利用して、データを取り出す。\n",
    "配列の参照に、配列と同じサイズのブール値配列を渡すことで、\n",
    "Trueのインデックスの値のみを取り出すことができる。\n",
    "\"\"\"\n",
    "import numpy as np\n",
    "\n",
    "names = np.array(['a', 'b', 'c', 'd', 'a'])\n",
    "data = np.random.randn(5, 5)\n",
    "\n",
    "t = names == 'a' # [True,False,False,False,True]\n",
    "\n",
    "print(data)\n",
    "print(data[t]) # 0番目と4番目の値が出力される"
   ]
  },
  {
   "cell_type": "code",
   "execution_count": 2,
   "metadata": {},
   "outputs": [
    {
     "name": "stdout",
     "output_type": "stream",
     "text": [
      "[ 0.          1.          1.41421356  1.73205081  2.          2.23606798\n",
      "  2.44948974  2.64575131  2.82842712  3.        ]\n",
      "[  1.00000000e+00   2.71828183e+00   7.38905610e+00   2.00855369e+01\n",
      "   5.45981500e+01   1.48413159e+02   4.03428793e+02   1.09663316e+03\n",
      "   2.98095799e+03   8.10308393e+03]\n"
     ]
    }
   ],
   "source": [
    "# ユニバーサル関数\n",
    "import numpy as np\n",
    "\n",
    "sample_data = np.arange(10)\n",
    "print(np.sqrt(sample_data))\n",
    "print(np.exp(sample_data))"
   ]
  },
  {
   "cell_type": "code",
   "execution_count": 4,
   "metadata": {},
   "outputs": [
    {
     "name": "stdout",
     "output_type": "stream",
     "text": [
      "[[0 1 2]\n",
      " [3 4 5]\n",
      " [6 7 8]]\n"
     ]
    }
   ],
   "source": [
    "import numpy as np\n",
    "\n",
    "sample_multi_array_data1 = np.arange(9).reshape(3, 3)\n",
    "print(sample_multi_array_data1)"
   ]
  },
  {
   "cell_type": "code",
   "execution_count": 5,
   "metadata": {},
   "outputs": [
    {
     "name": "stdout",
     "output_type": "stream",
     "text": [
      "平均 4.0\n"
     ]
    }
   ],
   "source": [
    "print('平均', sample_multi_array_data1.mean())"
   ]
  },
  {
   "cell_type": "code",
   "execution_count": 6,
   "metadata": {},
   "outputs": [
    {
     "name": "stdout",
     "output_type": "stream",
     "text": [
      "最大 8\n"
     ]
    }
   ],
   "source": [
    "print('最大', sample_multi_array_data1.max())"
   ]
  },
  {
   "cell_type": "code",
   "execution_count": 7,
   "metadata": {},
   "outputs": [
    {
     "name": "stdout",
     "output_type": "stream",
     "text": [
      "最小 0\n"
     ]
    }
   ],
   "source": [
    "print('最小', sample_multi_array_data1.min())"
   ]
  },
  {
   "cell_type": "code",
   "execution_count": 8,
   "metadata": {},
   "outputs": [
    {
     "name": "stdout",
     "output_type": "stream",
     "text": [
      "合計 36\n"
     ]
    }
   ],
   "source": [
    "print('合計', sample_multi_array_data1.sum())"
   ]
  },
  {
   "cell_type": "code",
   "execution_count": 10,
   "metadata": {},
   "outputs": [
    {
     "name": "stdout",
     "output_type": "stream",
     "text": [
      "行の合計 [ 3 12 21]\n"
     ]
    }
   ],
   "source": [
    "print('行の合計', sample_multi_array_data1.sum(axis=1))"
   ]
  },
  {
   "cell_type": "code",
   "execution_count": 11,
   "metadata": {},
   "outputs": [
    {
     "name": "stdout",
     "output_type": "stream",
     "text": [
      "列の合計 [ 9 12 15]\n"
     ]
    }
   ],
   "source": [
    "print('列の合計', sample_multi_array_data1.sum(axis=0))"
   ]
  },
  {
   "cell_type": "code",
   "execution_count": 12,
   "metadata": {},
   "outputs": [
    {
     "name": "stdout",
     "output_type": "stream",
     "text": [
      "[1 2 3 4 5]\n"
     ]
    }
   ],
   "source": [
    "# 多次元配列の計算\n",
    "\"\"\"\n",
    "多次元配列とは、数字の集合であり、数字をN次元状に並べたもの\n",
    "\"\"\"\n",
    "import numpy as np\n",
    "n1 = np.array([1, 2, 3, 4, 5])\n",
    "print(n1)"
   ]
  },
  {
   "cell_type": "code",
   "execution_count": 14,
   "metadata": {},
   "outputs": [
    {
     "data": {
      "text/plain": [
       "1"
      ]
     },
     "execution_count": 14,
     "metadata": {},
     "output_type": "execute_result"
    }
   ],
   "source": [
    "# 配列の次元数をnp.ndim()で取得\n",
    "np.ndim(n1)"
   ]
  },
  {
   "cell_type": "code",
   "execution_count": 16,
   "metadata": {},
   "outputs": [
    {
     "data": {
      "text/plain": [
       "(5,)"
      ]
     },
     "execution_count": 16,
     "metadata": {},
     "output_type": "execute_result"
    }
   ],
   "source": [
    "# 配列の形状取得\n",
    "n1.shape"
   ]
  },
  {
   "cell_type": "code",
   "execution_count": 17,
   "metadata": {},
   "outputs": [
    {
     "name": "stdout",
     "output_type": "stream",
     "text": [
      "[[1 2]\n",
      " [3 4]\n",
      " [5 6]]\n"
     ]
    }
   ],
   "source": [
    "n2 = np.array([[1, 2], [3, 4], [5, 6]])\n",
    "print(n2)"
   ]
  },
  {
   "cell_type": "code",
   "execution_count": 18,
   "metadata": {},
   "outputs": [
    {
     "data": {
      "text/plain": [
       "2"
      ]
     },
     "execution_count": 18,
     "metadata": {},
     "output_type": "execute_result"
    }
   ],
   "source": [
    "np.ndim(n2)"
   ]
  },
  {
   "cell_type": "code",
   "execution_count": 19,
   "metadata": {},
   "outputs": [
    {
     "data": {
      "text/plain": [
       "(3, 2)"
      ]
     },
     "execution_count": 19,
     "metadata": {},
     "output_type": "execute_result"
    }
   ],
   "source": [
    "# 3*2の配列\n",
    "# 最初の次元に３つの要素があり、次の次元に２つの要素がある\n",
    "n2.shape"
   ]
  },
  {
   "cell_type": "code",
   "execution_count": 20,
   "metadata": {},
   "outputs": [
    {
     "name": "stdout",
     "output_type": "stream",
     "text": [
      "[1 2 3 4 5]\n"
     ]
    }
   ],
   "source": [
    "# アレイを作る\n",
    "\"\"\"\n",
    "Pythonのリストを元にアレイを作る\n",
    "\"\"\"\n",
    "import numpy as np\n",
    "\n",
    "my_list1 = [1, 2, 3, 4, 5]\n",
    "my_array1 = np.array(my_list1)\n",
    "print(my_array1)"
   ]
  },
  {
   "cell_type": "code",
   "execution_count": 21,
   "metadata": {},
   "outputs": [
    {
     "name": "stdout",
     "output_type": "stream",
     "text": [
      "[10 20 30 40 50]\n"
     ]
    }
   ],
   "source": [
    "my_list2 = [10, 20, 30, 40, 50]\n",
    "my_array2 = np.array(my_list2)\n",
    "print(my_array2)"
   ]
  },
  {
   "cell_type": "code",
   "execution_count": 23,
   "metadata": {},
   "outputs": [
    {
     "name": "stdout",
     "output_type": "stream",
     "text": [
      "[[1, 2, 3, 4, 5], [10, 20, 30, 40, 50]]\n"
     ]
    }
   ],
   "source": [
    "my_lists = [my_list1, my_list2]\n",
    "print(my_lists)"
   ]
  },
  {
   "cell_type": "code",
   "execution_count": 24,
   "metadata": {},
   "outputs": [
    {
     "name": "stdout",
     "output_type": "stream",
     "text": [
      "[[ 1  2  3  4  5]\n",
      " [10 20 30 40 50]]\n"
     ]
    }
   ],
   "source": [
    "my_lists2 = np.array(my_lists)\n",
    "print(my_lists2)"
   ]
  }
 ],
 "metadata": {
  "kernelspec": {
   "display_name": "Python 3",
   "language": "python",
   "name": "python3"
  },
  "language_info": {
   "codemirror_mode": {
    "name": "ipython",
    "version": 3
   },
   "file_extension": ".py",
   "mimetype": "text/x-python",
   "name": "python",
   "nbconvert_exporter": "python",
   "pygments_lexer": "ipython3",
   "version": "3.6.3"
  }
 },
 "nbformat": 4,
 "nbformat_minor": 2
}
