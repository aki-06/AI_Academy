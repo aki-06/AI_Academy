{
 "cells": [
  {
   "cell_type": "code",
   "execution_count": 1,
   "metadata": {},
   "outputs": [
    {
     "name": "stdout",
     "output_type": "stream",
     "text": [
      "[[-0.12493383 -0.11731664 -0.9205801   0.30915741  1.05113253]\n",
      " [-0.54575397  0.48990821  0.65545439  0.40194981  0.05469872]\n",
      " [-0.93738544  0.42203839  0.15978852  1.26399152 -0.23779847]\n",
      " [-0.27828554 -1.19079286 -0.12298422  0.98575431 -0.80810093]\n",
      " [ 0.65807115 -0.06588705  0.07801641 -0.0833836  -0.36203156]]\n",
      "[[-0.12493383 -0.11731664 -0.9205801   0.30915741  1.05113253]\n",
      " [ 0.65807115 -0.06588705  0.07801641 -0.0833836  -0.36203156]]\n"
     ]
    }
   ],
   "source": [
    "# ブールインデックス参照\n",
    "\n",
    "\"\"\"\n",
    "ブールの役割を利用して、データを取り出す。\n",
    "配列の参照に、配列と同じサイズのブール値配列を渡すことで、\n",
    "Trueのインデックスの値のみを取り出すことができる。\n",
    "\"\"\"\n",
    "import numpy as np\n",
    "\n",
    "names = np.array(['a', 'b', 'c', 'd', 'a'])\n",
    "data = np.random.randn(5, 5)\n",
    "\n",
    "t = names == 'a' # [True,False,False,False,True]\n",
    "\n",
    "print(data)\n",
    "print(data[t]) # 0番目と4番目の値が出力される"
   ]
  },
  {
   "cell_type": "code",
   "execution_count": null,
   "metadata": {
    "collapsed": true
   },
   "outputs": [],
   "source": []
  }
 ],
 "metadata": {
  "kernelspec": {
   "display_name": "Python 3",
   "language": "python",
   "name": "python3"
  },
  "language_info": {
   "codemirror_mode": {
    "name": "ipython",
    "version": 3
   },
   "file_extension": ".py",
   "mimetype": "text/x-python",
   "name": "python",
   "nbconvert_exporter": "python",
   "pygments_lexer": "ipython3",
   "version": "3.6.3"
  }
 },
 "nbformat": 4,
 "nbformat_minor": 2
}
