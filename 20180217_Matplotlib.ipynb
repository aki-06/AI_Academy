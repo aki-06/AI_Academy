{
 "cells": [
  {
   "cell_type": "code",
   "execution_count": 1,
   "metadata": {},
   "outputs": [
    {
     "name": "stdout",
     "output_type": "stream",
     "text": [
      "シード設定なし\n",
      "X:  [ 1.36212884  0.33593948 -0.99035563  1.694829   -1.40569098]\n",
      "Y:  [-1.72385308  0.20485319 -1.13091897  0.64949897  1.110212  ]\n"
     ]
    }
   ],
   "source": [
    "# シードを設定する\n",
    "\"\"\"\n",
    "シードを固定するすることで、常に同じ乱数列を生成できる\n",
    "numpy.random.seed()\n",
    "\"\"\"\n",
    "import numpy as np\n",
    "\n",
    "X = np.random.randn(5)\n",
    "Y = np.random.randn(5)\n",
    "\n",
    "print('シード設定なし')\n",
    "print('X: ', X)\n",
    "print('Y: ', Y)"
   ]
  },
  {
   "cell_type": "code",
   "execution_count": 7,
   "metadata": {},
   "outputs": [
    {
     "name": "stdout",
     "output_type": "stream",
     "text": [
      "シード設定あり\n",
      "x:  [ 1.62434536 -0.61175641 -0.52817175 -1.07296862  0.86540763]\n",
      "y:  [ 1.62434536 -0.61175641 -0.52817175 -1.07296862  0.86540763]\n"
     ]
    }
   ],
   "source": [
    "np.random.seed(1)\n",
    "x = np.random.randn(5)\n",
    "\n",
    "np.random.seed(1)\n",
    "y = np.random.randn(5)\n",
    "\n",
    "print('シード設定あり')\n",
    "print('x: ', x)\n",
    "print('y: ', y)"
   ]
  },
  {
   "cell_type": "code",
   "execution_count": 12,
   "metadata": {},
   "outputs": [
    {
     "data": {
      "image/png": "[encoded data removed]",
      "text/plain": [
       "<matplotlib.figure.Figure at 0x10adbaf98>"
      ]
     },
     "metadata": {},
     "output_type": "display_data"
    }
   ],
   "source": [
    "# 正規分布に従う乱数を生成する\n",
    "\"\"\"\n",
    "numpy.random.randn()\n",
    "    - 整数を渡すと、正規分布従う乱数を渡した数だけ返す\n",
    "\"\"\"\n",
    "import numpy as np\n",
    "import matplotlib.pyplot as plt\n",
    "\n",
    "np.random.seed(0)\n",
    "x = np.random.randn(10000)\n",
    "\n",
    "plt.hist(x, bins='auto')\n",
    "plt.show()"
   ]
  },
  {
   "cell_type": "code",
   "execution_count": 17,
   "metadata": {},
   "outputs": [
    {
     "data": {
      "text/plain": [
       "0.50057699999999994"
      ]
     },
     "execution_count": 17,
     "metadata": {},
     "output_type": "execute_result"
    }
   ],
   "source": [
    "# 二項分布に従う乱数を生成する\n",
    "\"\"\"\n",
    "numpy.random.binomial()\n",
    "    - ある施行が成功であるか、失敗であるかを返す\n",
    "    - 整数nと0以上1以下の実数pを渡すと、n回の成功率pを返す\n",
    "    - size=整数値を渡すと、n回施行した場合の成功回数をを指定した値が返る\n",
    "\"\"\"\n",
    "import numpy as np\n",
    "\n",
    "np.random.seed()\n",
    "\n",
    "# 0.5の確率で成功する試行を100回行なったときの成功数を10000回分\n",
    "nums = np.random.binomial(100, 0.5, size=10000)\n",
    "nums.mean() / 100"
   ]
  },
  {
   "cell_type": "code",
   "execution_count": 19,
   "metadata": {},
   "outputs": [
    {
     "data": {
      "text/plain": [
       "array(['e', 'f', 'a'],\n",
       "      dtype='<U1')"
      ]
     },
     "execution_count": 19,
     "metadata": {},
     "output_type": "execute_result"
    }
   ],
   "source": [
    "# リストからランダムに選択する\n",
    "\"\"\"\n",
    "numpy.random.choice()\n",
    "    - リスト型のデータと整数値を渡すと、渡したリスト型のデータの中からランダムに選んだ結果を渡した整数値の数だけ返す\n",
    "\"\"\"\n",
    "import numpy as np\n",
    "\n",
    "x = ['a', 'b', 'c', 'd', 'e', 'f']\n",
    "\n",
    "np.random.seed(0)\n",
    "\n",
    "y = np.random.choice(x, 3)\n",
    "print(y)"
   ]
  }
 ],
 "metadata": {
  "kernelspec": {
   "display_name": "Python 3",
   "language": "python",
   "name": "python3"
  },
  "language_info": {
   "codemirror_mode": {
    "name": "ipython",
    "version": 3
   },
   "file_extension": ".py",
   "mimetype": "text/x-python",
   "name": "python",
   "nbconvert_exporter": "python",
   "pygments_lexer": "ipython3",
   "version": "3.6.3"
  }
 },
 "nbformat": 4,
 "nbformat_minor": 2
}
