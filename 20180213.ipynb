{
 "cells": [
  {
   "cell_type": "code",
   "execution_count": 9,
   "metadata": {},
   "outputs": [
    {
     "name": "stdout",
     "output_type": "stream",
     "text": [
      "       fruits  time  year\n",
      "0       apple     1  2000\n",
      "1      orange     2  2001\n",
      "2      banana     3  2002\n",
      "3  strawberry     4  2003\n",
      "4   kiwifruit     5  2004\n"
     ]
    }
   ],
   "source": [
    "# 番号による参照\n",
    "\"\"\"\n",
    "インデックス、カラムの番号で、DataFrame型のデータを参照する場合はilocを使う\n",
    "df.iloc['行番号のリスト', '列番号のリスト']\n",
    "スライス機能を使うこともできる\n",
    "\"\"\"\n",
    "import pandas as pd\n",
    "\n",
    "data = {\n",
    "    'fruits': ['apple', 'orange', 'banana', 'strawberry', 'kiwifruit'],\n",
    "    'time': [1, 2, 3, 4, 5],\n",
    "    'year': [2000, 2001, 2002, 2003, 2004]\n",
    "}\n",
    "df = pd.DataFrame(data)\n",
    "print(df)"
   ]
  },
  {
   "cell_type": "code",
   "execution_count": 11,
   "metadata": {},
   "outputs": [
    {
     "name": "stdout",
     "output_type": "stream",
     "text": [
      "       fruits  year\n",
      "1      orange  2001\n",
      "3  strawberry  2003\n"
     ]
    }
   ],
   "source": [
    "df = df.iloc[[1, 3], [0, 2]]\n",
    "print(df)"
   ]
  },
  {
   "cell_type": "code",
   "execution_count": 12,
   "metadata": {},
   "outputs": [
    {
     "name": "stdout",
     "output_type": "stream",
     "text": [
      "    apple  orange  banana  kiwifruit  strawberry\n",
      "1       6       8       6          3          10\n",
      "2       1       7      10          4          10\n",
      "3       4       9       9          9           1\n",
      "4       4       9      10          2           5\n",
      "5       8       2       5          4           8\n",
      "6      10       7       4          4           4\n",
      "7       4       8       1          4           3\n",
      "8       6       8       4          8           8\n",
      "9       3       9       6          1           3\n",
      "10      5       2       1          2           1\n"
     ]
    }
   ],
   "source": [
    "import pandas as pd\n",
    "import numpy as np\n",
    "\n",
    "np.random.seed(0)\n",
    "columns = ['apple', 'orange', 'banana', 'kiwifruit', 'strawberry']\n",
    "\n",
    "# DataFrameを生成し、列を追加\n",
    "df = pd.DataFrame()\n",
    "for column in columns:\n",
    "    df[column] = np.random.choice(range(1, 11), 10)\n",
    "df.index = range(1, 11)\n",
    "print(df)"
   ]
  },
  {
   "cell_type": "code",
   "execution_count": 14,
   "metadata": {
    "scrolled": true
   },
   "outputs": [
    {
     "name": "stdout",
     "output_type": "stream",
     "text": [
      "   apple  kiwifruit\n",
      "2      1          4\n",
      "3      4          9\n",
      "4      4          2\n",
      "5      8          4\n"
     ]
    }
   ],
   "source": [
    "df = df.iloc[1:5, [0, 3]]\n",
    "print(df)"
   ]
  },
  {
   "cell_type": "code",
   "execution_count": 16,
   "metadata": {},
   "outputs": [
    {
     "name": "stdout",
     "output_type": "stream",
     "text": [
      "       fruits  time  year\n",
      "0       apple     1  2001\n",
      "1      orange     4  2002\n",
      "2      banana     5  2001\n",
      "3  strawberry     6  2008\n",
      "4   kiwifruit     3  2006\n"
     ]
    }
   ],
   "source": [
    "# 行または列の削除\n",
    "\"\"\"\n",
    "df.drop()\n",
    "インデックスまたはカラムを指定することで、\n",
    "該当する行または列を削除したDataFrameを生成する\n",
    "  - 行と列は同時に削除できない\n",
    "  - 列を削除する場合は第二引数にaxis=1を指定する\n",
    "\"\"\"\n",
    "import pandas as pd\n",
    "data = {\"fruits\": [\"apple\", \"orange\", \"banana\", \"strawberry\", \"kiwifruit\"],\n",
    "        \"time\": [1, 4, 5, 6, 3],\n",
    "        \"year\": [2001, 2002, 2001, 2008, 2006]}\n",
    "df = pd.DataFrame(data)\n",
    "print(df)\n"
   ]
  },
  {
   "cell_type": "code",
   "execution_count": 17,
   "metadata": {},
   "outputs": [
    {
     "name": "stdout",
     "output_type": "stream",
     "text": [
      "      fruits  time  year\n",
      "0      apple     1  2001\n",
      "1     orange     4  2002\n",
      "4  kiwifruit     3  2006\n"
     ]
    }
   ],
   "source": [
    "df_1 = df.drop(range(2, 4))\n",
    "print(df_1)"
   ]
  },
  {
   "cell_type": "code",
   "execution_count": 18,
   "metadata": {},
   "outputs": [
    {
     "name": "stdout",
     "output_type": "stream",
     "text": [
      "       fruits  time\n",
      "0       apple     1\n",
      "1      orange     4\n",
      "2      banana     5\n",
      "3  strawberry     6\n",
      "4   kiwifruit     3\n"
     ]
    }
   ],
   "source": [
    "df_2 = df.drop('year', axis=1)\n",
    "print(df_2)"
   ]
  },
  {
   "cell_type": "code",
   "execution_count": 21,
   "metadata": {},
   "outputs": [
    {
     "name": "stdout",
     "output_type": "stream",
     "text": [
      "    mango  banana  apple  peach  grape\n",
      "1       1       5      6      1      3\n",
      "2       4       5     10      4     10\n",
      "3       6       9      4      3      3\n",
      "4      10       5      1      1      4\n",
      "5       5       4      6      8      4\n",
      "6       5       8      1      6      3\n",
      "7       7       6      2     10      4\n",
      "8       5       6      3      1      5\n",
      "9       5       1      5      3      2\n",
      "10      4       2      3      8      3\n"
     ]
    }
   ],
   "source": [
    "import pandas as pd\n",
    "import numpy as np\n",
    "\n",
    "columns = {'apple', 'banana', 'grape', 'mango', 'peach'}\n",
    "df = pd.DataFrame()\n",
    "for column in columns:\n",
    "    df[column] = np.random.choice(range(1, 11), 10)\n",
    "df.index = range(1, 11)\n",
    "print(df)"
   ]
  },
  {
   "cell_type": "code",
   "execution_count": 23,
   "metadata": {},
   "outputs": [
    {
     "name": "stdout",
     "output_type": "stream",
     "text": [
      "   mango  banana  apple  peach  grape\n",
      "1      1       5      6      1      3\n",
      "3      6       9      4      3      3\n",
      "5      5       4      6      8      4\n",
      "7      7       6      2     10      4\n",
      "9      5       1      5      3      2\n"
     ]
    }
   ],
   "source": [
    "df = df.drop(np.arange(2, 11, 2))\n",
    "print(df)"
   ]
  },
  {
   "cell_type": "code",
   "execution_count": 25,
   "metadata": {},
   "outputs": [
    {
     "name": "stdout",
     "output_type": "stream",
     "text": [
      "   banana  apple  peach  grape\n",
      "1       5      6      1      3\n",
      "3       9      4      3      3\n",
      "5       4      6      8      4\n",
      "7       6      2     10      4\n",
      "9       1      5      3      2\n"
     ]
    }
   ],
   "source": [
    "df = df.drop('mango', axis=1)\n",
    "print(df)"
   ]
  },
  {
   "cell_type": "code",
   "execution_count": 27,
   "metadata": {},
   "outputs": [
    {
     "name": "stdout",
     "output_type": "stream",
     "text": [
      "   fruits  time  year\n",
      "0   apple     1  2000\n",
      "1   grape     5  2001\n",
      "2  orange     2  2002\n",
      "3   peach     7  2003\n",
      "4   mango     4  2004\n"
     ]
    }
   ],
   "source": [
    "# ソート\n",
    "\"\"\"\n",
    "df.sort_values(by='カラムのリスト', ascending=True)\n",
    "  - 列の値が昇順(小さい順)\n",
    "ascending=False\n",
    "  - 降順(大きい順)\n",
    "\"\"\"\n",
    "import pandas as pd\n",
    "\n",
    "data = {\n",
    "    'fruits': ['apple', 'grape', 'orange', 'peach', 'mango'],\n",
    "    'time': [1, 5, 2, 7, 4],\n",
    "    'year': [2000, 2001, 2002, 2003, 2004]\n",
    "}\n",
    "df = pd.DataFrame(data)\n",
    "print(df)"
   ]
  },
  {
   "cell_type": "code",
   "execution_count": 30,
   "metadata": {},
   "outputs": [
    {
     "name": "stdout",
     "output_type": "stream",
     "text": [
      "   fruits  time  year\n",
      "0   apple     1  2000\n",
      "2  orange     2  2002\n",
      "4   mango     4  2004\n",
      "1   grape     5  2001\n",
      "3   peach     7  2003\n"
     ]
    }
   ],
   "source": [
    "df = df.sort_values(by='time', ascending=True)\n",
    "print(df)"
   ]
  },
  {
   "cell_type": "code",
   "execution_count": 34,
   "metadata": {},
   "outputs": [
    {
     "name": "stdout",
     "output_type": "stream",
     "text": [
      "    apple  mango  orange  grape  peach\n",
      "1       7      8       8     10      3\n",
      "2       9      1       6      8      3\n",
      "3       9      9       4      4      9\n",
      "4       4      5       5      3      2\n",
      "5       3      7       6      4      6\n",
      "6       4      6       4     10      9\n",
      "7       7      9       4      8      5\n",
      "8       4      3       8      8      1\n",
      "9       7      4      10      6      3\n",
      "10      6     10      10      2      6\n"
     ]
    }
   ],
   "source": [
    "import pandas as pd\n",
    "import numpy as np\n",
    "\n",
    "columns = ['apple', 'mango', 'orange', 'grape', 'peach']\n",
    "df = pd.DataFrame()\n",
    "for column in columns:\n",
    "    df[column] = np.random.choice(range(1, 11), 10)\n",
    "df.index = range(1, 11)\n",
    "print(df)"
   ]
  },
  {
   "cell_type": "code",
   "execution_count": 35,
   "metadata": {},
   "outputs": [
    {
     "name": "stdout",
     "output_type": "stream",
     "text": [
      "    apple  mango  orange  grape  peach\n",
      "5       3      7       6      4      6\n",
      "8       4      3       8      8      1\n",
      "4       4      5       5      3      2\n",
      "6       4      6       4     10      9\n",
      "10      6     10      10      2      6\n",
      "9       7      4      10      6      3\n",
      "1       7      8       8     10      3\n",
      "7       7      9       4      8      5\n",
      "2       9      1       6      8      3\n",
      "3       9      9       4      4      9\n"
     ]
    }
   ],
   "source": [
    "df = df.sort_values(columns)\n",
    "print(df)"
   ]
  },
  {
   "cell_type": "code",
   "execution_count": 36,
   "metadata": {},
   "outputs": [
    {
     "name": "stdout",
     "output_type": "stream",
     "text": [
      "    apple  mango  orange  grape  peach\n",
      "2       9      1       6      8      3\n",
      "8       4      3       8      8      1\n",
      "9       7      4      10      6      3\n",
      "4       4      5       5      3      2\n",
      "6       4      6       4     10      9\n",
      "5       3      7       6      4      6\n",
      "1       7      8       8     10      3\n",
      "7       7      9       4      8      5\n",
      "3       9      9       4      4      9\n",
      "10      6     10      10      2      6\n"
     ]
    }
   ],
   "source": [
    "df = df.sort_values(by='mango', ascending=True)\n",
    "print(df)"
   ]
  },
  {
   "cell_type": "code",
   "execution_count": 39,
   "metadata": {},
   "outputs": [
    {
     "name": "stdout",
     "output_type": "stream",
     "text": [
      "       fruits  time  year\n",
      "0       apple     1  2001\n",
      "1      orange     4  2002\n",
      "2      banana     5  2001\n",
      "3  strawberry     6  2008\n",
      "4   kiwifruit     3  2006\n"
     ]
    }
   ],
   "source": [
    "# フィルタリング\n",
    "import pandas as pd\n",
    "\n",
    "data = {\"fruits\": [\"apple\", \"orange\", \"banana\", \"strawberry\", \"kiwifruit\"],\n",
    "        \"year\": [2001, 2002, 2001, 2008, 2006],\n",
    "        \"time\": [1, 4, 5, 6, 3]}\n",
    "\n",
    "df = pd.DataFrame(data)\n",
    "print(df)"
   ]
  },
  {
   "cell_type": "code",
   "execution_count": 40,
   "metadata": {},
   "outputs": [
    {
     "name": "stdout",
     "output_type": "stream",
     "text": [
      "[ True False  True False  True]\n"
     ]
    }
   ],
   "source": [
    "print(df.index % 2 == 0)"
   ]
  },
  {
   "cell_type": "code",
   "execution_count": 42,
   "metadata": {},
   "outputs": [
    {
     "name": "stdout",
     "output_type": "stream",
     "text": [
      "      fruits  time  year\n",
      "0      apple     1  2001\n",
      "2     banana     5  2001\n",
      "4  kiwifruit     3  2006\n"
     ]
    }
   ],
   "source": [
    "print(df[df.index % 2 == 0])"
   ]
  },
  {
   "cell_type": "code",
   "execution_count": 45,
   "metadata": {},
   "outputs": [
    {
     "name": "stdout",
     "output_type": "stream",
     "text": [
      "    apple  mango  peach  orange  grape\n",
      "1       6      8      6       3     10\n",
      "2       1      7     10       4     10\n",
      "3       4      9      9       9      1\n",
      "4       4      9     10       2      5\n",
      "5       8      2      5       4      8\n",
      "6      10      7      4       4      4\n",
      "7       4      8      1       4      3\n",
      "8       6      8      4       8      8\n",
      "9       3      9      6       1      3\n",
      "10      5      2      1       2      1\n"
     ]
    }
   ],
   "source": [
    "import pandas as pd\n",
    "import numpy as np\n",
    "\n",
    "np.random.seed(0)\n",
    "columns = ['apple', 'mango', 'peach', 'orange', 'grape']\n",
    "df = pd.DataFrame()\n",
    "for column in columns:\n",
    "    df[column] = np.random.choice(range(1, 11), 10)\n",
    "df.index = range(1, 11)\n",
    "print(df)"
   ]
  },
  {
   "cell_type": "code",
   "execution_count": 47,
   "metadata": {},
   "outputs": [
    {
     "name": "stdout",
     "output_type": "stream",
     "text": [
      "   apple  mango  peach  orange  grape\n",
      "8      6      8      4       8      8\n"
     ]
    }
   ],
   "source": [
    "df = df.loc[df['apple'] >= 2][df['orange'] >= 3]\n",
    "print(df)"
   ]
  }
 ],
 "metadata": {
  "kernelspec": {
   "display_name": "Python 3",
   "language": "python",
   "name": "python3"
  },
  "language_info": {
   "codemirror_mode": {
    "name": "ipython",
    "version": 3
   },
   "file_extension": ".py",
   "mimetype": "text/x-python",
   "name": "python",
   "nbconvert_exporter": "python",
   "pygments_lexer": "ipython3",
   "version": "3.6.3"
  }
 },
 "nbformat": 4,
 "nbformat_minor": 2
}
