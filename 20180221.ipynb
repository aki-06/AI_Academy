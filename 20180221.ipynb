{
 "cells": [
  {
   "cell_type": "code",
   "execution_count": 1,
   "metadata": {},
   "outputs": [
    {
     "data": {
      "image/png": "[encoded data removed]",
      "text/plain": [
       "<matplotlib.figure.Figure at 0x1089cddd8>"
      ]
     },
     "metadata": {},
     "output_type": "display_data"
    }
   ],
   "source": [
    "# 棒グラフを作成する\n",
    "\"\"\"\n",
    "matplotlib.pyplot.bar()\n",
    "\"\"\"\n",
    "\n",
    "import numpy as np\n",
    "import matplotlib.pyplot as plt\n",
    "\n",
    "x = [1, 2, 3, 4, 5, 6]\n",
    "y = [12, 45, 32, 6, 22, 18]\n",
    "\n",
    "plt.bar(x, y)\n",
    "plt.show()"
   ]
  },
  {
   "cell_type": "code",
   "execution_count": 3,
   "metadata": {},
   "outputs": [
    {
     "data": {
      "image/png": "[encoded data removed]",
      "text/plain": [
       "<matplotlib.figure.Figure at 0x1121a2d30>"
      ]
     },
     "metadata": {},
     "output_type": "display_data"
    }
   ],
   "source": [
    "# 横軸にラベルを設定する\n",
    "\"\"\"\n",
    "tick_label\n",
    "\"\"\"\n",
    "import numpy as np\n",
    "import matplotlib.pyplot as plt\n",
    "\n",
    "x = [1, 2, 3, 4, 5, 6]\n",
    "y = [12, 32, 56, 9, 38, 44]\n",
    "\n",
    "labels = ['apple', 'banana', 'peach', 'grape', 'mango', 'orange']\n",
    "\n",
    "plt.bar(x, y, tick_label=labels)\n",
    "plt.show()"
   ]
  },
  {
   "cell_type": "code",
   "execution_count": 5,
   "metadata": {},
   "outputs": [
    {
     "data": {
      "image/png": "[encoded data removed]",
      "text/plain": [
       "<matplotlib.figure.Figure at 0x10b086eb8>"
      ]
     },
     "metadata": {},
     "output_type": "display_data"
    }
   ],
   "source": [
    "# 積み上げ棒グラフを作成する\n",
    "\"\"\"\n",
    "matplotlib.pyplot.bar()のbottomにデータ列を渡す\n",
    "plt.legend(('y1', 'y2'))\n",
    "    - 系統ラベルを指定\n",
    "\"\"\"\n",
    "import numpy as np\n",
    "import matplotlib.pyplot as plt\n",
    "\n",
    "x = [1, 2, 3, 4, 5, 6]\n",
    "y1 = [12, 41, 32, 36, 21, 17]\n",
    "y2 = [43, 1, 6, 17, 17, 9]\n",
    "labels = [\"Apple\", \"Orange\", \"Banana\", \"Pineapple\", \"Kiwifruit\", \"Strawberry\"]\n",
    "\n",
    "plt.bar(x, y1, tick_label=labels)\n",
    "plt.bar(x, y2, bottom=y1)\n",
    "\n",
    "plt.legend(('y1', 'y2'))\n",
    "plt.show()"
   ]
  },
  {
   "cell_type": "code",
   "execution_count": 9,
   "metadata": {},
   "outputs": [
    {
     "data": {
      "image/png": "[encoded data removed]",
      "text/plain": [
       "<matplotlib.figure.Figure at 0x1121aa2e8>"
      ]
     },
     "metadata": {},
     "output_type": "display_data"
    }
   ],
   "source": [
    "# ヒストグラムを作成する\n",
    "\"\"\"\n",
    "matplotlib.pyplot.hist()\n",
    "\"\"\"\n",
    "import numpy as np\n",
    "import matplotlib.pyplot as plt\n",
    "\n",
    "np.random.seed(0)\n",
    "data = np.random.randn(10000)\n",
    "\n",
    "plt.hist(data)\n",
    "plt.show()"
   ]
  },
  {
   "cell_type": "code",
   "execution_count": 17,
   "metadata": {},
   "outputs": [
    {
     "data": {
      "image/png": "[encoded data removed]",
      "text/plain": [
       "<matplotlib.figure.Figure at 0x112d43780>"
      ]
     },
     "metadata": {},
     "output_type": "display_data"
    }
   ],
   "source": [
    "# ビン数を設定する\n",
    "\"\"\"\n",
    "binsを指定する\n",
    "    - 任意の数のサイズに等しい階級に分ける\n",
    "bins='auto'\n",
    "    - ビン数を自動に設定\n",
    "\"\"\"\n",
    "import numpy as np\n",
    "import matplotlib.pyplot as plt\n",
    "\n",
    "np.random.seed(0)\n",
    "data = np.random.randn(10000)\n",
    "\n",
    "plt.hist(data, bins=100)\n",
    "plt.show()"
   ]
  }
 ],
 "metadata": {
  "kernelspec": {
   "display_name": "Python 3",
   "language": "python",
   "name": "python3"
  },
  "language_info": {
   "codemirror_mode": {
    "name": "ipython",
    "version": 3
   },
   "file_extension": ".py",
   "mimetype": "text/x-python",
   "name": "python",
   "nbconvert_exporter": "python",
   "pygments_lexer": "ipython3",
   "version": "3.6.3"
  }
 },
 "nbformat": 4,
 "nbformat_minor": 2
}
