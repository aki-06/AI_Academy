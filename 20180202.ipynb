{
 "cells": [
  {
   "cell_type": "code",
   "execution_count": 6,
   "metadata": {},
   "outputs": [
    {
     "name": "stdout",
     "output_type": "stream",
     "text": [
      "期待値: 466.66666666666663\n",
      "分散: 95555.55555555555\n"
     ]
    }
   ],
   "source": [
    "# 離散分布の期待値と分散\n",
    "\n",
    "def E(g, f):\n",
    "    E = 0\n",
    "    for i in range(len(g)):\n",
    "        E += g[i] * f[i]\n",
    "    return E\n",
    "\n",
    "def V(g, f, E):\n",
    "    V = 0\n",
    "    for i in range(len(g)):\n",
    "        V += (g[i] - E)**2 * f[i]\n",
    "    return V\n",
    "\n",
    "g = [100, 200, 300, 500, 700, 1000]\n",
    "f = [1/6, 1/6, 1/6, 1/6, 1/6, 1/6]\n",
    "E = E(g, f)\n",
    "V = V(g, f, E)\n",
    "print('期待値:', E)\n",
    "print('分散:', V)"
   ]
  }
 ],
 "metadata": {
  "kernelspec": {
   "display_name": "Python 3",
   "language": "python",
   "name": "python3"
  },
  "language_info": {
   "codemirror_mode": {
    "name": "ipython",
    "version": 3
   },
   "file_extension": ".py",
   "mimetype": "text/x-python",
   "name": "python",
   "nbconvert_exporter": "python",
   "pygments_lexer": "ipython3",
   "version": "3.6.3"
  }
 },
 "nbformat": 4,
 "nbformat_minor": 2
}
