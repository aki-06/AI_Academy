{
 "cells": [
  {
   "cell_type": "code",
   "execution_count": 1,
   "metadata": {},
   "outputs": [
    {
     "data": {
      "text/plain": [
       "'\\n内部結合\\n  - key列に共通の値がない行は破棄される\\n外部結合\\n  - 共通の値がない場合は行は残る\\n  - 共通出ない列はNaNで埋められる\\n'"
      ]
     },
     "execution_count": 1,
     "metadata": {},
     "output_type": "execute_result"
    }
   ],
   "source": [
    "# 結合の種類\n",
    "\"\"\"\n",
    "内部結合\n",
    "  - key列に共通の値がない行は破棄される\n",
    "外部結合\n",
    "  - 共通の値がない場合は行は残る\n",
    "  - 共通出ない列はNaNで埋められる\n",
    "\"\"\""
   ]
  },
  {
   "cell_type": "code",
   "execution_count": 3,
   "metadata": {},
   "outputs": [
    {
     "name": "stdout",
     "output_type": "stream",
     "text": [
      "   amount      fruits  year\n",
      "0       1       apple  2001\n",
      "1       4      orange  2002\n",
      "2       5      banana  2001\n",
      "3       6  strawberry  2008\n",
      "4       3   kiwifruit  2006\n"
     ]
    }
   ],
   "source": [
    "# 内部結合の基本\n",
    "\"\"\"\n",
    "pandas.merge(df1, df2, on=keyとなるカラム, how=inner)\n",
    "\"\"\"\n",
    "import pandas as pd\n",
    "import numpy as np\n",
    "\n",
    "data1 = {\"fruits\": [\"apple\", \"orange\", \"banana\", \"strawberry\", \"kiwifruit\"],\n",
    "        \"year\": [2001, 2002, 2001, 2008, 2006],\n",
    "        \"amount\": [1, 4, 5, 6, 3]}\n",
    "\n",
    "df1 = pd.DataFrame(data1)\n",
    "print(df1)"
   ]
  },
  {
   "cell_type": "code",
   "execution_count": 4,
   "metadata": {},
   "outputs": [
    {
     "name": "stdout",
     "output_type": "stream",
     "text": [
      "       fruits  price  year\n",
      "0       apple    150  2001\n",
      "1      orange    120  2002\n",
      "2      banana    100  2001\n",
      "3  strawberry    250  2008\n",
      "4       mango   3000  2007\n"
     ]
    }
   ],
   "source": [
    "data2 = {\"fruits\": [\"apple\", \"orange\", \"banana\", \"strawberry\", \"mango\"],\n",
    "        \"year\": [2001, 2002, 2001, 2008, 2007],\n",
    "        \"price\": [150, 120, 100, 250, 3000]}\n",
    "\n",
    "df2 = pd.DataFrame(data2)\n",
    "print(df2)"
   ]
  },
  {
   "cell_type": "code",
   "execution_count": null,
   "metadata": {
    "collapsed": true
   },
   "outputs": [],
   "source": [
    "# 内部結合\n",
    "df3 = pd.merge(df1, df2, on='fruits', how='inner')\n",
    "print(df3)"
   ]
  }
 ],
 "metadata": {
  "kernelspec": {
   "display_name": "Python 3",
   "language": "python",
   "name": "python3"
  },
  "language_info": {
   "codemirror_mode": {
    "name": "ipython",
    "version": 3
   },
   "file_extension": ".py",
   "mimetype": "text/x-python",
   "name": "python",
   "nbconvert_exporter": "python",
   "pygments_lexer": "ipython3",
   "version": "3.6.3"
  }
 },
 "nbformat": 4,
 "nbformat_minor": 2
}
