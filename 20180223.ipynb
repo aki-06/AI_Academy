{
 "cells": [
  {
   "cell_type": "code",
   "execution_count": null,
   "metadata": {
    "collapsed": true
   },
   "outputs": [],
   "source": [
    "# 値に応じてマーカーの大きさを設定する\n",
    "\"\"\"\n",
    "matplotlib.pyplot.scatter()\n",
    "    - x, yと順番に対応するリスト型のデータをs=データで受け渡す\n",
    "\"\"\"\n",
    "import numpy as np\n",
    "import matplotlib.pyplot as plt\n",
    "\n",
    "x = np.random.choice(np.arange(100), 100)\n",
    "y = np.random.choice(np.arange(100), 100)\n",
    "z = np.random.choice(np.arange(100), 100)\n",
    "\n",
    "plt.scatter(x, y, s=z)\n",
    "plt.show()"
   ]
  }
 ],
 "metadata": {
  "kernelspec": {
   "display_name": "Python 3",
   "language": "python",
   "name": "python3"
  },
  "language_info": {
   "codemirror_mode": {
    "name": "ipython",
    "version": 3
   },
   "file_extension": ".py",
   "mimetype": "text/x-python",
   "name": "python",
   "nbconvert_exporter": "python",
   "pygments_lexer": "ipython3",
   "version": "3.6.3"
  }
 },
 "nbformat": 4,
 "nbformat_minor": 2
}
