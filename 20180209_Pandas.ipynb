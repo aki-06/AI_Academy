{
 "cells": [
  {
   "cell_type": "code",
   "execution_count": 1,
   "metadata": {},
   "outputs": [
    {
     "name": "stdout",
     "output_type": "stream",
     "text": [
      "       fruits  time  year\n",
      "0       apple     1  2010\n",
      "1      orange     4  2011\n",
      "2      banana     2  2012\n",
      "3  strawberry     6  2013\n",
      "4   kiwifruit     3  2014\n"
     ]
    }
   ],
   "source": [
    "# DataFrameの生成\n",
    "\"\"\"\n",
    "Series複数束ねたような二次元のデータ構造\n",
    "pandas.DataFrame([Series, Series...])\n",
    "\"\"\"\n",
    "import pandas as pd\n",
    "data = {\n",
    "    'fruits': ['apple', 'orange', 'banana', 'strawberry', 'kiwifruit'],\n",
    "    'year': [2010, 2011, 2012, 2013, 2014],\n",
    "    'time': [1, 4, 2, 6, 3]\n",
    "}\n",
    "df = pd.DataFrame(data)\n",
    "print(df)"
   ]
  },
  {
   "cell_type": "code",
   "execution_count": 6,
   "metadata": {},
   "outputs": [
    {
     "name": "stdout",
     "output_type": "stream",
     "text": [
      "apple     1\n",
      "orange    2\n",
      "banana    3\n",
      "grape     4\n",
      "mango     5\n",
      "dtype: int64\n",
      "\n",
      "apple      6\n",
      "orange     7\n",
      "banana     8\n",
      "grape      9\n",
      "mango     10\n",
      "dtype: int64\n"
     ]
    }
   ],
   "source": [
    "import pandas as np\n",
    "\n",
    "index = ['apple', 'orange', 'banana', 'grape', 'mango']\n",
    "data1 = [1, 2, 3, 4, 5]\n",
    "data2 = [6, 7, 8, 9, 10]\n",
    "\n",
    "series1 = pd.Series(data1, index=index)\n",
    "series2 = pd.Series(data2, index=index)\n",
    "print(series1)\n",
    "print()\n",
    "print(series2)"
   ]
  },
  {
   "cell_type": "code",
   "execution_count": 7,
   "metadata": {
    "scrolled": true
   },
   "outputs": [
    {
     "name": "stdout",
     "output_type": "stream",
     "text": [
      "   apple  orange  banana  grape  mango\n",
      "0      1       2       3      4      5\n",
      "1      6       7       8      9     10\n"
     ]
    }
   ],
   "source": [
    "df = pd.DataFrame([series1, series2])\n",
    "print(df)"
   ]
  },
  {
   "cell_type": "code",
   "execution_count": 9,
   "metadata": {},
   "outputs": [
    {
     "name": "stdout",
     "output_type": "stream",
     "text": [
      "apple     1\n",
      "orange    2\n",
      "banana    3\n",
      "grape     4\n",
      "mango     5\n",
      "dtype: int64\n"
     ]
    }
   ],
   "source": [
    "# インデックスとカラムを設定する\n",
    "\"\"\"\n",
    "行の名前\n",
    "    - インデックス\n",
    "列の名前\n",
    "    - カラム\n",
    "\"\"\"\n",
    "import pandas as pd\n",
    "index = ['apple', 'orange', 'banana', 'grape', 'mango']\n",
    "data1 = [1, 2, 3, 4, 5]\n",
    "data2 = [6, 7, 8, 9, 10]\n",
    "\n",
    "series1 = pd.Series(data1, index=index)\n",
    "print(series1)"
   ]
  },
  {
   "cell_type": "code",
   "execution_count": 10,
   "metadata": {},
   "outputs": [
    {
     "name": "stdout",
     "output_type": "stream",
     "text": [
      "apple      6\n",
      "orange     7\n",
      "banana     8\n",
      "grape      9\n",
      "mango     10\n",
      "dtype: int64\n"
     ]
    }
   ],
   "source": [
    "series2 = pd.Series(data2, index=index)\n",
    "print(series2)"
   ]
  },
  {
   "cell_type": "code",
   "execution_count": 11,
   "metadata": {},
   "outputs": [
    {
     "name": "stdout",
     "output_type": "stream",
     "text": [
      "   apple  orange  banana  grape  mango\n",
      "0      1       2       3      4      5\n",
      "1      6       7       8      9     10\n"
     ]
    }
   ],
   "source": [
    "df = pd.DataFrame([series1, series2])\n",
    "print(df)"
   ]
  },
  {
   "cell_type": "code",
   "execution_count": null,
   "metadata": {
    "collapsed": true
   },
   "outputs": [],
   "source": [
    "# インデックスを0, 1から1, 2にする\n",
    "df.index = [1, 2]\n",
    "print(df)"
   ]
  }
 ],
 "metadata": {
  "kernelspec": {
   "display_name": "Python 3",
   "language": "python",
   "name": "python3"
  },
  "language_info": {
   "codemirror_mode": {
    "name": "ipython",
    "version": 3
   },
   "file_extension": ".py",
   "mimetype": "text/x-python",
   "name": "python",
   "nbconvert_exporter": "python",
   "pygments_lexer": "ipython3",
   "version": "3.6.3"
  }
 },
 "nbformat": 4,
 "nbformat_minor": 2
}
