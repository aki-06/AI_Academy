{
 "cells": [
  {
   "cell_type": "code",
   "execution_count": 3,
   "metadata": {},
   "outputs": [
    {
     "name": "stdout",
     "output_type": "stream",
     "text": [
      "   fruits  time  year\n",
      "0   apple     1  2001\n",
      "1   grape     2  2002\n",
      "2  orange     3  2003\n"
     ]
    }
   ],
   "source": [
    "# 列を追加する\n",
    "\"\"\"\n",
    "df['新しいカラム']\n",
    "\"\"\"\n",
    "import pandas as pd\n",
    "data = {\n",
    "    'fruits': ['apple', 'grape', 'orange'],\n",
    "    'year': [2001, 2002, 2003],\n",
    "    'time': [1, 2, 3]\n",
    "}\n",
    "df = pd.DataFrame(data)\n",
    "print(df)"
   ]
  },
  {
   "cell_type": "code",
   "execution_count": 5,
   "metadata": {},
   "outputs": [
    {
     "name": "stdout",
     "output_type": "stream",
     "text": [
      "   fruits  time  year  price\n",
      "1   apple     1  2001    100\n",
      "2   grape     2  2002    200\n",
      "3  orange     3  2003    300\n"
     ]
    }
   ],
   "source": [
    "df['price'] = [100, 200, 300]\n",
    "df.index = [1, 2, 3]\n",
    "print(df)"
   ]
  },
  {
   "cell_type": "code",
   "execution_count": 6,
   "metadata": {},
   "outputs": [
    {
     "name": "stdout",
     "output_type": "stream",
     "text": [
      "apple         10\n",
      "orange         5\n",
      "banana         8\n",
      "strawberry    12\n",
      "kiwifruit      3\n",
      "dtype: int64\n"
     ]
    }
   ],
   "source": [
    "import pandas as pd\n",
    "\n",
    "index = [\"apple\", \"orange\", \"banana\", \"strawberry\", \"kiwifruit\"]\n",
    "data1 = [10, 5, 8, 12, 3]\n",
    "data2 = [30, 25, 12, 10, 8]\n",
    "\n",
    "series1 = pd.Series(data1, index=index)\n",
    "print(series1)"
   ]
  },
  {
   "cell_type": "code",
   "execution_count": 7,
   "metadata": {},
   "outputs": [
    {
     "name": "stdout",
     "output_type": "stream",
     "text": [
      "apple         30\n",
      "orange        25\n",
      "banana        12\n",
      "strawberry    10\n",
      "kiwifruit      8\n",
      "dtype: int64\n"
     ]
    }
   ],
   "source": [
    "series2 = pd.Series(data2, index=index)\n",
    "print(series2)"
   ]
  },
  {
   "cell_type": "code",
   "execution_count": 9,
   "metadata": {},
   "outputs": [
    {
     "name": "stdout",
     "output_type": "stream",
     "text": [
      "   apple  orange  banana  strawberry  kiwifruit\n",
      "0     10       5       8          12          3\n",
      "1     30      25      12          10          8\n"
     ]
    }
   ],
   "source": [
    "df = pd.DataFrame([series1, series2])\n",
    "print(df)"
   ]
  },
  {
   "cell_type": "code",
   "execution_count": 11,
   "metadata": {},
   "outputs": [
    {
     "name": "stdout",
     "output_type": "stream",
     "text": [
      "0    15\n",
      "1     7\n",
      "dtype: int64\n"
     ]
    }
   ],
   "source": [
    "new_column = pd.Series([15, 7], index=[0, 1])\n",
    "print(new_column)"
   ]
  },
  {
   "cell_type": "code",
   "execution_count": 12,
   "metadata": {},
   "outputs": [
    {
     "name": "stdout",
     "output_type": "stream",
     "text": [
      "   apple  orange  banana  strawberry  kiwifruit  mango\n",
      "0     10       5       8          12          3     15\n",
      "1     30      25      12          10          8      7\n"
     ]
    }
   ],
   "source": [
    "df['mango'] = new_column\n",
    "print(df)"
   ]
  }
 ],
 "metadata": {
  "kernelspec": {
   "display_name": "Python 3",
   "language": "python",
   "name": "python3"
  },
  "language_info": {
   "codemirror_mode": {
    "name": "ipython",
    "version": 3
   },
   "file_extension": ".py",
   "mimetype": "text/x-python",
   "name": "python",
   "nbconvert_exporter": "python",
   "pygments_lexer": "ipython3",
   "version": "3.6.3"
  }
 },
 "nbformat": 4,
 "nbformat_minor": 2
}
