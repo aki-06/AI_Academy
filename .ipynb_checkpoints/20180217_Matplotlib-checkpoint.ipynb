{
 "cells": [
  {
   "cell_type": "code",
   "execution_count": 1,
   "metadata": {},
   "outputs": [
    {
     "name": "stdout",
     "output_type": "stream",
     "text": [
      "シード設定なし\n",
      "X:  [ 1.36212884  0.33593948 -0.99035563  1.694829   -1.40569098]\n",
      "Y:  [-1.72385308  0.20485319 -1.13091897  0.64949897  1.110212  ]\n"
     ]
    }
   ],
   "source": [
    "# シードを設定する\n",
    "\"\"\"\n",
    "シードを固定するすることで、常に同じ乱数列を生成できる\n",
    "numpy.random.seed()\n",
    "\"\"\"\n",
    "import numpy as np\n",
    "\n",
    "X = np.random.randn(5)\n",
    "Y = np.random.randn(5)\n",
    "\n",
    "print('シード設定なし')\n",
    "print('X: ', X)\n",
    "print('Y: ', Y)"
   ]
  },
  {
   "cell_type": "code",
   "execution_count": 7,
   "metadata": {},
   "outputs": [
    {
     "name": "stdout",
     "output_type": "stream",
     "text": [
      "シード設定あり\n",
      "x:  [ 1.62434536 -0.61175641 -0.52817175 -1.07296862  0.86540763]\n",
      "y:  [ 1.62434536 -0.61175641 -0.52817175 -1.07296862  0.86540763]\n"
     ]
    }
   ],
   "source": [
    "np.random.seed(1)\n",
    "x = np.random.randn(5)\n",
    "\n",
    "np.random.seed(1)\n",
    "y = np.random.randn(5)\n",
    "\n",
    "print('シード設定あり')\n",
    "print('x: ', x)\n",
    "print('y: ', y)"
   ]
  },
  {
   "cell_type": "code",
   "execution_count": 11,
   "metadata": {},
   "outputs": [
    {
     "data": {
      "text/plain": [
       "array([ 1.76405235,  0.40015721,  0.97873798, ...,  0.51687218,\n",
       "       -0.03292069,  1.29811143])"
      ]
     },
     "execution_count": 11,
     "metadata": {},
     "output_type": "execute_result"
    }
   ],
   "source": [
    "# 正規分布に従う乱数を生成する\n",
    "\"\"\"\n",
    "numpy.random.randn()\n",
    "    - 整数を渡すと、正規分布従う乱数を渡した数だけ返す\n",
    "\"\"\"\n",
    "import numpy as np\n",
    "import matplotlib.pyplot as plt\n",
    "\n",
    "np.random.seed(0)\n",
    "x = np.random.randn(10000)\n",
    "\n",
    "plt.hist(x, bins='auto')\n",
    "plt.show()"
   ]
  }
 ],
 "metadata": {
  "kernelspec": {
   "display_name": "Python 3",
   "language": "python",
   "name": "python3"
  },
  "language_info": {
   "codemirror_mode": {
    "name": "ipython",
    "version": 3
   },
   "file_extension": ".py",
   "mimetype": "text/x-python",
   "name": "python",
   "nbconvert_exporter": "python",
   "pygments_lexer": "ipython3",
   "version": "3.6.3"
  }
 },
 "nbformat": 4,
 "nbformat_minor": 2
}
