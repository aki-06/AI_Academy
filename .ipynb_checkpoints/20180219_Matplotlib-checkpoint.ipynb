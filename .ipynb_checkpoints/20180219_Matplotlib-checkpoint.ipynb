{
 "cells": [
  {
   "cell_type": "code",
   "execution_count": 2,
   "metadata": {},
   "outputs": [
    {
     "name": "stdout",
     "output_type": "stream",
     "text": [
      "1992-10-09 00:00:00\n"
     ]
    }
   ],
   "source": [
    "# datetime型\n",
    "\"\"\"\n",
    "時系列データを扱う際、時を表す方法が必要\n",
    "datetime.datetime(年, 月, 日, 時, 分, 秒, ミリ秒)\n",
    "順番に渡さなくても、day=日と指定もできる\n",
    "\"\"\"\n",
    "import datetime as dt\n",
    "\n",
    "x = dt.datetime(1992, 10, 9)\n",
    "\n",
    "print(x)"
   ]
  },
  {
   "cell_type": "code",
   "execution_count": 4,
   "metadata": {},
   "outputs": [
    {
     "name": "stdout",
     "output_type": "stream",
     "text": [
      "1:30:00\n"
     ]
    }
   ],
   "source": [
    "# timedelta型\n",
    "\"\"\"\n",
    "datetime.timedelta()\n",
    "    - 時間の長さを表す\n",
    "datetime.timedelta(日, 秒)\n",
    "hours=4, minutes=10等と指定できる\n",
    "\"\"\"\n",
    "import datetime as dt\n",
    "\n",
    "x = dt.timedelta(hours=1, minutes=30)\n",
    "print(x)"
   ]
  },
  {
   "cell_type": "code",
   "execution_count": 6,
   "metadata": {},
   "outputs": [
    {
     "name": "stdout",
     "output_type": "stream",
     "text": [
      "1990-11-07 00:00:00\n",
      "1990-11-10 00:00:00\n"
     ]
    }
   ],
   "source": [
    "# datetime型とtimedelta型の演算\n",
    "\"\"\"\n",
    "datetime型とtimedelta型を足し引きできる\n",
    "\"\"\"\n",
    "import datetime as dt\n",
    "\n",
    "x = dt.datetime(1990, 11, 7)\n",
    "print(x)\n",
    "\n",
    "# 3日加算\n",
    "y = x + dt.timedelta(3)\n",
    "print(y)"
   ]
  },
  {
   "cell_type": "code",
   "execution_count": 7,
   "metadata": {},
   "outputs": [
    {
     "name": "stdout",
     "output_type": "stream",
     "text": [
      "1992-10-08 00:00:00\n"
     ]
    }
   ],
   "source": [
    "# 時を表す文字列からdatetimeオブジェクトを作成する\n",
    "import datetime as dt\n",
    "\n",
    "s = '1992-10-8'\n",
    "\n",
    "x = dt.datetime.strptime(s, '%Y-%m-%d')\n",
    "print(x)"
   ]
  },
  {
   "cell_type": "code",
   "execution_count": 8,
   "metadata": {},
   "outputs": [
    {
     "name": "stdout",
     "output_type": "stream",
     "text": [
      "77\n"
     ]
    }
   ],
   "source": [
    "# 文字列型から数値型へ型変換する\n",
    "x = '32'\n",
    "y = '45'\n",
    "\n",
    "z = int(x) + int(y)\n",
    "print(z)"
   ]
  },
  {
   "cell_type": "code",
   "execution_count": 9,
   "metadata": {},
   "outputs": [
    {
     "name": "stdout",
     "output_type": "stream",
     "text": [
      "[ 0  2  4  6  8 10]\n"
     ]
    }
   ],
   "source": [
    "# 等間隔の数列を生成する1\n",
    "\"\"\"\n",
    "numpy.arange(始まり, 終わり, 間隔)\n",
    "\"\"\"\n",
    "import numpy as np\n",
    "\n",
    "x = np.arange(0, 11, 2)\n",
    "print(x)"
   ]
  },
  {
   "cell_type": "code",
   "execution_count": 10,
   "metadata": {},
   "outputs": [
    {
     "name": "stdout",
     "output_type": "stream",
     "text": [
      "[  0.    2.5   5.    7.5  10. ]\n"
     ]
    }
   ],
   "source": [
    "# 等間隔の数列を生成する2\n",
    "\"\"\"\n",
    "指定した範囲を指定した個数に分割\n",
    "numpy.linspace()\n",
    "\"\"\"\n",
    "import numpy as np\n",
    "\n",
    "x = np.linspace(0, 10, 5)\n",
    "print(x)"
   ]
  },
  {
   "cell_type": "code",
   "execution_count": 11,
   "metadata": {},
   "outputs": [
    {
     "data": {
      "image/png": "[encoded data removed]",
      "text/plain": [
       "<matplotlib.figure.Figure at 0x10760b4e0>"
      ]
     },
     "metadata": {},
     "output_type": "display_data"
    }
   ],
   "source": [
    "# グラフにデータをプロットする\n",
    "\"\"\"\n",
    "matplotlib.pyplot.plot(x軸, y軸)\n",
    "matplotlib.pyplot.show()\n",
    "\"\"\"\n",
    "import matplotlib.pyplot as plt\n",
    "import numpy as np\n",
    "\n",
    "x = np.linspace(0, 2*np.pi)\n",
    "y = np.sin(x)\n",
    "\n",
    "plt.plot(x, y)\n",
    "plt.show()"
   ]
  },
  {
   "cell_type": "code",
   "execution_count": null,
   "metadata": {
    "collapsed": true
   },
   "outputs": [],
   "source": [
    "# グラフの表示範囲を設定する\n",
    "\"\"\"\n",
    "グラフの一部だけ表示させたい場合\n",
    "x軸の場合\n",
    "    - matplotlib.pyplot.xlim([0, 10])\n",
    "y軸の場合\n",
    "    - matplotlib.pyplot.ylim([0, 10])\n",
    "\"\"\"\n",
    "import matplotlib.pyplot as plt\n",
    "import numpy as np\n",
    "\n",
    "x = np.linspace(0, 2*np.pi)\n",
    "y = np.sin(x)\n",
    "\n",
    "plt.ylim([0, 1])\n",
    "plt.plot(x, y)\n",
    "plt.show()"
   ]
  }
 ],
 "metadata": {
  "kernelspec": {
   "display_name": "Python 3",
   "language": "python",
   "name": "python3"
  },
  "language_info": {
   "codemirror_mode": {
    "name": "ipython",
    "version": 3
   },
   "file_extension": ".py",
   "mimetype": "text/x-python",
   "name": "python",
   "nbconvert_exporter": "python",
   "pygments_lexer": "ipython3",
   "version": "3.6.3"
  }
 },
 "nbformat": 4,
 "nbformat_minor": 2
}
