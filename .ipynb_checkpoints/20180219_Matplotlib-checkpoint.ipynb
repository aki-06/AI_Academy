{
 "cells": [
  {
   "cell_type": "code",
   "execution_count": null,
   "metadata": {
    "collapsed": true
   },
   "outputs": [],
   "source": [
    "# datetime型\n",
    "\"\"\"\n",
    "時系列データを扱う際、時を表す方法が必要\n",
    "datetime.datetime(年, 月, 日, 時, 分, 秒, ミリ秒)\n",
    "順番に渡さなくても、day=日と指定もできる\n",
    "\"\"\"\n",
    "import datetime as dt\n",
    "\n",
    "x = dt.datetime(1992, 10, 9)\n",
    "\n",
    "x"
   ]
  }
 ],
 "metadata": {
  "kernelspec": {
   "display_name": "Python 3",
   "language": "python",
   "name": "python3"
  },
  "language_info": {
   "codemirror_mode": {
    "name": "ipython",
    "version": 3
   },
   "file_extension": ".py",
   "mimetype": "text/x-python",
   "name": "python",
   "nbconvert_exporter": "python",
   "pygments_lexer": "ipython3",
   "version": "3.6.3"
  }
 },
 "nbformat": 4,
 "nbformat_minor": 2
}
