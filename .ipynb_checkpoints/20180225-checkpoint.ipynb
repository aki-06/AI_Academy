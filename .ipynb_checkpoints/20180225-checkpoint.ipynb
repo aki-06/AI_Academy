{
 "cells": [
  {
   "cell_type": "code",
   "execution_count": 2,
   "metadata": {},
   "outputs": [
    {
     "name": "stdout",
     "output_type": "stream",
     "text": [
      "[[2 1]\n",
      " [0 3]]\n"
     ]
    }
   ],
   "source": [
    "# 混同行列を実装する\n",
    "\"\"\"\n",
    "sklearn.metricsモジュール\n",
    "confusion_matrix()\n",
    "\"\"\"\n",
    "import numpy\n",
    "from sklearn.metrics import confusion_matrix\n",
    "\n",
    "# データ格納。0が陽性、1が陰性\n",
    "y_true = [0, 0, 0, 1, 1, 1]\n",
    "y_pred = [1, 0, 0, 1, 1, 1]\n",
    "\n",
    "confmat = confusion_matrix(y_true, y_pred)\n",
    "\n",
    "print(confmat)"
   ]
  },
  {
   "cell_type": "code",
   "execution_count": 5,
   "metadata": {},
   "outputs": [
    {
     "name": "stdout",
     "output_type": "stream",
     "text": [
      "F1: 0.857\n"
     ]
    }
   ],
   "source": [
    "# 性能評価指標を実装する\n",
    "from sklearn.metrics import precision_score\n",
    "from sklearn.metrics import recall_score, f1_score\n",
    "\n",
    "y_true = [0, 0, 0, 1, 1, 1]\n",
    "y_pred = [1, 0, 0, 1, 1, 1]\n",
    "\n",
    "precison = precision_score(y_true, y_pred)\n",
    "recall = recall_score(y_true, y_pred)\n",
    "\n",
    "f1 = 2 * ((precison * recall) / (precison + recall))\n",
    "print('F1: %.3f' % f1)"
   ]
  },
  {
   "cell_type": "code",
   "execution_count": 7,
   "metadata": {
    "scrolled": true
   },
   "outputs": [
    {
     "name": "stdout",
     "output_type": "stream",
     "text": [
      "0.857142857143\n"
     ]
    }
   ],
   "source": [
    "f1 = f1_score(y_true, y_pred, average='binary')\n",
    "print(f1)"
   ]
  },
  {
   "cell_type": "code",
   "execution_count": 8,
   "metadata": {},
   "outputs": [
    {
     "name": "stdout",
     "output_type": "stream",
     "text": [
      "21\n",
      "21\n"
     ]
    }
   ],
   "source": [
    "# 無名関数の作成\n",
    "\"\"\"\n",
    "lambda (引数): (返り値)\n",
    "\n",
    "def pow1(x):\n",
    "    return x **2\n",
    "    \n",
    "pow2 = lambda x: x ** 2\n",
    "b = pow2(a)\n",
    "\"\"\"\n",
    "a = 4\n",
    "\n",
    "# 関数\n",
    "def func1(x):\n",
    "    return 2*x ** 2 - 3*x + 1\n",
    "\n",
    "# 無名関数\n",
    "func2 = lambda x: 2*x ** 2 - 3*x + 1\n",
    "\n",
    "print(func1(a))\n",
    "print(func2(a))"
   ]
  },
  {
   "cell_type": "code",
   "execution_count": 10,
   "metadata": {},
   "outputs": [
    {
     "name": "stdout",
     "output_type": "stream",
     "text": [
      "15\n",
      "15\n"
     ]
    }
   ],
   "source": [
    "#  lambdaによる計算\n",
    "\"\"\"\n",
    "add1 = lambda x, y = x + y\n",
    "\"\"\"\n",
    "x = 2\n",
    "y = 4\n",
    "z = 7\n",
    "\n",
    "# 関数\n",
    "def func3(x, y, z):\n",
    "    return x * y + z\n",
    "\n",
    "# 無名関数\n",
    "func4 = lambda x, y, z: x * y + z\n",
    "\n",
    "print(func3(x, y, z))\n",
    "print(func4(x, y, z))"
   ]
  },
  {
   "cell_type": "code",
   "execution_count": 12,
   "metadata": {},
   "outputs": [
    {
     "name": "stdout",
     "output_type": "stream",
     "text": [
      "7.333333333333334\n"
     ]
    }
   ],
   "source": [
    "# ifを用いたlambda\n",
    "\"\"\"\n",
    "三項演算子\n",
    "    - 条件を満たす時の処理 if 条件 else 条件を満たさない時の処理\n",
    "\"\"\"\n",
    "# 引数が3未満ならば2を掛け、3以上ならば3で割って5で足す関数\n",
    "def lower_three1(x):\n",
    "    if x < 3:\n",
    "        return x * 2\n",
    "    else:\n",
    "        return x / 3 + 5\n",
    "\n",
    "print(lower_three1(7))"
   ]
  },
  {
   "cell_type": "code",
   "execution_count": 14,
   "metadata": {},
   "outputs": [
    {
     "name": "stdout",
     "output_type": "stream",
     "text": [
      "7.0\n"
     ]
    }
   ],
   "source": [
    "lower_three2 = lambda x: x * 2 if x < 3 else x / 3 + 5\n",
    "print(lower_three2(6))"
   ]
  },
  {
   "cell_type": "code",
   "execution_count": null,
   "metadata": {
    "collapsed": true
   },
   "outputs": [],
   "source": [
    "a1 = 14\n",
    "a2 = 4\n",
    "\n",
    "func5 = lambda x: x **2  - 40*x + 350 if x >=10 and x < 30 else 50\n",
    "\n",
    "print(func5(a1))\n",
    "print(func5(a2))"
   ]
  }
 ],
 "metadata": {
  "kernelspec": {
   "display_name": "Python 3",
   "language": "python",
   "name": "python3"
  },
  "language_info": {
   "codemirror_mode": {
    "name": "ipython",
    "version": 3
   },
   "file_extension": ".py",
   "mimetype": "text/x-python",
   "name": "python",
   "nbconvert_exporter": "python",
   "pygments_lexer": "ipython3",
   "version": "3.6.3"
  }
 },
 "nbformat": 4,
 "nbformat_minor": 2
}
