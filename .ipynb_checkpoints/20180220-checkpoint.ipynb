{
 "cells": [
  {
   "cell_type": "code",
   "execution_count": 4,
   "metadata": {},
   "outputs": [
    {
     "data": {
      "image/png": "[encoded data removed]",
      "text/plain": [
       "<matplotlib.figure.Figure at 0x10f878e10>"
      ]
     },
     "metadata": {},
     "output_type": "display_data"
    }
   ],
   "source": [
    "# 折れ線グラフ\n",
    "## マーカーの種類と色を設定する\n",
    "\"\"\"\n",
    "marker='指定子'\n",
    "    - マーカーの種類を設定\n",
    "makerfacecolor='指定子'\n",
    "    - マーカーの色を設定\n",
    "\"\"\"\n",
    "import numpy as np\n",
    "import matplotlib.pyplot as plt\n",
    "\n",
    "days = np.arange(1,  11)\n",
    "weight = np.array([10, 14, 18, 20, 18, 16, 17, 18, 20, 17])\n",
    "\n",
    "plt.ylim([0, weight.max()+1])\n",
    "plt.xlabel(\"days\")\n",
    "plt.ylabel('weight')\n",
    "plt.plot(days, weight, marker='*', markerfacecolor='g')\n",
    "plt.show()"
   ]
  },
  {
   "cell_type": "code",
   "execution_count": 6,
   "metadata": {},
   "outputs": [
    {
     "data": {
      "text/plain": [
       "[<matplotlib.lines.Line2D at 0x118d0b710>]"
      ]
     },
     "execution_count": 6,
     "metadata": {},
     "output_type": "execute_result"
    }
   ],
   "source": [
    "## 線のスタイルと色を設定する\n",
    "\"\"\"\n",
    "linestyle='指定子'\n",
    "    - 線のスタイルを指定できる\n",
    "\"\"\"\n",
    "import numpy as np\n",
    "import matplotlib.pyplot as plt\n",
    "\n",
    "days = np.arange(1, 11)\n",
    "weight = np.array([10, 14, 18, 20, 18, 16, 17, 18, 20, 17])\n",
    "\n",
    "plt.ylim([0, weight.max()+1])\n",
    "plt.xlabel('xlabel')\n",
    "plt.ylabel('ylabel')\n",
    "\n",
    "plt.plot(days, weight, linestyle='--', color='b', marker='o', markerfacecolor='r')\n",
    "plt.show()"
   ]
  }
 ],
 "metadata": {
  "kernelspec": {
   "display_name": "Python 3",
   "language": "python",
   "name": "python3"
  },
  "language_info": {
   "codemirror_mode": {
    "name": "ipython",
    "version": 3
   },
   "file_extension": ".py",
   "mimetype": "text/x-python",
   "name": "python",
   "nbconvert_exporter": "python",
   "pygments_lexer": "ipython3",
   "version": "3.6.3"
  }
 },
 "nbformat": 4,
 "nbformat_minor": 2
}
