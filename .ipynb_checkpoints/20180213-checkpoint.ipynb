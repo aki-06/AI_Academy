{
 "cells": [
  {
   "cell_type": "code",
   "execution_count": 9,
   "metadata": {},
   "outputs": [
    {
     "name": "stdout",
     "output_type": "stream",
     "text": [
      "       fruits  time  year\n",
      "0       apple     1  2000\n",
      "1      orange     2  2001\n",
      "2      banana     3  2002\n",
      "3  strawberry     4  2003\n",
      "4   kiwifruit     5  2004\n"
     ]
    }
   ],
   "source": [
    "# 番号による参照\n",
    "\"\"\"\n",
    "インデックス、カラムの番号で、DataFrame型のデータを参照する場合はilocを使う\n",
    "df.iloc['行番号のリスト', '列番号のリスト']\n",
    "スライス機能を使うこともできる\n",
    "\"\"\"\n",
    "import pandas as pd\n",
    "\n",
    "data = {\n",
    "    'fruits': ['apple', 'orange', 'banana', 'strawberry', 'kiwifruit'],\n",
    "    'time': [1, 2, 3, 4, 5],\n",
    "    'year': [2000, 2001, 2002, 2003, 2004]\n",
    "}\n",
    "df = pd.DataFrame(data)\n",
    "print(df)"
   ]
  },
  {
   "cell_type": "code",
   "execution_count": 11,
   "metadata": {},
   "outputs": [
    {
     "name": "stdout",
     "output_type": "stream",
     "text": [
      "       fruits  year\n",
      "1      orange  2001\n",
      "3  strawberry  2003\n"
     ]
    }
   ],
   "source": [
    "df = df.iloc[[1, 3], [0, 2]]\n",
    "print(df)"
   ]
  },
  {
   "cell_type": "code",
   "execution_count": 12,
   "metadata": {},
   "outputs": [
    {
     "name": "stdout",
     "output_type": "stream",
     "text": [
      "    apple  orange  banana  kiwifruit  strawberry\n",
      "1       6       8       6          3          10\n",
      "2       1       7      10          4          10\n",
      "3       4       9       9          9           1\n",
      "4       4       9      10          2           5\n",
      "5       8       2       5          4           8\n",
      "6      10       7       4          4           4\n",
      "7       4       8       1          4           3\n",
      "8       6       8       4          8           8\n",
      "9       3       9       6          1           3\n",
      "10      5       2       1          2           1\n"
     ]
    }
   ],
   "source": [
    "import pandas as pd\n",
    "import numpy as np\n",
    "\n",
    "np.random.seed(0)\n",
    "columns = ['apple', 'orange', 'banana', 'kiwifruit', 'strawberry']\n",
    "\n",
    "# DataFrameを生成し、列を追加\n",
    "df = pd.DataFrame()\n",
    "for column in columns:\n",
    "    df[column] = np.random.choice(range(1, 11), 10)\n",
    "df.index = range(1, 11)\n",
    "print(df)"
   ]
  },
  {
   "cell_type": "code",
   "execution_count": 13,
   "metadata": {},
   "outputs": [
    {
     "ename": "SyntaxError",
     "evalue": "invalid syntax (<ipython-input-13-f358596a234d>, line 1)",
     "output_type": "error",
     "traceback": [
      "\u001b[0;36m  File \u001b[0;32m\"<ipython-input-13-f358596a234d>\"\u001b[0;36m, line \u001b[0;32m1\u001b[0m\n\u001b[0;31m    df = df.iloc[1:5, [0:3]]\u001b[0m\n\u001b[0m                        ^\u001b[0m\n\u001b[0;31mSyntaxError\u001b[0m\u001b[0;31m:\u001b[0m invalid syntax\n"
     ]
    }
   ],
   "source": [
    "df = df.iloc[1:5, [0, 3]]\n",
    "print(df)"
   ]
  }
 ],
 "metadata": {
  "kernelspec": {
   "display_name": "Python 3",
   "language": "python",
   "name": "python3"
  },
  "language_info": {
   "codemirror_mode": {
    "name": "ipython",
    "version": 3
   },
   "file_extension": ".py",
   "mimetype": "text/x-python",
   "name": "python",
   "nbconvert_exporter": "python",
   "pygments_lexer": "ipython3",
   "version": "3.6.3"
  }
 },
 "nbformat": 4,
 "nbformat_minor": 2
}
