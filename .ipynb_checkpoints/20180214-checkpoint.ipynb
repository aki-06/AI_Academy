{
 "cells": [
  {
   "cell_type": "code",
   "execution_count": 1,
   "metadata": {},
   "outputs": [
    {
     "name": "stdout",
     "output_type": "stream",
     "text": [
      "   apple  banana  grape\n",
      "1     45      68     37\n",
      "2     48      10     88\n",
      "3     65      84     71\n",
      "4     68      22     89\n"
     ]
    }
   ],
   "source": [
    "# インデックス、カラムが一致しているDataFrame同士の連結\n",
    "\"\"\"\n",
    "DataFrame同士を一定の方向にそのまま繋げる操作を連結という\n",
    "pandas.concat('DataFrameのリスト', axis=0)\n",
    "  - 先頭から順に縦方向に連結\n",
    "  - 同じカラムに対して連結\n",
    "pandas.concat('DataFrameのリスト', axis-1)\n",
    "  - 横方向に連結\n",
    "  - 同じインデックスに対して連結\n",
    "\"\"\"\n",
    "import pandas as pd\n",
    "import numpy as np\n",
    "\n",
    "# 指定のインデックスとカラムを持つDataFrameを乱数によって作成する関数\n",
    "def make_random_df(index, columns, seed):\n",
    "    np.random.seed(seed)\n",
    "    df = pd.DataFrame()\n",
    "    for column in columns:\n",
    "        df[column] = np.random.choice(range(1, 101), len(index))\n",
    "    df.index = index\n",
    "    return df\n",
    "\n",
    "#インデックス、カラムが一致しているDataFrameの作成\n",
    "columns = ['apple', 'banana', 'grape']\n",
    "df_data1 = make_random_df(range(1, 5), columns, 0)\n",
    "print(df_data1)"
   ]
  },
  {
   "cell_type": "code",
   "execution_count": 2,
   "metadata": {},
   "outputs": [
    {
     "name": "stdout",
     "output_type": "stream",
     "text": [
      "   apple  banana  grape\n",
      "1     38      76     17\n",
      "2     13       6      2\n",
      "3     73      80     77\n",
      "4     10      65     72\n"
     ]
    }
   ],
   "source": [
    "df_data2 = make_random_df(range(1, 5), columns, 1)\n",
    "print(df_data2)"
   ]
  },
  {
   "cell_type": "code",
   "execution_count": 3,
   "metadata": {},
   "outputs": [
    {
     "name": "stdout",
     "output_type": "stream",
     "text": [
      "   apple  banana  grape\n",
      "1     45      68     37\n",
      "2     48      10     88\n",
      "3     65      84     71\n",
      "4     68      22     89\n",
      "1     38      76     17\n",
      "2     13       6      2\n",
      "3     73      80     77\n",
      "4     10      65     72\n"
     ]
    }
   ],
   "source": [
    "# 縦方向に連結\n",
    "df1 = pd.concat([df_data1, df_data2], axis=0)\n",
    "print(df1)"
   ]
  },
  {
   "cell_type": "code",
   "execution_count": 4,
   "metadata": {},
   "outputs": [
    {
     "name": "stdout",
     "output_type": "stream",
     "text": [
      "   apple  banana  grape  apple  banana  grape\n",
      "1     45      68     37     38      76     17\n",
      "2     48      10     88     13       6      2\n",
      "3     65      84     71     73      80     77\n",
      "4     68      22     89     10      65     72\n"
     ]
    }
   ],
   "source": [
    "# 横方向に連結\n",
    "df2 = pd.concat([df_data1, df_data2], axis=1)\n",
    "print(df2)"
   ]
  },
  {
   "cell_type": "code",
   "execution_count": 7,
   "metadata": {},
   "outputs": [
    {
     "name": "stdout",
     "output_type": "stream",
     "text": [
      "   apple  banana  grape\n",
      "1      7      19     30\n",
      "2     26      85     15\n",
      "3     51      12     51\n",
      "4     21      29     69\n"
     ]
    }
   ],
   "source": [
    "# インデックス、カラムが一致していないDataFrame同士の連結\n",
    "\"\"\"\n",
    "インデックスやカラムが一致指定ない行や列にNaNが生成される\n",
    "\"\"\"\n",
    "import pandas as pd\n",
    "import numpy as np\n",
    "\n",
    "def make_random_df(index, columns, seed):\n",
    "    df = pd.DataFrame()\n",
    "    for column in columns:\n",
    "        df[column] = np.random.choice(range(1, 101), len(index))\n",
    "    df.index = index\n",
    "    return df\n",
    "\n",
    "columns1 = ['apple', 'banana', 'grape']\n",
    "columns2 = ['mango', 'peach', 'melon']\n",
    "\n",
    "df_data1 = make_random_df(range(1, 5), columns1, 0)\n",
    "print(df_data1)"
   ]
  },
  {
   "cell_type": "code",
   "execution_count": 11,
   "metadata": {},
   "outputs": [
    {
     "ename": "AttributeError",
     "evalue": "module 'numpy' has no attribute 'arrange'",
     "output_type": "error",
     "traceback": [
      "\u001b[0;31m---------------------------------------------------------------------------\u001b[0m",
      "\u001b[0;31mAttributeError\u001b[0m                            Traceback (most recent call last)",
      "\u001b[0;32m<ipython-input-11-a4bb9cc8bc07>\u001b[0m in \u001b[0;36m<module>\u001b[0;34m()\u001b[0m\n\u001b[0;32m----> 1\u001b[0;31m \u001b[0mdf_data2\u001b[0m \u001b[0;34m=\u001b[0m \u001b[0mmake_random_df\u001b[0m\u001b[0;34m(\u001b[0m\u001b[0mnp\u001b[0m\u001b[0;34m.\u001b[0m\u001b[0marrange\u001b[0m\u001b[0;34m(\u001b[0m\u001b[0;36m1\u001b[0m\u001b[0;34m,\u001b[0m \u001b[0;36m8\u001b[0m\u001b[0;34m,\u001b[0m \u001b[0;36m2\u001b[0m\u001b[0;34m)\u001b[0m\u001b[0;34m,\u001b[0m \u001b[0mcolumns2\u001b[0m\u001b[0;34m,\u001b[0m \u001b[0;36m1\u001b[0m\u001b[0;34m)\u001b[0m\u001b[0;34m\u001b[0m\u001b[0m\n\u001b[0m\u001b[1;32m      2\u001b[0m \u001b[0mprint\u001b[0m\u001b[0;34m(\u001b[0m\u001b[0mdf_data2\u001b[0m\u001b[0;34m)\u001b[0m\u001b[0;34m\u001b[0m\u001b[0m\n",
      "\u001b[0;31mAttributeError\u001b[0m: module 'numpy' has no attribute 'arrange'"
     ]
    }
   ],
   "source": [
    "df_data2 = make_random_df(np.arange(1, 8, 2), columns2, 1)\n",
    "print(df_data2)"
   ]
  },
  {
   "cell_type": "code",
   "execution_count": 9,
   "metadata": {},
   "outputs": [
    {
     "name": "stdout",
     "output_type": "stream",
     "text": [
      "   apple  banana  grape  mango  melon  peach\n",
      "1    7.0    19.0   30.0    NaN    NaN    NaN\n",
      "2   26.0    85.0   15.0    NaN    NaN    NaN\n",
      "3   51.0    12.0   51.0    NaN    NaN    NaN\n",
      "4   21.0    29.0   69.0    NaN    NaN    NaN\n",
      "1    NaN     NaN    NaN   88.0   64.0   87.0\n",
      "2    NaN     NaN    NaN   88.0   62.0   14.0\n",
      "3    NaN     NaN    NaN   95.0   23.0   10.0\n",
      "4    NaN     NaN    NaN   97.0   58.0    8.0\n"
     ]
    }
   ],
   "source": [
    "# 縦に連結\n",
    "df1 = pd.concat([df_data1, df_data2], axis=0)\n",
    "print(df1)"
   ]
  },
  {
   "cell_type": "code",
   "execution_count": 10,
   "metadata": {},
   "outputs": [
    {
     "name": "stdout",
     "output_type": "stream",
     "text": [
      "   apple  banana  grape  mango  peach  melon\n",
      "1      7      19     30     88     87     64\n",
      "2     26      85     15     88     14     62\n",
      "3     51      12     51     95     10     23\n",
      "4     21      29     69     97      8     58\n"
     ]
    }
   ],
   "source": [
    "# 横に連結\n",
    "df2 = pd.concat([df_data1, df_data2], axis=1)\n",
    "print(df2)"
   ]
  }
 ],
 "metadata": {
  "kernelspec": {
   "display_name": "Python 3",
   "language": "python",
   "name": "python3"
  },
  "language_info": {
   "codemirror_mode": {
    "name": "ipython",
    "version": 3
   },
   "file_extension": ".py",
   "mimetype": "text/x-python",
   "name": "python",
   "nbconvert_exporter": "python",
   "pygments_lexer": "ipython3",
   "version": "3.6.3"
  }
 },
 "nbformat": 4,
 "nbformat_minor": 2
}
