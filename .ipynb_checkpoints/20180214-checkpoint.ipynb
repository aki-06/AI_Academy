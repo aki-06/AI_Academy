{
 "cells": [
  {
   "cell_type": "code",
   "execution_count": 1,
   "metadata": {},
   "outputs": [
    {
     "name": "stdout",
     "output_type": "stream",
     "text": [
      "   apple  banana  grape\n",
      "1     45      68     37\n",
      "2     48      10     88\n",
      "3     65      84     71\n",
      "4     68      22     89\n"
     ]
    }
   ],
   "source": [
    "# インデックス、カラムが一致しているDataFrame同士の連結\n",
    "\"\"\"\n",
    "DataFrame同士を一定の方向にそのまま繋げる操作を連結という\n",
    "pandas.concat('DataFrameのリスト', axis=0)\n",
    "  - 先頭から順に縦方向に連結\n",
    "  - 同じカラムに対して連結\n",
    "pandas.concat('DataFrameのリスト', axis-1)\n",
    "  - 横方向に連結\n",
    "  - 同じインデックスに対して連結\n",
    "\"\"\"\n",
    "import pandas as pd\n",
    "import numpy as np\n",
    "\n",
    "# 指定のインデックスとカラムを持つDataFrameを乱数によって作成する関数\n",
    "def make_random_df(index, columns, seed):\n",
    "    np.random.seed(seed)\n",
    "    df = pd.DataFrame()\n",
    "    for column in columns:\n",
    "        df[column] = np.random.choice(range(1, 101), len(index))\n",
    "    df.index = index\n",
    "    return df\n",
    "\n",
    "#インデックス、カラムが一致しているDataFrameの作成\n",
    "columns = ['apple', 'banana', 'grape']\n",
    "df_data1 = make_random_df(range(1, 5), columns, 0)\n",
    "print(df_data1)"
   ]
  },
  {
   "cell_type": "code",
   "execution_count": 2,
   "metadata": {},
   "outputs": [
    {
     "name": "stdout",
     "output_type": "stream",
     "text": [
      "   apple  banana  grape\n",
      "1     38      76     17\n",
      "2     13       6      2\n",
      "3     73      80     77\n",
      "4     10      65     72\n"
     ]
    }
   ],
   "source": [
    "df_data2 = make_random_df(range(1, 5), columns, 1)\n",
    "print(df_data2)"
   ]
  },
  {
   "cell_type": "code",
   "execution_count": 3,
   "metadata": {},
   "outputs": [
    {
     "name": "stdout",
     "output_type": "stream",
     "text": [
      "   apple  banana  grape\n",
      "1     45      68     37\n",
      "2     48      10     88\n",
      "3     65      84     71\n",
      "4     68      22     89\n",
      "1     38      76     17\n",
      "2     13       6      2\n",
      "3     73      80     77\n",
      "4     10      65     72\n"
     ]
    }
   ],
   "source": [
    "# 縦方向に連結\n",
    "df1 = pd.concat([df_data1, df_data2], axis=0)\n",
    "print(df1)"
   ]
  },
  {
   "cell_type": "code",
   "execution_count": null,
   "metadata": {
    "collapsed": true
   },
   "outputs": [],
   "source": [
    "# 横方向に連結\n",
    "df2 = pd.concat([df_data1, df_data2], axis=1)\n",
    "print(df2)"
   ]
  }
 ],
 "metadata": {
  "kernelspec": {
   "display_name": "Python 3",
   "language": "python",
   "name": "python3"
  },
  "language_info": {
   "codemirror_mode": {
    "name": "ipython",
    "version": 3
   },
   "file_extension": ".py",
   "mimetype": "text/x-python",
   "name": "python",
   "nbconvert_exporter": "python",
   "pygments_lexer": "ipython3",
   "version": "3.6.3"
  }
 },
 "nbformat": 4,
 "nbformat_minor": 2
}
