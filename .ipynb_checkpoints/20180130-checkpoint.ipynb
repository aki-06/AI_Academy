{
 "cells": [
  {
   "cell_type": "code",
   "execution_count": null,
   "metadata": {
    "collapsed": true
   },
   "outputs": [],
   "source": [
    "#  正規表現\n",
    "\"\"\"\n",
    "文字列のパターンマッチングを行う\n",
    "\"\"\""
   ]
  },
  {
   "cell_type": "code",
   "execution_count": null,
   "metadata": {
    "collapsed": true
   },
   "outputs": [],
   "source": [
    "# メタ文字\n",
    "\"\"\"\n",
    ".  任意の一文字\n",
    "*  直前のパターンの\n",
    "+  直前のパターンの\n",
    "^ 　先頭から\n",
    "$  末尾から\n",
    "?  直前のパターンの\n",
    "{m}  m回反復する\n",
    "{m, n}  mからn回反復する\n",
    "[]  []内のいずれかの一文字\n",
    "|  和集合\n",
    "()  グループ化\n",
    "\\  エスケープもじ\n",
    "\"\"\""
   ]
  },
  {
   "cell_type": "code",
   "execution_count": null,
   "metadata": {
    "collapsed": true
   },
   "outputs": [],
   "source": [
    "# Pythonで正規表現を使う\n",
    "import re"
   ]
  }
 ],
 "metadata": {
  "kernelspec": {
   "display_name": "Python 3",
   "language": "python",
   "name": "python3"
  },
  "language_info": {
   "codemirror_mode": {
    "name": "ipython",
    "version": 3
   },
   "file_extension": ".py",
   "mimetype": "text/x-python",
   "name": "python",
   "nbconvert_exporter": "python",
   "pygments_lexer": "ipython3",
   "version": "3.6.3"
  }
 },
 "nbformat": 4,
 "nbformat_minor": 2
}
