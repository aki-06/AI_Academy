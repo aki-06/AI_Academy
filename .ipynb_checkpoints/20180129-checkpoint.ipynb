{
 "cells": [
  {
   "cell_type": "code",
   "execution_count": 1,
   "metadata": {},
   "outputs": [
    {
     "name": "stdout",
     "output_type": "stream",
     "text": [
      "A     1\n",
      "B     3\n",
      "C     5\n",
      "D    10\n",
      "dtype: int64\n"
     ]
    }
   ],
   "source": [
    "# map, apply, applymap関数\n",
    "# Series\n",
    "\"\"\"\n",
    "Series.map()\n",
    "Series.array()\n",
    "\"\"\"\n",
    "import pandas as pd\n",
    "\n",
    "d = pd.Series([1, 3, 5, 10], index=['A', 'B', 'C', 'D'])\n",
    "print(d)"
   ]
  },
  {
   "cell_type": "code",
   "execution_count": 2,
   "metadata": {},
   "outputs": [
    {
     "name": "stdout",
     "output_type": "stream",
     "text": [
      "A     3\n",
      "B     5\n",
      "C     7\n",
      "D    12\n",
      "dtype: int64\n"
     ]
    }
   ],
   "source": [
    "d_plus2_apply = d.apply(lambda x: x + 2)\n",
    "print(d_plus2_apply)"
   ]
  },
  {
   "cell_type": "code",
   "execution_count": 3,
   "metadata": {},
   "outputs": [
    {
     "name": "stdout",
     "output_type": "stream",
     "text": [
      "A     2\n",
      "B     6\n",
      "C    10\n",
      "D    20\n",
      "dtype: int64\n"
     ]
    }
   ],
   "source": [
    "print(d.map(lambda x: x * 2))"
   ]
  },
  {
   "cell_type": "code",
   "execution_count": 4,
   "metadata": {},
   "outputs": [
    {
     "name": "stdout",
     "output_type": "stream",
     "text": [
      "   col1  col2\n",
      "A     1     2\n",
      "B     3     6\n",
      "C     5    10\n",
      "D    10    20\n"
     ]
    }
   ],
   "source": [
    "d_DataFrame = d.apply(lambda x: pd.Series([x, x * 2], index=['col1', 'col2']))\n",
    "print(d_DataFrame)"
   ]
  },
  {
   "cell_type": "code",
   "execution_count": 10,
   "metadata": {},
   "outputs": [
    {
     "name": "stdout",
     "output_type": "stream",
     "text": [
      "         体重     身長\n",
      "役割                \n",
      "エンジニア  66.0  178.0\n",
      "営業     60.0  173.5\n"
     ]
    }
   ],
   "source": [
    "import pandas as pd\n",
    "import numpy as np\n",
    "\n",
    "df = pd.DataFrame({\n",
    "        '役割' : ['営業', 'エンジニア', '営業', 'エンジニア'],\n",
    "        '体重' : [65, 60, 55, 72],\n",
    "        '身長' : [178, 173, 169, 183]\n",
    "    })\n",
    "\n",
    "#このデータを名前によってグループ分けします\n",
    "grouped = df.groupby('役割')\n",
    "\n",
    "#グループごとの平均値を求めます\n",
    "print(grouped.apply(np.mean))"
   ]
  },
  {
   "cell_type": "code",
   "execution_count": null,
   "metadata": {
    "collapsed": true
   },
   "outputs": [],
   "source": [
    "import pandas as pd\n",
    "import numpy  as np\n",
    "df1 = pd.read_csv('../data/MultiIndex.csv')\n",
    "print(df1)\n",
    "\n",
    "\"\"\"\n",
    "出力結果\n",
    "           name  year product  expected  actual\n",
    "0   Ojima-Caffe  2015  coffee       682     757\n",
    "1   Ojima-Caffe  2015     tea       597     485\n",
    "2   Ojima-Caffe  2016  coffee       692     379\n",
    "3   Ojima-Caffe  2016     tea       575     308\n",
    "4   Ojima-Caffe  2017  coffee       508     597\n",
    "5   Ojima-Caffe  2017     tea       597     657\n",
    "6     Song-cafe  2015  coffee       603     651\n",
    "7     Song-cafe  2015     tea       391     483\n",
    "8     Song-cafe  2016  coffee       533     530\n",
    "9     Song-cafe  2016     tea       552     638\n",
    "10    Song-cafe  2017  coffee       793     732\n",
    "11    Song-cafe  2017     tea       642     407\n",
    "\"\"\"\n",
    "\n",
    "\"\"\"\n",
    "これらのデータの選択は少し困難になります。\n",
    "例えば2015年Ojima-caffeのコーヒーの売り上げを選択しようと思った場合、\n",
    "下のように非常に長いコードを使わなければなりません。\n",
    "\"\"\"\n",
    "print(df1[(df1[\"name\"] == \"Ojima-Caffe\")&(df1[\"year\"] == 2015)&(df1[\"product\"] == \"coffee\")].iloc[0])\n",
    "\n",
    "\"\"\"\n",
    "出力結果\n",
    "name        Ojima-Caffe\n",
    "year               2015\n",
    "product          coffee\n",
    "expected            682\n",
    "actual              757\n",
    "Name: 0, dtype: object\n",
    "\"\"\"\n",
    "\n",
    "\"\"\"\n",
    "ここで、Multi Indexの出番です。このようなデータには、Multi Index（複数のインデックス）を指定してデータを読み込みます。\n",
    "\"\"\"\n",
    "\n",
    "Multi_df = pd.read_csv(\"../data/MultiIndex.csv\",index_col=[\"name\",\"year\",\"product\"])\n",
    "print(df2)\n",
    "\n",
    "\"\"\"\n",
    "出力結果\n",
    "                            expected  actual\n",
    "name        year product                  \n",
    "Ojima-Caffe 2015 coffee        682     757\n",
    "                 tea           597     485\n",
    "            2016 coffee        692     379\n",
    "                 tea           575     308\n",
    "            2017 coffee        508     597\n",
    "                 tea           597     657\n",
    "Song-cafe   2015 coffee        603     651\n",
    "                 tea           391     483\n",
    "            2016 coffee        533     530\n",
    "                 tea           552     638\n",
    "            2017 coffee        793     732\n",
    "                 tea           642     407\n",
    "\"\"\"\n",
    "\n",
    "\"\"\"\n",
    "見た目としては、あまり変わりませんが、このように読み込むことによって、\n",
    "インデックスと実測値との関係が明白になりました。\n",
    "実際に、タプルを渡すことのみで、簡単にデータの選択ができます。\n",
    "\"\"\"\n",
    "\n",
    "print(Multi_df.loc[(\"Ojima-Caffe\",2015,\"coffee\")])\n",
    "\n",
    "\"\"\"\n",
    "出力結果\n",
    "expected    682\n",
    "actual      757\n",
    "Name: (Ojima-Caffe, 2015, coffee), dtype: int64\n",
    "\"\"\"\n",
    "\n",
    "\"\"\"\n",
    "階層型インデックスの構成を使うことによって、当然、処理速度も速くなります。\n",
    "他にもより広範囲なインデックスのデータを参照したい時は、以下のようなコードを記述してください。\n",
    "\"\"\"\n",
    "\n",
    "print(Multi_df.loc[(\"Ojima-Caffe\")])\n",
    "print(Multi_df.loc[(\"Ojima-Caffe\",2015)])\n",
    "\n",
    "\"\"\"\n",
    "出力結果\n",
    "              expected  actual\n",
    "year product                  \n",
    "2015 coffee        682     757\n",
    "     tea           597     485\n",
    "2016 coffee        692     379\n",
    "     tea           575     308\n",
    "2017 coffee        508     597\n",
    "     tea           597     657\n",
    "         expected  actual\n",
    "product                  \n",
    "coffee        682     757\n",
    "tea           597     485\n",
    "\"\"\"\n",
    "\n",
    "\"\"\"\n",
    "さらに、このようなデータフレームをCSVファイルとして出力する便利なコードがあります。\n",
    "これによってMultiIndexであってもきちんと全行フルに出力してくれます。\n",
    "\"\"\"\n",
    "\n",
    "Multi_df.to_csv(\"DataFrame.csv\")\n",
    "\n",
    "\n",
    "# 以下が、今回学んだ階層型インデックスの節での全コードです。\n",
    "\n",
    "import pandas as pd\n",
    "\n",
    "df1 = pd.read_csv('../data/MultiIndex.csv')\n",
    "print(df1)\n",
    "print(df1[(df1[\"name\"] == \"Ojima-Caffe\")&(df1[\"year\"] == 2015)&(df1[\"product\"] == \"coffee\")].iloc[0])\n",
    "\n",
    "Multi_df = pd.read_csv(\"../data/MultiIndex.csv\",index_col=[\"name\",\"year\",\"product\"])\n",
    "print(Multi_df)\n",
    "print(Multi_df.loc[(\"Ojima-Caffe\")])\n",
    "print(Multi_df.loc[(\"Ojima-Caffe\",2015)])\n",
    "print(Multi_df.loc[(\"Ojima-Caffe\",2015,\"coffee\")])\n",
    "\n",
    "Multi_df.to_csv(\"DataFrame.csv\")\n"
   ]
  }
 ],
 "metadata": {
  "kernelspec": {
   "display_name": "Python 3",
   "language": "python",
   "name": "python3"
  },
  "language_info": {
   "codemirror_mode": {
    "name": "ipython",
    "version": 3
   },
   "file_extension": ".py",
   "mimetype": "text/x-python",
   "name": "python",
   "nbconvert_exporter": "python",
   "pygments_lexer": "ipython3",
   "version": "3.6.3"
  }
 },
 "nbformat": 4,
 "nbformat_minor": 2
}
