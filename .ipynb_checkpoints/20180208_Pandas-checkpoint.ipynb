{
 "cells": [
  {
   "cell_type": "code",
   "execution_count": 3,
   "metadata": {},
   "outputs": [
    {
     "name": "stdout",
     "output_type": "stream",
     "text": [
      "banana    3\n",
      "orange    2\n",
      "dtype: int64\n"
     ]
    }
   ],
   "source": [
    "# Seriesを生成する\n",
    "\"\"\"\n",
    "一次元の配列のように扱う\n",
    "  - pandas.Series(辞書型のリスト)\n",
    "  - pandas.Series(データ配列, index=インデックス配列)\n",
    "dtype: int64\n",
    "  - Seriesに格納されている値が'int64'であることを示す\n",
    "\"\"\"\n",
    "\n",
    "import pandas as pd\n",
    "\n",
    "fruits = {'banana': 3, 'orange': 2}\n",
    "print(pd.Series(fruits))"
   ]
  },
  {
   "cell_type": "code",
   "execution_count": 4,
   "metadata": {},
   "outputs": [
    {
     "name": "stdout",
     "output_type": "stream",
     "text": [
      "apple     1\n",
      "banana    2\n",
      "orange    3\n",
      "dtype: int64\n"
     ]
    }
   ],
   "source": [
    "import pandas as pd\n",
    "\n",
    "index = ['apple', 'banana', 'orange']\n",
    "data = [1, 2, 3]\n",
    "\n",
    "series = pd.Series(data, index=index)\n",
    "print(series)"
   ]
  },
  {
   "cell_type": "code",
   "execution_count": 5,
   "metadata": {},
   "outputs": [
    {
     "name": "stdout",
     "output_type": "stream",
     "text": [
      "apple     1\n",
      "banana    3\n",
      "grape     6\n",
      "mango     9\n",
      "orange    2\n",
      "dtype: int64\n"
     ]
    }
   ],
   "source": [
    "\"\"\"\n",
    "Seiresの要素を指定するとき\n",
    "  - リストのように番号を指定する方法\n",
    "  - リストのスライス機能のようにseries[:3]のようにする方法\n",
    "\"\"\"\n",
    "import pandas as pd\n",
    "fruits = {'banana': 3, 'apple': 1, 'grape': 6, 'orange': 2, 'mango': 9}\n",
    "series = pd.Series(fruits)\n",
    "print(series)"
   ]
  },
  {
   "cell_type": "code",
   "execution_count": 6,
   "metadata": {},
   "outputs": [
    {
     "name": "stdout",
     "output_type": "stream",
     "text": [
      "apple     1\n",
      "banana    3\n",
      "dtype: int64\n"
     ]
    }
   ],
   "source": [
    "print(series[0:2])"
   ]
  },
  {
   "cell_type": "code",
   "execution_count": null,
   "metadata": {
    "collapsed": true
   },
   "outputs": [],
   "source": [
    "print(series[['apple', 'grape']])"
   ]
  }
 ],
 "metadata": {
  "kernelspec": {
   "display_name": "Python 3",
   "language": "python",
   "name": "python3"
  },
  "language_info": {
   "codemirror_mode": {
    "name": "ipython",
    "version": 3
   },
   "file_extension": ".py",
   "mimetype": "text/x-python",
   "name": "python",
   "nbconvert_exporter": "python",
   "pygments_lexer": "ipython3",
   "version": "3.6.3"
  }
 },
 "nbformat": 4,
 "nbformat_minor": 2
}
