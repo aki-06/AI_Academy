{
 "cells": [
  {
   "cell_type": "code",
   "execution_count": 2,
   "metadata": {},
   "outputs": [
    {
     "name": "stdout",
     "output_type": "stream",
     "text": [
      "['My', 'name', 'is', 'Nemoto']\n"
     ]
    }
   ],
   "source": [
    "# listの分割（split）\n",
    "\"\"\"\n",
    "split関数\n",
    "    - 文字列を空白やスラッシュなどで分けたい時\n",
    "文字列.split('区切る文字', 区切る回数)\n",
    "\"\"\"\n",
    "self_data = 'My name is Nemoto'\n",
    "\n",
    "str_list = self_data.split(' ')\n",
    "print(str_list)"
   ]
  },
  {
   "cell_type": "code",
   "execution_count": 3,
   "metadata": {
    "scrolled": true
   },
   "outputs": [
    {
     "name": "stdout",
     "output_type": "stream",
     "text": [
      "Nemoto\n"
     ]
    }
   ],
   "source": [
    "print(str_list[3])"
   ]
  },
  {
   "cell_type": "code",
   "execution_count": 4,
   "metadata": {},
   "outputs": [
    {
     "name": "stdout",
     "output_type": "stream",
     "text": [
      "['2018', '2', '26', '18', '00']\n"
     ]
    }
   ],
   "source": [
    "# listの分割（re.split）\n",
    "\"\"\"\n",
    "re.split\n",
    "    - 一度に複数の記号で文字列を切り分ける\n",
    "re.split(['区切りたい記号'], 文字列)\n",
    "\"\"\"\n",
    "import re\n",
    "\n",
    "time_data = '2018/2/26_18:00'\n",
    "time_list = re.split('[/_:]', time_data)\n",
    "print(time_list)"
   ]
  },
  {
   "cell_type": "code",
   "execution_count": null,
   "metadata": {
    "collapsed": true
   },
   "outputs": [],
   "source": [
    "print(time_list[2])"
   ]
  }
 ],
 "metadata": {
  "kernelspec": {
   "display_name": "Python 3",
   "language": "python",
   "name": "python3"
  },
  "language_info": {
   "codemirror_mode": {
    "name": "ipython",
    "version": 3
   },
   "file_extension": ".py",
   "mimetype": "text/x-python",
   "name": "python",
   "nbconvert_exporter": "python",
   "pygments_lexer": "ipython3",
   "version": "3.6.3"
  }
 },
 "nbformat": 4,
 "nbformat_minor": 2
}
