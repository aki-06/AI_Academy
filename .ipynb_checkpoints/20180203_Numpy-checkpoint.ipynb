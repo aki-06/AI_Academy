{
 "cells": [
  {
   "cell_type": "code",
   "execution_count": 3,
   "metadata": {},
   "outputs": [
    {
     "name": "stdout",
     "output_type": "stream",
     "text": [
      "[24, 3, 4, 23, 10, 12]\n",
      "[24  3  4 23 10 12]\n",
      "<class 'numpy.ndarray'>\n"
     ]
    }
   ],
   "source": [
    "# 一次元配列\n",
    "\"\"\"\n",
    "ndarrayクラス\n",
    "- 配列を高速に扱う\n",
    "    - np.array([リスト])\n",
    "    - np.array([1, 2, 3])\n",
    "- 等間隔に増減させた値をx個作成\n",
    "    - np.arage(x)\n",
    "    - np.arange(4) # [0, 1, 2, 3]\n",
    "- 一次元\n",
    "    - ベクトル\n",
    "    - array_1d = np.array([1, 2, 3, 4,])\n",
    "- 二次元\n",
    "    - 行列\n",
    "    - array_2d = np.array([[1, 2], [3, 4]])\n",
    "- 三次元\n",
    "    - テンソル\n",
    "    - array_3d = np.array([[[1, 2], [3, 4]], [5, 6], [7, 8]])\n",
    "\"\"\"\n",
    "import numpy as np\n",
    "\n",
    "numbers = [24, 3, 4, 23, 10, 12]\n",
    "print(numbers)\n",
    "np_numbers = np.array(numbers)\n",
    "print(np_numbers)\n",
    "print(type(np_numbers))"
   ]
  },
  {
   "cell_type": "code",
   "execution_count": 5,
   "metadata": {},
   "outputs": [
    {
     "name": "stdout",
     "output_type": "stream",
     "text": [
      "Numpy未使用: [2, 4, 6, 8]\n"
     ]
    }
   ],
   "source": [
    "# 一次元配列の計算\n",
    "\"\"\"\n",
    "ndarrayはループ処理が必要ない\n",
    "- ndarray同士の算術演算では、同じ位置にある要素同士で計算される\n",
    "\"\"\"\n",
    "# Numpy未使用\n",
    "numbers = [1, 2, 3, 4]\n",
    "new_numbers = []\n",
    "for number in numbers:\n",
    "    number += number\n",
    "    new_numbers.append(number)\n",
    "    \n",
    "print('Numpy未使用:',new_numbers)"
   ]
  },
  {
   "cell_type": "code",
   "execution_count": 7,
   "metadata": {},
   "outputs": [
    {
     "name": "stdout",
     "output_type": "stream",
     "text": [
      "Numpy使用: [2 4 6 8]\n"
     ]
    }
   ],
   "source": [
    "# Numpy使用\n",
    "import numpy as np\n",
    "\n",
    "numbers = np.array([1, 2, 3, 4])\n",
    "numbers += numbers\n",
    "print('Numpy使用:',numbers)"
   ]
  },
  {
   "cell_type": "code",
   "execution_count": null,
   "metadata": {
    "collapsed": true
   },
   "outputs": [],
   "source": [
    "import numpy as np\n",
    "\n",
    "arr = np.array([2, 4, 7, 13])\n",
    "\n",
    "print('足し算:',arr + arr)\n",
    "print('引き算:', arr - arr)\n",
    "print('三乗:', arr ** 3)\n",
    "print('1を変数で割り算:', 1 / arr)"
   ]
  }
 ],
 "metadata": {
  "kernelspec": {
   "display_name": "Python 3",
   "language": "python",
   "name": "python3"
  },
  "language_info": {
   "codemirror_mode": {
    "name": "ipython",
    "version": 3
   },
   "file_extension": ".py",
   "mimetype": "text/x-python",
   "name": "python",
   "nbconvert_exporter": "python",
   "pygments_lexer": "ipython3",
   "version": "3.6.3"
  }
 },
 "nbformat": 4,
 "nbformat_minor": 2
}
