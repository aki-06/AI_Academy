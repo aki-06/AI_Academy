{
 "cells": [
  {
   "cell_type": "code",
   "execution_count": null,
   "metadata": {
    "collapsed": true
   },
   "outputs": [],
   "source": [
    "# Numpy\n",
    "\"\"\"\n",
    "数値計算を効率的に行うためのライブラリで、\n",
    "データ解析および線形代数を扱う上で必須のライブラリ\n",
    "ベクトルや行列などの多次元配列を作ることができる\n",
    "\"\"\""
   ]
  },
  {
   "cell_type": "code",
   "execution_count": 3,
   "metadata": {},
   "outputs": [
    {
     "name": "stdout",
     "output_type": "stream",
     "text": [
      "[ 1.  2.  3.  4.  5.]\n",
      "<class 'numpy.ndarray'>\n"
     ]
    }
   ],
   "source": [
    "# Numpyを使用する\n",
    "import numpy as np\n",
    "\n",
    "# 配列を作る\n",
    "# arrayを使うことでNumpyの配列を作ることができる\n",
    "x = np.array([1.0, 2.0, 3.0, 4.0, 5.0])\n",
    "print(x)\n",
    "print(type(x))"
   ]
  },
  {
   "cell_type": "code",
   "execution_count": 8,
   "metadata": {},
   "outputs": [
    {
     "name": "stdout",
     "output_type": "stream",
     "text": [
      "[0 1 2 3 4 5 6 7 8 9]\n",
      "[[1 2 3]\n",
      " [4 5 6]\n",
      " [7 8 9]]\n",
      "[[1 2 3]\n",
      " [4 5 6]\n",
      " [7 8 9]]\n",
      "[[ 2  4  6]\n",
      " [ 8 10 12]\n",
      " [14 16 18]]\n",
      "[[0 0 0]\n",
      " [0 0 0]\n",
      " [0 0 0]]\n",
      "[[ 1  4  9]\n",
      " [16 25 36]\n",
      " [49 64 81]]\n"
     ]
    }
   ],
   "source": [
    "# 配列の生成　arange()\n",
    "import numpy as np\n",
    "\"\"\"\n",
    "データの準備\n",
    "等間隔の数字\n",
    "0から9までの数字(配列)を生成\n",
    "\"\"\"\n",
    "x = np.arange(10)\n",
    "print(x)\n",
    "\n",
    "# reshape()は配列の形状を変換する\n",
    "x = np.arange(1, 10).reshape(3,  3) # 3*3の多次元配列に変換\n",
    "y = np.arange(1, 10).reshape(3, 3) # # 3*3の多次元配列に変換\n",
    "\n",
    "print(x)\n",
    "\"\"\"\n",
    "[[1 2 3]\n",
    " [4 5 6]\n",
    " [7 8 9]]\n",
    "\"\"\"\n",
    "\n",
    "print(y)\n",
    "\"\"\"\n",
    "[[1 2 3]\n",
    " [4 5 6]\n",
    " [7 8 9]]\n",
    "\"\"\"\n",
    "\n",
    "print(x + y)\n",
    "\"\"\"\n",
    "[[ 2  4  6]\n",
    " [ 8 10 12]\n",
    " [14 16 18]]\n",
    "\"\"\"\n",
    "\n",
    "print(x - y)\n",
    "\"\"\"\n",
    "[[0 0 0]\n",
    " [0 0 0]\n",
    " [0 0 0]]\n",
    "\"\"\"\n",
    "\n",
    "print(x * y)\n",
    "\"\"\"\n",
    "[[ 1  4  9]\n",
    " [16 25 36]\n",
    " [49 64 81]]\n",
    "\"\"\""
   ]
  },
  {
   "cell_type": "code",
   "execution_count": null,
   "metadata": {
    "collapsed": true
   },
   "outputs": [],
   "source": []
  }
 ],
 "metadata": {
  "kernelspec": {
   "display_name": "Python 3",
   "language": "python",
   "name": "python3"
  },
  "language_info": {
   "codemirror_mode": {
    "name": "ipython",
    "version": 3
   },
   "file_extension": ".py",
   "mimetype": "text/x-python",
   "name": "python",
   "nbconvert_exporter": "python",
   "pygments_lexer": "ipython3",
   "version": "3.6.3"
  }
 },
 "nbformat": 4,
 "nbformat_minor": 2
}
