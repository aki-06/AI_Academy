{
 "cells": [
  {
   "cell_type": "code",
   "execution_count": null,
   "metadata": {
    "collapsed": true
   },
   "outputs": [],
   "source": [
    "# Pandas\n",
    "\"\"\"\n",
    "シリーズ\n",
    "データフレーム\n",
    "パネル\n",
    "\"\"\""
   ]
  },
  {
   "cell_type": "code",
   "execution_count": 2,
   "metadata": {},
   "outputs": [
    {
     "name": "stdout",
     "output_type": "stream",
     "text": [
      "0    1\n",
      "1    2\n",
      "2    3\n",
      "3    5\n",
      "dtype: int64\n"
     ]
    }
   ],
   "source": [
    "# シリーズ\n",
    "\"\"\"\n",
    "一列のみのデータ型\n",
    "データ(values)とラベル(index)をもつデータ構造\n",
    "\"\"\"\n",
    "import pandas as pd\n",
    "\n",
    "s1 = pd.Series([1, 2, 3, 5])\n",
    "print(s1)\n",
    "\"\"\"\n",
    "0    1\n",
    "1    2\n",
    "2    3\n",
    "3    5\n",
    "dtype: int64 # データの型\n",
    "\"\"\""
   ]
  },
  {
   "cell_type": "code",
   "execution_count": 3,
   "metadata": {},
   "outputs": [
    {
     "name": "stdout",
     "output_type": "stream",
     "text": [
      "A    1\n",
      "B    2\n",
      "C    5\n",
      "D    9\n",
      "dtype: int64\n"
     ]
    }
   ],
   "source": [
    "# ilocでインデックスを指定し、データを取り出せる\n",
    "import pandas as pd\n",
    "\n",
    "s2 = pd.Series([1, 2, 5, 9], index=[\"A\", \"B\", \"C\", \"D\"])\n",
    "print(s2)\n",
    "\"\"\"\n",
    "A    1\n",
    "B    2\n",
    "C    5\n",
    "D    9\n",
    "dtype: int64\n",
    "\"\"\""
   ]
  },
  {
   "cell_type": "code",
   "execution_count": 5,
   "metadata": {},
   "outputs": [
    {
     "name": "stdout",
     "output_type": "stream",
     "text": [
      "1\n",
      "2\n",
      "5\n",
      "9\n"
     ]
    }
   ],
   "source": [
    "print(s2.iloc[0]) # 1\n",
    "print(s2.iloc[1]) # 2\n",
    "print(s2.iloc[2]) # 5\n",
    "print(s2.iloc[3]) # 9"
   ]
  },
  {
   "cell_type": "code",
   "execution_count": 6,
   "metadata": {},
   "outputs": [
    {
     "name": "stdout",
     "output_type": "stream",
     "text": [
      "   名前  年齢  役割\n",
      "0  山田  30  課長\n",
      "1  田中  40  部長\n",
      "2  佐藤  50  社長\n"
     ]
    }
   ],
   "source": [
    "# データフレーム\n",
    "\"\"\"\n",
    "二次元のラベル付きデータ構造\n",
    "\"\"\"\n",
    "import pandas as pd\n",
    "df = pd.DataFrame({\n",
    "    '名前': ['山田', '田中',  '佐藤'],\n",
    "    '役割': ['課長', '部長',  '社長'],\n",
    "    '年齢': [30, 40, 50]\n",
    "})\n",
    "print(df)"
   ]
  },
  {
   "cell_type": "code",
   "execution_count": 7,
   "metadata": {},
   "outputs": [
    {
     "name": "stdout",
     "output_type": "stream",
     "text": [
      "名前    object\n",
      "年齢     int64\n",
      "役割    object\n",
      "dtype: object\n"
     ]
    }
   ],
   "source": [
    "print(df.dtypes)"
   ]
  },
  {
   "cell_type": "code",
   "execution_count": 8,
   "metadata": {},
   "outputs": [
    {
     "name": "stdout",
     "output_type": "stream",
     "text": [
      "Index(['名前', '年齢', '役割'], dtype='object')\n"
     ]
    }
   ],
   "source": [
    "print(df.columns)"
   ]
  },
  {
   "cell_type": "code",
   "execution_count": 9,
   "metadata": {},
   "outputs": [
    {
     "name": "stdout",
     "output_type": "stream",
     "text": [
      "   名前  役割  年齢\n",
      "0  山田  課長  30\n",
      "1  田中  部長  40\n",
      "2  佐藤  社長  50\n"
     ]
    }
   ],
   "source": [
    "\"\"\"\n",
    "リスト型のデータをもつ辞書型をDataFrame関数の引数に渡すことで、\n",
    "データフレームを生成することができる\n",
    "\"\"\"\n",
    "import pandas as pd\n",
    "data = pd.DataFrame({\n",
    "    '名前': ['山田', '田中',  '佐藤'],\n",
    "    '役割': ['課長', '部長',  '社長'],\n",
    "    '年齢': [30, 40, 50]\n",
    "})\n",
    "df = pd.DataFrame(data, columns=['名前', '役割', '年齢'])\n",
    "print(df)"
   ]
  },
  {
   "cell_type": "code",
   "execution_count": 10,
   "metadata": {},
   "outputs": [
    {
     "name": "stdout",
     "output_type": "stream",
     "text": [
      "  Name Position  age\n",
      "0   山田       課長   30\n",
      "1   田中       部長   40\n",
      "2   佐藤       社長   50\n"
     ]
    }
   ],
   "source": [
    "df.columns = ['Name', 'Position', 'age']\n",
    "print(df)"
   ]
  },
  {
   "cell_type": "code",
   "execution_count": 11,
   "metadata": {},
   "outputs": [
    {
     "name": "stdout",
     "output_type": "stream",
     "text": [
      "<class 'pandas.core.panel.Panel'>\n",
      "Dimensions: 2 (items) x 3 (major_axis) x 2 (minor_axis)\n",
      "Items axis: item1 to item2\n",
      "Major_axis axis: 0 to 2\n",
      "Minor_axis axis: 0 to 1\n"
     ]
    }
   ],
   "source": [
    "# パネル\n",
    "\"\"\"\n",
    "三次元データフレーム\n",
    "同じサイズのデータフレームをまとめたもの\n",
    "\"\"\"\n",
    "import numpy as np\n",
    "import pandas as pd\n",
    "from pandas_datareader import data, wb\n",
    "\n",
    "dict_data = {'item1': pd.DataFrame(np.random.randn(3, 2)),\n",
    "            'item2': pd.DataFrame(np.random.randn(3, 2))}\n",
    "data = pd.Panel(dict_data)\n",
    "print(data)"
   ]
  },
  {
   "cell_type": "code",
   "execution_count": 12,
   "metadata": {},
   "outputs": [
    {
     "name": "stdout",
     "output_type": "stream",
     "text": [
      "          0         1\n",
      "0  0.444470 -0.233347\n",
      "1  0.747759  0.802384\n",
      "2 -0.630699  0.170214\n"
     ]
    }
   ],
   "source": [
    "print(data.item1)"
   ]
  },
  {
   "cell_type": "code",
   "execution_count": 16,
   "metadata": {},
   "outputs": [
    {
     "name": "stdout",
     "output_type": "stream",
     "text": [
      "   flt   int     str\n",
      "0  5.5   1.0  Python\n",
      "1  4.1   NaN      AI\n",
      "2 -1.2   NaN     NaN\n",
      "3  NaN  32.0     NaN\n"
     ]
    }
   ],
   "source": [
    "# 欠損値の処理\n",
    "\"\"\"\n",
    "欠損値の扱うメソッド\n",
    "- dropna\n",
    "  - 指定の軸方向にデータ列を見て、欠損値の有無に関して指定の条件を満たす場合にそのデータ列を削除する\n",
    "- fillna\n",
    "  - 欠損値を指定の値、もしくは方法で埋めることができる\n",
    "- isnull\n",
    "  - データの要素ごとにNaNはTrue、そのほかはFalseとして扱い、元のデータと同じサイズのオブジェクトを返す\n",
    "- notnull\n",
    "  - isnullの逆の真偽値を返す\n",
    "\"\"\"\n",
    "import pandas as pd\n",
    "import numpy as np\n",
    "\n",
    "df = pd.DataFrame({'int': [1, np.nan, np.nan, 32],\n",
    "                 'str': ['Python', 'AI', np.nan, np.nan],\n",
    "                 'flt': [5.5, 4.1, -1.2, np.nan]})\n",
    "\n",
    "print(df)"
   ]
  },
  {
   "cell_type": "code",
   "execution_count": 21,
   "metadata": {},
   "outputs": [
    {
     "data": {
      "text/html": [
       "<div>\n",
       "<style>\n",
       "    .dataframe thead tr:only-child th {\n",
       "        text-align: right;\n",
       "    }\n",
       "\n",
       "    .dataframe thead th {\n",
       "        text-align: left;\n",
       "    }\n",
       "\n",
       "    .dataframe tbody tr th {\n",
       "        vertical-align: top;\n",
       "    }\n",
       "</style>\n",
       "<table border=\"1\" class=\"dataframe\">\n",
       "  <thead>\n",
       "    <tr style=\"text-align: right;\">\n",
       "      <th></th>\n",
       "      <th>flt</th>\n",
       "      <th>int</th>\n",
       "      <th>str</th>\n",
       "    </tr>\n",
       "  </thead>\n",
       "  <tbody>\n",
       "    <tr>\n",
       "      <th>0</th>\n",
       "      <td>5.5</td>\n",
       "      <td>1.0</td>\n",
       "      <td>Python</td>\n",
       "    </tr>\n",
       "    <tr>\n",
       "      <th>3</th>\n",
       "      <td>NaN</td>\n",
       "      <td>32.0</td>\n",
       "      <td>NaN</td>\n",
       "    </tr>\n",
       "  </tbody>\n",
       "</table>\n",
       "</div>"
      ],
      "text/plain": [
       "   flt   int     str\n",
       "0  5.5   1.0  Python\n",
       "3  NaN  32.0     NaN"
      ]
     },
     "execution_count": 21,
     "metadata": {},
     "output_type": "execute_result"
    }
   ],
   "source": [
    "# int列にnanがある列を削除\n",
    "df.dropna(subset=[\"int\"])"
   ]
  },
  {
   "cell_type": "code",
   "execution_count": 22,
   "metadata": {},
   "outputs": [
    {
     "data": {
      "text/html": [
       "<div>\n",
       "<style>\n",
       "    .dataframe thead tr:only-child th {\n",
       "        text-align: right;\n",
       "    }\n",
       "\n",
       "    .dataframe thead th {\n",
       "        text-align: left;\n",
       "    }\n",
       "\n",
       "    .dataframe tbody tr th {\n",
       "        vertical-align: top;\n",
       "    }\n",
       "</style>\n",
       "<table border=\"1\" class=\"dataframe\">\n",
       "  <thead>\n",
       "    <tr style=\"text-align: right;\">\n",
       "      <th></th>\n",
       "      <th>flt</th>\n",
       "      <th>int</th>\n",
       "      <th>str</th>\n",
       "    </tr>\n",
       "  </thead>\n",
       "  <tbody>\n",
       "    <tr>\n",
       "      <th>0</th>\n",
       "      <td>5.5</td>\n",
       "      <td>1.0</td>\n",
       "      <td>Python</td>\n",
       "    </tr>\n",
       "  </tbody>\n",
       "</table>\n",
       "</div>"
      ],
      "text/plain": [
       "   flt  int     str\n",
       "0  5.5  1.0  Python"
      ]
     },
     "execution_count": 22,
     "metadata": {},
     "output_type": "execute_result"
    }
   ],
   "source": [
    "# nanがある列を削除\n",
    "df.dropna()"
   ]
  },
  {
   "cell_type": "code",
   "execution_count": 24,
   "metadata": {
    "scrolled": true
   },
   "outputs": [
    {
     "name": "stdout",
     "output_type": "stream",
     "text": [
      "          0         1         2\n",
      "0  0.054029  0.404112  0.091726\n",
      "1  0.122892  0.842660  0.618214\n",
      "2  0.421962  0.757408  0.278902\n",
      "3  0.498503  0.347813  0.314458\n",
      "4  0.863540  0.303691  0.286820\n",
      "5  0.669506  0.222296  0.029411\n"
     ]
    }
   ],
   "source": [
    "df2 = pd.DataFrame(np.random.rand(6, 3))\n",
    "print(df2)"
   ]
  },
  {
   "cell_type": "code",
   "execution_count": 25,
   "metadata": {},
   "outputs": [
    {
     "data": {
      "text/html": [
       "<div>\n",
       "<style>\n",
       "    .dataframe thead tr:only-child th {\n",
       "        text-align: right;\n",
       "    }\n",
       "\n",
       "    .dataframe thead th {\n",
       "        text-align: left;\n",
       "    }\n",
       "\n",
       "    .dataframe tbody tr th {\n",
       "        vertical-align: top;\n",
       "    }\n",
       "</style>\n",
       "<table border=\"1\" class=\"dataframe\">\n",
       "  <thead>\n",
       "    <tr style=\"text-align: right;\">\n",
       "      <th></th>\n",
       "      <th>flt</th>\n",
       "      <th>int</th>\n",
       "      <th>str</th>\n",
       "    </tr>\n",
       "  </thead>\n",
       "  <tbody>\n",
       "    <tr>\n",
       "      <th>0</th>\n",
       "      <td>5.5</td>\n",
       "      <td>1.0</td>\n",
       "      <td>Python</td>\n",
       "    </tr>\n",
       "    <tr>\n",
       "      <th>1</th>\n",
       "      <td>4.1</td>\n",
       "      <td>0.0</td>\n",
       "      <td>AI</td>\n",
       "    </tr>\n",
       "    <tr>\n",
       "      <th>2</th>\n",
       "      <td>-1.2</td>\n",
       "      <td>0.0</td>\n",
       "      <td>0</td>\n",
       "    </tr>\n",
       "    <tr>\n",
       "      <th>3</th>\n",
       "      <td>0.0</td>\n",
       "      <td>32.0</td>\n",
       "      <td>0</td>\n",
       "    </tr>\n",
       "  </tbody>\n",
       "</table>\n",
       "</div>"
      ],
      "text/plain": [
       "   flt   int     str\n",
       "0  5.5   1.0  Python\n",
       "1  4.1   0.0      AI\n",
       "2 -1.2   0.0       0\n",
       "3  0.0  32.0       0"
      ]
     },
     "execution_count": 25,
     "metadata": {},
     "output_type": "execute_result"
    }
   ],
   "source": [
    "# nanをすべて0に置換\n",
    "df.fillna(0)"
   ]
  },
  {
   "cell_type": "code",
   "execution_count": 26,
   "metadata": {},
   "outputs": [
    {
     "data": {
      "text/html": [
       "<div>\n",
       "<style>\n",
       "    .dataframe thead tr:only-child th {\n",
       "        text-align: right;\n",
       "    }\n",
       "\n",
       "    .dataframe thead th {\n",
       "        text-align: left;\n",
       "    }\n",
       "\n",
       "    .dataframe tbody tr th {\n",
       "        vertical-align: top;\n",
       "    }\n",
       "</style>\n",
       "<table border=\"1\" class=\"dataframe\">\n",
       "  <thead>\n",
       "    <tr style=\"text-align: right;\">\n",
       "      <th></th>\n",
       "      <th>flt</th>\n",
       "      <th>int</th>\n",
       "      <th>str</th>\n",
       "    </tr>\n",
       "  </thead>\n",
       "  <tbody>\n",
       "    <tr>\n",
       "      <th>0</th>\n",
       "      <td>False</td>\n",
       "      <td>False</td>\n",
       "      <td>False</td>\n",
       "    </tr>\n",
       "    <tr>\n",
       "      <th>1</th>\n",
       "      <td>False</td>\n",
       "      <td>True</td>\n",
       "      <td>False</td>\n",
       "    </tr>\n",
       "    <tr>\n",
       "      <th>2</th>\n",
       "      <td>False</td>\n",
       "      <td>True</td>\n",
       "      <td>True</td>\n",
       "    </tr>\n",
       "    <tr>\n",
       "      <th>3</th>\n",
       "      <td>True</td>\n",
       "      <td>False</td>\n",
       "      <td>True</td>\n",
       "    </tr>\n",
       "  </tbody>\n",
       "</table>\n",
       "</div>"
      ],
      "text/plain": [
       "     flt    int    str\n",
       "0  False  False  False\n",
       "1  False   True  False\n",
       "2  False   True   True\n",
       "3   True  False   True"
      ]
     },
     "execution_count": 26,
     "metadata": {},
     "output_type": "execute_result"
    }
   ],
   "source": [
    "df.isnull()"
   ]
  },
  {
   "cell_type": "code",
   "execution_count": 27,
   "metadata": {},
   "outputs": [
    {
     "data": {
      "text/html": [
       "<div>\n",
       "<style>\n",
       "    .dataframe thead tr:only-child th {\n",
       "        text-align: right;\n",
       "    }\n",
       "\n",
       "    .dataframe thead th {\n",
       "        text-align: left;\n",
       "    }\n",
       "\n",
       "    .dataframe tbody tr th {\n",
       "        vertical-align: top;\n",
       "    }\n",
       "</style>\n",
       "<table border=\"1\" class=\"dataframe\">\n",
       "  <thead>\n",
       "    <tr style=\"text-align: right;\">\n",
       "      <th></th>\n",
       "      <th>flt</th>\n",
       "      <th>int</th>\n",
       "      <th>str</th>\n",
       "    </tr>\n",
       "  </thead>\n",
       "  <tbody>\n",
       "    <tr>\n",
       "      <th>0</th>\n",
       "      <td>True</td>\n",
       "      <td>True</td>\n",
       "      <td>True</td>\n",
       "    </tr>\n",
       "    <tr>\n",
       "      <th>1</th>\n",
       "      <td>True</td>\n",
       "      <td>False</td>\n",
       "      <td>True</td>\n",
       "    </tr>\n",
       "    <tr>\n",
       "      <th>2</th>\n",
       "      <td>True</td>\n",
       "      <td>False</td>\n",
       "      <td>False</td>\n",
       "    </tr>\n",
       "    <tr>\n",
       "      <th>3</th>\n",
       "      <td>False</td>\n",
       "      <td>True</td>\n",
       "      <td>False</td>\n",
       "    </tr>\n",
       "  </tbody>\n",
       "</table>\n",
       "</div>"
      ],
      "text/plain": [
       "     flt    int    str\n",
       "0   True   True   True\n",
       "1   True  False   True\n",
       "2   True  False  False\n",
       "3  False   True  False"
      ]
     },
     "execution_count": 27,
     "metadata": {},
     "output_type": "execute_result"
    }
   ],
   "source": [
    "df.notnull()"
   ]
  },
  {
   "cell_type": "code",
   "execution_count": 36,
   "metadata": {},
   "outputs": [
    {
     "name": "stdout",
     "output_type": "stream",
     "text": [
      "     a0   b0   c0   d0\n",
      "0    a1   b1   c1   d1\n",
      "1    a2   b2   c2   d2\n",
      "2    a3   b3   c3   d3\n",
      "3    a4   b4   c4   d4\n",
      "4    a5   b5   c5   d5\n",
      "5    a6   b6   c6   d6\n",
      "6    a7   b7   c7   d7\n",
      "7    a8   b8   c8   d8\n",
      "8    a9   b9   c9   d9\n",
      "9   a10  b10  c10  d10\n",
      "10  a11  b11  c11  d11\n"
     ]
    }
   ],
   "source": [
    "# データの入出力\n",
    "\"\"\"\n",
    "1. テキスト形式のデータファイルからデータの読み込み\n",
    "2. バイナリ形式のデータファイルからデータの読み込み\n",
    "3. データベースからのデータの読み込み\n",
    "4. Web上からのデータの読み込み\n",
    "\"\"\"\n",
    "import pandas as pd\n",
    "\n",
    "data = pd.read_csv(\"http://aiacademy.jp/dataset/sample_data.csv\",\n",
    "                   encoding='cp932',\n",
    "                   skiprows=1)\n",
    "\n",
    "print(data)"
   ]
  },
  {
   "cell_type": "code",
   "execution_count": 37,
   "metadata": {},
   "outputs": [
    {
     "name": "stdout",
     "output_type": "stream",
     "text": [
      "a0    object\n",
      "b0    object\n",
      "c0    object\n",
      "d0    object\n",
      "dtype: object\n"
     ]
    }
   ],
   "source": [
    "print(data.dtypes)"
   ]
  }
 ],
 "metadata": {
  "kernelspec": {
   "display_name": "Python 3",
   "language": "python",
   "name": "python3"
  },
  "language_info": {
   "codemirror_mode": {
    "name": "ipython",
    "version": 3
   },
   "file_extension": ".py",
   "mimetype": "text/x-python",
   "name": "python",
   "nbconvert_exporter": "python",
   "pygments_lexer": "ipython3",
   "version": "3.6.3"
  }
 },
 "nbformat": 4,
 "nbformat_minor": 2
}
