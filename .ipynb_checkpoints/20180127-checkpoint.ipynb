{
 "cells": [
  {
   "cell_type": "code",
   "execution_count": null,
   "metadata": {
    "collapsed": true
   },
   "outputs": [],
   "source": [
    "# Pandas\n",
    "\"\"\"\n",
    "シリーズ\n",
    "データフレーム\n",
    "パネル\n",
    "\"\"\""
   ]
  },
  {
   "cell_type": "code",
   "execution_count": 2,
   "metadata": {},
   "outputs": [
    {
     "name": "stdout",
     "output_type": "stream",
     "text": [
      "0    1\n",
      "1    2\n",
      "2    3\n",
      "3    5\n",
      "dtype: int64\n"
     ]
    }
   ],
   "source": [
    "# シリーズ\n",
    "\"\"\"\n",
    "一列のみのデータ型\n",
    "データ(values)とラベル(index)をもつデータ構造\n",
    "\"\"\"\n",
    "import pandas as pd\n",
    "\n",
    "s1 = pd.Series([1, 2, 3, 5])\n",
    "print(s1)\n",
    "\"\"\"\n",
    "0    1\n",
    "1    2\n",
    "2    3\n",
    "3    5\n",
    "dtype: int64 # データの型\n",
    "\"\"\""
   ]
  },
  {
   "cell_type": "code",
   "execution_count": 3,
   "metadata": {},
   "outputs": [
    {
     "name": "stdout",
     "output_type": "stream",
     "text": [
      "A    1\n",
      "B    2\n",
      "C    5\n",
      "D    9\n",
      "dtype: int64\n"
     ]
    }
   ],
   "source": [
    "# ilocでインデックスを指定し、データを取り出せる\n",
    "import pandas as pd\n",
    "\n",
    "s2 = pd.Series([1, 2, 5, 9], index=[\"A\", \"B\", \"C\", \"D\"])\n",
    "print(s2)\n",
    "\"\"\"\n",
    "A    1\n",
    "B    2\n",
    "C    5\n",
    "D    9\n",
    "dtype: int64\n",
    "\"\"\""
   ]
  },
  {
   "cell_type": "code",
   "execution_count": 5,
   "metadata": {},
   "outputs": [
    {
     "name": "stdout",
     "output_type": "stream",
     "text": [
      "1\n",
      "2\n",
      "5\n",
      "9\n"
     ]
    }
   ],
   "source": [
    "print(s2.iloc[0]) # 1\n",
    "print(s2.iloc[1]) # 2\n",
    "print(s2.iloc[2]) # 5\n",
    "print(s2.iloc[3]) # 9"
   ]
  },
  {
   "cell_type": "code",
   "execution_count": 6,
   "metadata": {},
   "outputs": [
    {
     "name": "stdout",
     "output_type": "stream",
     "text": [
      "   名前  年齢  役割\n",
      "0  山田  30  課長\n",
      "1  田中  40  部長\n",
      "2  佐藤  50  社長\n"
     ]
    }
   ],
   "source": [
    "# データフレーム\n",
    "\"\"\"\n",
    "二次元のラベル付きデータ構造\n",
    "\"\"\"\n",
    "import pandas as pd\n",
    "df = pd.DataFrame({\n",
    "    '名前': ['山田', '田中',  '佐藤'],\n",
    "    '役割': ['課長', '部長',  '社長'],\n",
    "    '年齢': [30, 40, 50]\n",
    "})\n",
    "print(df)"
   ]
  },
  {
   "cell_type": "code",
   "execution_count": 7,
   "metadata": {},
   "outputs": [
    {
     "name": "stdout",
     "output_type": "stream",
     "text": [
      "名前    object\n",
      "年齢     int64\n",
      "役割    object\n",
      "dtype: object\n"
     ]
    }
   ],
   "source": [
    "print(df.dtypes)"
   ]
  },
  {
   "cell_type": "code",
   "execution_count": 8,
   "metadata": {},
   "outputs": [
    {
     "name": "stdout",
     "output_type": "stream",
     "text": [
      "Index(['名前', '年齢', '役割'], dtype='object')\n"
     ]
    }
   ],
   "source": [
    "print(df.columns)"
   ]
  },
  {
   "cell_type": "code",
   "execution_count": 9,
   "metadata": {},
   "outputs": [
    {
     "name": "stdout",
     "output_type": "stream",
     "text": [
      "   名前  役割  年齢\n",
      "0  山田  課長  30\n",
      "1  田中  部長  40\n",
      "2  佐藤  社長  50\n"
     ]
    }
   ],
   "source": [
    "\"\"\"\n",
    "リスト型のデータをもつ辞書型をDataFrame関数の引数に渡すことで、\n",
    "データフレームを生成することができる\n",
    "\"\"\"\n",
    "import pandas as pd\n",
    "data = pd.DataFrame({\n",
    "    '名前': ['山田', '田中',  '佐藤'],\n",
    "    '役割': ['課長', '部長',  '社長'],\n",
    "    '年齢': [30, 40, 50]\n",
    "})\n",
    "df = pd.DataFrame(data, columns=['名前', '役割', '年齢'])\n",
    "print(df)"
   ]
  },
  {
   "cell_type": "code",
   "execution_count": 10,
   "metadata": {},
   "outputs": [
    {
     "name": "stdout",
     "output_type": "stream",
     "text": [
      "  Name Position  age\n",
      "0   山田       課長   30\n",
      "1   田中       部長   40\n",
      "2   佐藤       社長   50\n"
     ]
    }
   ],
   "source": [
    "df.columns = ['Name', 'Position', 'age']\n",
    "print(df)"
   ]
  },
  {
   "cell_type": "code",
   "execution_count": 11,
   "metadata": {},
   "outputs": [
    {
     "name": "stdout",
     "output_type": "stream",
     "text": [
      "<class 'pandas.core.panel.Panel'>\n",
      "Dimensions: 2 (items) x 3 (major_axis) x 2 (minor_axis)\n",
      "Items axis: item1 to item2\n",
      "Major_axis axis: 0 to 2\n",
      "Minor_axis axis: 0 to 1\n"
     ]
    }
   ],
   "source": [
    "# パネル\n",
    "\"\"\"\n",
    "三次元データフレーム\n",
    "同じサイズのデータフレームをまとめたもの\n",
    "\"\"\"\n",
    "import numpy as np\n",
    "import pandas as pd\n",
    "from pandas_datareader import data, wb\n",
    "\n",
    "dict_data = {'item1': pd.DataFrame(np.random.randn(3, 2)),\n",
    "            'item2': pd.DataFrame(np.random.randn(3, 2))}\n",
    "data = pd.Panel(dict_data)\n",
    "print(data)"
   ]
  },
  {
   "cell_type": "code",
   "execution_count": null,
   "metadata": {
    "collapsed": true
   },
   "outputs": [],
   "source": [
    "print(data.item1)"
   ]
  }
 ],
 "metadata": {
  "kernelspec": {
   "display_name": "Python 3",
   "language": "python",
   "name": "python3"
  },
  "language_info": {
   "codemirror_mode": {
    "name": "ipython",
    "version": 3
   },
   "file_extension": ".py",
   "mimetype": "text/x-python",
   "name": "python",
   "nbconvert_exporter": "python",
   "pygments_lexer": "ipython3",
   "version": "3.6.3"
  }
 },
 "nbformat": 4,
 "nbformat_minor": 2
}
