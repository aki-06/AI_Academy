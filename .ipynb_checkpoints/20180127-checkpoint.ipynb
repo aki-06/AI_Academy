{
 "cells": [
  {
   "cell_type": "code",
   "execution_count": null,
   "metadata": {
    "collapsed": true
   },
   "outputs": [],
   "source": [
    "# Pandas\n",
    "\"\"\"\n",
    "シリーズ\n",
    "データフレーム\n",
    "パネル\n",
    "\"\"\""
   ]
  },
  {
   "cell_type": "code",
   "execution_count": 2,
   "metadata": {},
   "outputs": [
    {
     "name": "stdout",
     "output_type": "stream",
     "text": [
      "0    1\n",
      "1    2\n",
      "2    3\n",
      "3    5\n",
      "dtype: int64\n"
     ]
    }
   ],
   "source": [
    "# シリーズ\n",
    "\"\"\"\n",
    "一列のみのデータ型\n",
    "データ(values)とラベル(index)をもつデータ構造\n",
    "\"\"\"\n",
    "import pandas as pd\n",
    "\n",
    "s1 = pd.Series([1, 2, 3, 5])\n",
    "print(s1)\n",
    "\"\"\"\n",
    "0    1\n",
    "1    2\n",
    "2    3\n",
    "3    5\n",
    "dtype: int64 # データの型\n",
    "\"\"\""
   ]
  },
  {
   "cell_type": "code",
   "execution_count": 3,
   "metadata": {},
   "outputs": [
    {
     "name": "stdout",
     "output_type": "stream",
     "text": [
      "A    1\n",
      "B    2\n",
      "C    5\n",
      "D    9\n",
      "dtype: int64\n"
     ]
    }
   ],
   "source": [
    "# ilocでインデックスを指定し、データを取り出せる\n",
    "import pandas as pd\n",
    "\n",
    "s2 = pd.Series([1, 2, 5, 9], index=[\"A\", \"B\", \"C\", \"D\"])\n",
    "print(s2)\n",
    "\"\"\"\n",
    "A    1\n",
    "B    2\n",
    "C    5\n",
    "D    9\n",
    "dtype: int64\n",
    "\"\"\""
   ]
  },
  {
   "cell_type": "code",
   "execution_count": 4,
   "metadata": {},
   "outputs": [
    {
     "name": "stdout",
     "output_type": "stream",
     "text": [
      "1\n"
     ]
    }
   ],
   "source": [
    "print(s2.iloc[0]) # 1\n",
    "print(s2.iloc[1]) # 2\n",
    "print(s2.iloc[2]) # 5\n",
    "print(s2.iloc[3]) # 9"
   ]
  }
 ],
 "metadata": {
  "kernelspec": {
   "display_name": "Python 3",
   "language": "python",
   "name": "python3"
  },
  "language_info": {
   "codemirror_mode": {
    "name": "ipython",
    "version": 3
   },
   "file_extension": ".py",
   "mimetype": "text/x-python",
   "name": "python",
   "nbconvert_exporter": "python",
   "pygments_lexer": "ipython3",
   "version": "3.6.3"
  }
 },
 "nbformat": 4,
 "nbformat_minor": 2
}
