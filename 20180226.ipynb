{
 "cells": [
  {
   "cell_type": "code",
   "execution_count": 2,
   "metadata": {},
   "outputs": [
    {
     "name": "stdout",
     "output_type": "stream",
     "text": [
      "['My', 'name', 'is', 'Nemoto']\n"
     ]
    }
   ],
   "source": [
    "# listの分割（split）\n",
    "\"\"\"\n",
    "split関数\n",
    "    - 文字列を空白やスラッシュなどで分けたい時\n",
    "文字列.split('区切る文字', 区切る回数)\n",
    "\"\"\"\n",
    "self_data = 'My name is Nemoto'\n",
    "\n",
    "str_list = self_data.split(' ')\n",
    "print(str_list)"
   ]
  },
  {
   "cell_type": "code",
   "execution_count": 3,
   "metadata": {
    "scrolled": true
   },
   "outputs": [
    {
     "name": "stdout",
     "output_type": "stream",
     "text": [
      "Nemoto\n"
     ]
    }
   ],
   "source": [
    "print(str_list[3])"
   ]
  },
  {
   "cell_type": "code",
   "execution_count": 4,
   "metadata": {},
   "outputs": [
    {
     "name": "stdout",
     "output_type": "stream",
     "text": [
      "['2018', '2', '26', '18', '00']\n"
     ]
    }
   ],
   "source": [
    "# listの分割（re.split）\n",
    "\"\"\"\n",
    "re.split\n",
    "    - 一度に複数の記号で文字列を切り分ける\n",
    "re.split(['区切りたい記号'], 文字列)\n",
    "\"\"\"\n",
    "import re\n",
    "\n",
    "time_data = '2018/2/26_18:00'\n",
    "time_list = re.split('[/_:]', time_data)\n",
    "print(time_list)"
   ]
  },
  {
   "cell_type": "code",
   "execution_count": 5,
   "metadata": {},
   "outputs": [
    {
     "name": "stdout",
     "output_type": "stream",
     "text": [
      "26\n"
     ]
    }
   ],
   "source": [
    "print(time_list[2])"
   ]
  },
  {
   "cell_type": "code",
   "execution_count": 7,
   "metadata": {
    "collapsed": true
   },
   "outputs": [],
   "source": [
    "# 高階関数（map）\n",
    "\"\"\"\n",
    "他の関数を引数とする関数\n",
    "イテレータを返す 計算はしない\n",
    "    - map(適用したい関数, 配列)\n",
    "listに格納する方法\n",
    "    - list(map(関数, 配列))\n",
    "\"\"\"\n",
    "import re\n",
    "\n",
    "time_list = [\n",
    "    \"2006/11/26_2:40\",\n",
    "    \"2009/1/16_23:35\",\n",
    "    \"2014/5/4_14:26\",\n",
    "    \"2017/8/9_7:5\",\n",
    "    \"2017/4/1_22:15\"\n",
    "]\n",
    "\n",
    "get_hour = lambda x: int(re.split('[/_:]', x)[3])"
   ]
  },
  {
   "cell_type": "code",
   "execution_count": 8,
   "metadata": {
    "scrolled": true
   },
   "outputs": [
    {
     "name": "stdout",
     "output_type": "stream",
     "text": [
      "<function <lambda> at 0x10ebd8950>\n"
     ]
    }
   ],
   "source": [
    "print(get_hour)"
   ]
  },
  {
   "cell_type": "code",
   "execution_count": 9,
   "metadata": {},
   "outputs": [
    {
     "name": "stdout",
     "output_type": "stream",
     "text": [
      "[2, 23, 14, 7, 22]\n"
     ]
    }
   ],
   "source": [
    "hour_list = list(map(get_hour, time_list))\n",
    "print(hour_list)"
   ]
  },
  {
   "cell_type": "code",
   "execution_count": 12,
   "metadata": {},
   "outputs": [
    {
     "name": "stdout",
     "output_type": "stream",
     "text": [
      "['2009/1/16_23:35', '2014/5/4_14:26', '2017/4/1_22:15']\n"
     ]
    }
   ],
   "source": [
    "# filter\n",
    "\"\"\"\n",
    "listの各要素から条件を満たす要素だけを取り出す\n",
    "filter(条件となる関数, 配列)\n",
    "list(filter(条件, 配列))\n",
    "\"\"\"\n",
    "import re\n",
    "\n",
    "time_list = [\n",
    "    \"2006/11/26_2:40\",\n",
    "    \"2009/1/16_23:35\",\n",
    "    \"2014/5/4_14:26\",\n",
    "    \"2017/8/9_7:5\",\n",
    "    \"2017/4/1_22:15\"\n",
    "]\n",
    "\n",
    "first_harf = lambda x: int(re.split('[/_:]', x)[1]) - 7 < 0\n",
    "first_harf_list = list(filter(first_harf, time_list))\n",
    "print(first_harf_list)"
   ]
  },
  {
   "cell_type": "code",
   "execution_count": 14,
   "metadata": {},
   "outputs": [
    {
     "name": "stdout",
     "output_type": "stream",
     "text": [
      "[[2006, 11, 26, 2, 40], [2017, 8, 9, 7, 5], [2014, 5, 4, 14, 26], [2017, 4, 1, 22, 15], [2009, 1, 16, 23, 35]]\n"
     ]
    }
   ],
   "source": [
    "# sorted\n",
    "\"\"\"\n",
    "リストをソートする\n",
    "sorted(ソートしたい配列, key=キーとなる関数, reverse=TreuまたはFalse)\n",
    "key=lambda x: x[n]\n",
    "    - n要素を昇順にソート\n",
    "reverse=True\n",
    "    - 降順\n",
    "\"\"\"\n",
    "time_data = [\n",
    "    [2006, 11, 26,  2, 40],\n",
    "    [2009,  1, 16, 23, 35],\n",
    "    [2014,  5,  4, 14, 26],\n",
    "    [2017,  8,  9,  7,  5],\n",
    "    [2017,  4,  1, 22, 15]\n",
    "]\n",
    "\n",
    "sort_by_month = sorted(time_data, key=lambda x: x[3])\n",
    "print(sort_by_month)"
   ]
  },
  {
   "cell_type": "code",
   "execution_count": 17,
   "metadata": {},
   "outputs": [
    {
     "name": "stdout",
     "output_type": "stream",
     "text": [
      "[[0, 30], [2, 35], [3, 0], [1, 14], [0, 11], [1, 0], [1, 22]]\n"
     ]
    }
   ],
   "source": [
    "# リストの生成\n",
    "\"\"\"\n",
    "リスト内包表記\n",
    "    - [適用したい関数(要素) for 要素 in 適用する元の配列]\n",
    "map\n",
    "    - イテレータが欲しい時\n",
    "リスト内包表記\n",
    "    - 直接配列が欲しい時\n",
    "\"\"\"\n",
    "minute_data = [30, 155, 180, 74, 11, 60, 82]\n",
    "\n",
    "split_h_m = lambda x: [x // 60, x % 60]\n",
    "\n",
    "h_m_data = [split_h_m(x) for x in minute_data]\n",
    "print(h_m_data)"
   ]
  },
  {
   "cell_type": "code",
   "execution_count": 18,
   "metadata": {},
   "outputs": [
    {
     "name": "stdout",
     "output_type": "stream",
     "text": [
      "[1, 3, 5]\n"
     ]
    }
   ],
   "source": [
    "# if文を用いたループ\n",
    "\"\"\"\n",
    "後置if\n",
    "    - [適用したい関数(要素) for 要素 in フィルタリングしたい配列 if 条件]\n",
    "\"\"\"\n",
    "a = [1, -2, 3, -4, 5]\n",
    "\n",
    "b = [x for x in a if x > 0]\n",
    "print(b)"
   ]
  },
  {
   "cell_type": "code",
   "execution_count": 19,
   "metadata": {},
   "outputs": [
    {
     "name": "stdout",
     "output_type": "stream",
     "text": [
      "[180, 60]\n"
     ]
    }
   ],
   "source": [
    "minute_data = [30, 155, 180, 74, 11, 60, 82]\n",
    "\n",
    "min_list = [x for x in minute_data if x % 60 == 0]\n",
    "print(min_list)"
   ]
  },
  {
   "cell_type": "code",
   "execution_count": 20,
   "metadata": {},
   "outputs": [
    {
     "name": "stdout",
     "output_type": "stream",
     "text": [
      "1 9\n",
      "-2 8\n",
      "3 -7\n",
      "-4 -6\n",
      "5 -5\n"
     ]
    }
   ],
   "source": [
    "# 複数配列の同時ループ\n",
    "\"\"\"\n",
    "zip\n",
    "    - 複数の配列を並列にループさせたい時\n",
    "\"\"\"\n",
    "a =[1, -2, 3, -4, 5]\n",
    "b = [9, 8, -7, -6, -5]\n",
    "\n",
    "for x, y in zip(a, b):\n",
    "    print(x, y)"
   ]
  },
  {
   "cell_type": "code",
   "execution_count": 22,
   "metadata": {},
   "outputs": [
    {
     "name": "stdout",
     "output_type": "stream",
     "text": [
      "[82, 68, 58, 52, 50]\n"
     ]
    }
   ],
   "source": [
    "a_and_b = [x**2 + y**2 for x, y in zip(a, b)]\n",
    "print(a_and_b)"
   ]
  },
  {
   "cell_type": "code",
   "execution_count": 23,
   "metadata": {},
   "outputs": [
    {
     "name": "stdout",
     "output_type": "stream",
     "text": [
      "[30, 155, 180, 74, 11, 60, 82]\n"
     ]
    }
   ],
   "source": [
    "hour = [0, 2, 3, 1, 0, 1, 1]\n",
    "minute = [30, 35, 0, 14, 11, 0, 22]\n",
    "\n",
    "h_m_conbine = lambda x, y: x * 60 + y\n",
    "\n",
    "h_m_data = [h_m_conbine(x, y) for x, y in zip(hour, minute)]\n",
    "\n",
    "print(h_m_data)"
   ]
  },
  {
   "cell_type": "code",
   "execution_count": 24,
   "metadata": {},
   "outputs": [
    {
     "name": "stdout",
     "output_type": "stream",
     "text": [
      "1 9\n",
      "1 8\n",
      "-2 9\n",
      "-2 8\n",
      "3 9\n",
      "3 8\n"
     ]
    }
   ],
   "source": [
    "# 多重ループ\n",
    "a =[1, -2, 3]\n",
    "b = [9, 8]\n",
    "\n",
    "for x in a:\n",
    "    for y in b:\n",
    "        print(x, y)"
   ]
  },
  {
   "cell_type": "code",
   "execution_count": 25,
   "metadata": {},
   "outputs": [
    {
     "name": "stdout",
     "output_type": "stream",
     "text": [
      "[[1, 9], [1, 8], [-2, 9], [-2, 8], [3, 9], [3, 8]]\n"
     ]
    }
   ],
   "source": [
    "sample = [[x, y] for x in a for y in b]\n",
    "print(sample)"
   ]
  },
  {
   "cell_type": "code",
   "execution_count": 27,
   "metadata": {},
   "outputs": [
    {
     "name": "stdout",
     "output_type": "stream",
     "text": [
      "[0, 1, 2, 3, 4, 5, 6, 7]\n"
     ]
    }
   ],
   "source": [
    "fours_place = [0, 1]\n",
    "twos_place  = [0, 1]\n",
    "ones_place  = [0, 1]\n",
    "\n",
    "digit = [x*4 + y*2 + z for x in fours_place for y in twos_place for z in ones_place]\n",
    "print(digit)"
   ]
  },
  {
   "cell_type": "code",
   "execution_count": 29,
   "metadata": {},
   "outputs": [
    {
     "name": "stdout",
     "output_type": "stream",
     "text": [
      "defaultdict(<class 'int'>, {'foo': 2, 'bar': 1, 'pop': 2, 'popo': 1})\n"
     ]
    }
   ],
   "source": [
    "# defaultdict\n",
    "\"\"\"\n",
    "from collections import defaultdict\n",
    "\n",
    "d = defaultdict(valueの型)\n",
    "\"\"\"\n",
    "from collections import defaultdict\n",
    "d = defaultdict(int)\n",
    "lst = [\"foo\", \"bar\", \"pop\", \"pop\", \"foo\", \"popo\"]\n",
    "for key in lst:\n",
    "    d[key] += 1\n",
    "\n",
    "print(d)"
   ]
  },
  {
   "cell_type": "code",
   "execution_count": 31,
   "metadata": {},
   "outputs": [
    {
     "name": "stdout",
     "output_type": "stream",
     "text": [
      "[(' ', 20), ('e', 18), ('i', 17), ('n', 14), ('l', 12), ('a', 11), ('t', 10), ('c', 7), ('h', 7), ('r', 6)]\n"
     ]
    }
   ],
   "source": [
    "from collections import defaultdict\n",
    "\n",
    "description = \\\n",
    "\"Artificial intelligence (AI, also machine intelligence, MI) is \" + \\\n",
    "\"intelligence exhibited by machines, rather than \" + \\\n",
    "\"humans or other animals (natural intelligence, NI).\"\n",
    "\n",
    "d = defaultdict(int)\n",
    "\n",
    "for key in description:\n",
    "    d[key] += 1\n",
    "    \n",
    "print(sorted(d.items(), key=lambda x: x[1], reverse=True)[:10])"
   ]
  },
  {
   "cell_type": "code",
   "execution_count": 33,
   "metadata": {},
   "outputs": [
    {
     "name": "stdout",
     "output_type": "stream",
     "text": [
      "{'apple': [50, 70], 'banana': [120], 'grape': [500, 1000], 'lemon': [150]}\n"
     ]
    }
   ],
   "source": [
    "\"\"\"\n",
    "defaultdict(list)\n",
    "辞書[key].append(要素)\n",
    "\"\"\"\n",
    "from collections import defaultdict\n",
    "\n",
    "d ={}\n",
    "price = [\n",
    "    (\"apple\", 50),\n",
    "    (\"banana\", 120),\n",
    "    (\"grape\", 500),\n",
    "    (\"apple\", 70),\n",
    "    (\"lemon\", 150),\n",
    "    (\"grape\", 1000)\n",
    "]\n",
    "for key, value in price:\n",
    "    if key in d:\n",
    "        d[key].append(value)\n",
    "    else:\n",
    "        d[key] = [value]\n",
    "\n",
    "print(d)"
   ]
  },
  {
   "cell_type": "code",
   "execution_count": null,
   "metadata": {
    "collapsed": true
   },
   "outputs": [],
   "source": [
    "from collections import defaultdict\n",
    "\n",
    "price = [\n",
    "    (\"apple\", 50),\n",
    "    (\"banana\", 120),\n",
    "    (\"grape\", 500),\n",
    "    (\"apple\", 70),\n",
    "    (\"lemon\", 150),\n",
    "    (\"grape\", 1000)\n",
    "]\n",
    "\n",
    "d = defaultdict(list)\n",
    "\n",
    "for key, value in price:\n",
    "    d[key].append(value)\n",
    "\n",
    "print([sum(x) / len(x) for x in d.values()])"
   ]
  }
 ],
 "metadata": {
  "kernelspec": {
   "display_name": "Python 3",
   "language": "python",
   "name": "python3"
  },
  "language_info": {
   "codemirror_mode": {
    "name": "ipython",
    "version": 3
   },
   "file_extension": ".py",
   "mimetype": "text/x-python",
   "name": "python",
   "nbconvert_exporter": "python",
   "pygments_lexer": "ipython3",
   "version": "3.6.3"
  }
 },
 "nbformat": 4,
 "nbformat_minor": 2
}
