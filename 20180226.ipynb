{
 "cells": [
  {
   "cell_type": "code",
   "execution_count": 2,
   "metadata": {},
   "outputs": [
    {
     "name": "stdout",
     "output_type": "stream",
     "text": [
      "['My', 'name', 'is', 'Nemoto']\n"
     ]
    }
   ],
   "source": [
    "# listの分割（split）\n",
    "\"\"\"\n",
    "split関数\n",
    "    - 文字列を空白やスラッシュなどで分けたい時\n",
    "文字列.split('区切る文字', 区切る回数)\n",
    "\"\"\"\n",
    "self_data = 'My name is Nemoto'\n",
    "\n",
    "str_list = self_data.split(' ')\n",
    "print(str_list)"
   ]
  },
  {
   "cell_type": "code",
   "execution_count": null,
   "metadata": {
    "collapsed": true
   },
   "outputs": [],
   "source": [
    "print(str_list[3])"
   ]
  }
 ],
 "metadata": {
  "kernelspec": {
   "display_name": "Python 3",
   "language": "python",
   "name": "python3"
  },
  "language_info": {
   "codemirror_mode": {
    "name": "ipython",
    "version": 3
   },
   "file_extension": ".py",
   "mimetype": "text/x-python",
   "name": "python",
   "nbconvert_exporter": "python",
   "pygments_lexer": "ipython3",
   "version": "3.6.3"
  }
 },
 "nbformat": 4,
 "nbformat_minor": 2
}
