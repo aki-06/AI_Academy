{
 "cells": [
  {
   "cell_type": "code",
   "execution_count": 2,
   "metadata": {},
   "outputs": [
    {
     "name": "stdout",
     "output_type": "stream",
     "text": [
      "['My', 'name', 'is', 'Nemoto']\n"
     ]
    }
   ],
   "source": [
    "# listの分割（split）\n",
    "\"\"\"\n",
    "split関数\n",
    "    - 文字列を空白やスラッシュなどで分けたい時\n",
    "文字列.split('区切る文字', 区切る回数)\n",
    "\"\"\"\n",
    "self_data = 'My name is Nemoto'\n",
    "\n",
    "str_list = self_data.split(' ')\n",
    "print(str_list)"
   ]
  },
  {
   "cell_type": "code",
   "execution_count": 3,
   "metadata": {
    "scrolled": true
   },
   "outputs": [
    {
     "name": "stdout",
     "output_type": "stream",
     "text": [
      "Nemoto\n"
     ]
    }
   ],
   "source": [
    "print(str_list[3])"
   ]
  },
  {
   "cell_type": "code",
   "execution_count": 4,
   "metadata": {},
   "outputs": [
    {
     "name": "stdout",
     "output_type": "stream",
     "text": [
      "['2018', '2', '26', '18', '00']\n"
     ]
    }
   ],
   "source": [
    "# listの分割（re.split）\n",
    "\"\"\"\n",
    "re.split\n",
    "    - 一度に複数の記号で文字列を切り分ける\n",
    "re.split(['区切りたい記号'], 文字列)\n",
    "\"\"\"\n",
    "import re\n",
    "\n",
    "time_data = '2018/2/26_18:00'\n",
    "time_list = re.split('[/_:]', time_data)\n",
    "print(time_list)"
   ]
  },
  {
   "cell_type": "code",
   "execution_count": 5,
   "metadata": {},
   "outputs": [
    {
     "name": "stdout",
     "output_type": "stream",
     "text": [
      "26\n"
     ]
    }
   ],
   "source": [
    "print(time_list[2])"
   ]
  },
  {
   "cell_type": "code",
   "execution_count": 7,
   "metadata": {
    "collapsed": true
   },
   "outputs": [],
   "source": [
    "# 高階関数（map）\n",
    "\"\"\"\n",
    "他の関数を引数とする関数\n",
    "イテレータを返す 計算はしない\n",
    "    - map(適用したい関数, 配列)\n",
    "listに格納する方法\n",
    "    - list(map(関数, 配列))\n",
    "\"\"\"\n",
    "import re\n",
    "\n",
    "time_list = [\n",
    "    \"2006/11/26_2:40\",\n",
    "    \"2009/1/16_23:35\",\n",
    "    \"2014/5/4_14:26\",\n",
    "    \"2017/8/9_7:5\",\n",
    "    \"2017/4/1_22:15\"\n",
    "]\n",
    "\n",
    "get_hour = lambda x: int(re.split('[/_:]', x)[3])"
   ]
  },
  {
   "cell_type": "code",
   "execution_count": 8,
   "metadata": {
    "scrolled": true
   },
   "outputs": [
    {
     "name": "stdout",
     "output_type": "stream",
     "text": [
      "<function <lambda> at 0x10ebd8950>\n"
     ]
    }
   ],
   "source": [
    "print(get_hour)"
   ]
  },
  {
   "cell_type": "code",
   "execution_count": 9,
   "metadata": {},
   "outputs": [
    {
     "name": "stdout",
     "output_type": "stream",
     "text": [
      "[2, 23, 14, 7, 22]\n"
     ]
    }
   ],
   "source": [
    "hour_list = list(map(get_hour, time_list))\n",
    "print(hour_list)"
   ]
  },
  {
   "cell_type": "code",
   "execution_count": 12,
   "metadata": {},
   "outputs": [
    {
     "name": "stdout",
     "output_type": "stream",
     "text": [
      "['2009/1/16_23:35', '2014/5/4_14:26', '2017/4/1_22:15']\n"
     ]
    }
   ],
   "source": [
    "# filter\n",
    "\"\"\"\n",
    "listの各要素から条件を満たす要素だけを取り出す\n",
    "filter(条件となる関数, 配列)\n",
    "list(filter(条件, 配列))\n",
    "\"\"\"\n",
    "import re\n",
    "\n",
    "time_list = [\n",
    "    \"2006/11/26_2:40\",\n",
    "    \"2009/1/16_23:35\",\n",
    "    \"2014/5/4_14:26\",\n",
    "    \"2017/8/9_7:5\",\n",
    "    \"2017/4/1_22:15\"\n",
    "]\n",
    "\n",
    "first_harf = lambda x: int(re.split('[/_:]', x)[1]) - 7 < 0\n",
    "first_harf_list = list(filter(first_harf, time_list))\n",
    "print(first_harf_list)"
   ]
  },
  {
   "cell_type": "code",
   "execution_count": 14,
   "metadata": {},
   "outputs": [
    {
     "name": "stdout",
     "output_type": "stream",
     "text": [
      "[[2006, 11, 26, 2, 40], [2017, 8, 9, 7, 5], [2014, 5, 4, 14, 26], [2017, 4, 1, 22, 15], [2009, 1, 16, 23, 35]]\n"
     ]
    }
   ],
   "source": [
    "# sorted\n",
    "\"\"\"\n",
    "リストをソートする\n",
    "sorted(ソートしたい配列, key=キーとなる関数, reverse=TreuまたはFalse)\n",
    "key=lambda x: x[n]\n",
    "    - n要素を昇順にソート\n",
    "reverse=True\n",
    "    - 降順\n",
    "\"\"\"\n",
    "time_data = [\n",
    "    [2006, 11, 26,  2, 40],\n",
    "    [2009,  1, 16, 23, 35],\n",
    "    [2014,  5,  4, 14, 26],\n",
    "    [2017,  8,  9,  7,  5],\n",
    "    [2017,  4,  1, 22, 15]\n",
    "]\n",
    "\n",
    "sort_by_month = sorted(time_data, key=lambda x: x[3])\n",
    "print(sort_by_month)"
   ]
  }
 ],
 "metadata": {
  "kernelspec": {
   "display_name": "Python 3",
   "language": "python",
   "name": "python3"
  },
  "language_info": {
   "codemirror_mode": {
    "name": "ipython",
    "version": 3
   },
   "file_extension": ".py",
   "mimetype": "text/x-python",
   "name": "python",
   "nbconvert_exporter": "python",
   "pygments_lexer": "ipython3",
   "version": "3.6.3"
  }
 },
 "nbformat": 4,
 "nbformat_minor": 2
}
