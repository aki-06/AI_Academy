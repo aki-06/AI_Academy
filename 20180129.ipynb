{
 "cells": [
  {
   "cell_type": "code",
   "execution_count": 1,
   "metadata": {},
   "outputs": [
    {
     "name": "stdout",
     "output_type": "stream",
     "text": [
      "A     1\n",
      "B     3\n",
      "C     5\n",
      "D    10\n",
      "dtype: int64\n"
     ]
    }
   ],
   "source": [
    "# map, apply, applymap関数\n",
    "# Series\n",
    "\"\"\"\n",
    "Series.map()\n",
    "Series.array()\n",
    "\"\"\"\n",
    "import pandas as pd\n",
    "\n",
    "d = pd.Series([1, 3, 5, 10], index=['A', 'B', 'C', 'D'])\n",
    "print(d)"
   ]
  },
  {
   "cell_type": "code",
   "execution_count": 2,
   "metadata": {},
   "outputs": [
    {
     "name": "stdout",
     "output_type": "stream",
     "text": [
      "A     3\n",
      "B     5\n",
      "C     7\n",
      "D    12\n",
      "dtype: int64\n"
     ]
    }
   ],
   "source": [
    "d_plus2_apply = d.apply(lambda x: x + 2)\n",
    "print(d_plus2_apply)"
   ]
  },
  {
   "cell_type": "code",
   "execution_count": 3,
   "metadata": {},
   "outputs": [
    {
     "name": "stdout",
     "output_type": "stream",
     "text": [
      "A     2\n",
      "B     6\n",
      "C    10\n",
      "D    20\n",
      "dtype: int64\n"
     ]
    }
   ],
   "source": [
    "print(d.map(lambda x: x * 2))"
   ]
  },
  {
   "cell_type": "code",
   "execution_count": 4,
   "metadata": {},
   "outputs": [
    {
     "name": "stdout",
     "output_type": "stream",
     "text": [
      "   col1  col2\n",
      "A     1     2\n",
      "B     3     6\n",
      "C     5    10\n",
      "D    10    20\n"
     ]
    }
   ],
   "source": [
    "d_DataFrame = d.apply(lambda x: pd.Series([x, x * 2], index=['col1', 'col2']))\n",
    "print(d_DataFrame)"
   ]
  },
  {
   "cell_type": "code",
   "execution_count": 10,
   "metadata": {},
   "outputs": [
    {
     "name": "stdout",
     "output_type": "stream",
     "text": [
      "         体重     身長\n",
      "役割                \n",
      "エンジニア  66.0  178.0\n",
      "営業     60.0  173.5\n"
     ]
    }
   ],
   "source": [
    "import pandas as pd\n",
    "import numpy as np\n",
    "\n",
    "df = pd.DataFrame({\n",
    "        '役割' : ['営業', 'エンジニア', '営業', 'エンジニア'],\n",
    "        '体重' : [65, 60, 55, 72],\n",
    "        '身長' : [178, 173, 169, 183]\n",
    "    })\n",
    "\n",
    "#このデータを名前によってグループ分けします\n",
    "grouped = df.groupby('役割')\n",
    "\n",
    "#グループごとの平均値を求めます\n",
    "print(grouped.apply(np.mean))"
   ]
  },
  {
   "cell_type": "code",
   "execution_count": 13,
   "metadata": {},
   "outputs": [
    {
     "name": "stdout",
     "output_type": "stream",
     "text": [
      "  company  year president  visitors  pruductA  productB\n",
      "0  cosme1  2014     James       128     15020     39523\n",
      "1  cosme1  2015       Tom       102     16102     44127\n",
      "2  cosme1  2016       Tom       101     15983     48016\n",
      "3  cosme1  2017     James       116     17240     50974\n",
      "4  cosme2  2014    Sherry        90     13205     38309\n",
      "5  cosme2  2015     James       136     14276     42160\n",
      "6  cosme2  2016    Sherry       101     13198     36756\n",
      "7  cosme2  2017       Bob       120     16530     38455\n"
     ]
    }
   ],
   "source": [
    "# 階層型インデックス\n",
    "\"\"\"\n",
    "DataFrameなどで、複数の列をインデックスとして持たせる機能\n",
    "階層型インデックスが必要なデータの特徴\n",
    "- ユニークな列がなく、どれが実測値かわからないデータ\n",
    "- いくつかのインデックスを指定して、初めて実測値が定まる\n",
    "\"\"\"\n",
    "import pandas as pd\n",
    "import numpy as np\n",
    "\n",
    "df1 = pd.read_csv('company.csv')\n",
    "print(df1)"
   ]
  },
  {
   "cell_type": "code",
   "execution_count": 14,
   "metadata": {},
   "outputs": [
    {
     "name": "stdout",
     "output_type": "stream",
     "text": [
      "  company  year president  visitors  pruductA  productB\n",
      "2  cosme1  2016       Tom       101     15983     48016\n"
     ]
    }
   ],
   "source": [
    "print(df1[(df1['company'] == 'cosme1') & (df1['president'] == 'Tom') & (df1['visitors'] == 101)])"
   ]
  },
  {
   "cell_type": "code",
   "execution_count": 15,
   "metadata": {},
   "outputs": [
    {
     "name": "stdout",
     "output_type": "stream",
     "text": [
      "                        visitors  pruductA  productB\n",
      "company year president                              \n",
      "cosme1  2014 James           128     15020     39523\n",
      "        2015 Tom             102     16102     44127\n",
      "        2016 Tom             101     15983     48016\n",
      "        2017 James           116     17240     50974\n",
      "cosme2  2014 Sherry           90     13205     38309\n",
      "        2015 James           136     14276     42160\n",
      "        2016 Sherry          101     13198     36756\n",
      "        2017 Bob             120     16530     38455\n"
     ]
    }
   ],
   "source": [
    "multi_index = pd.read_csv('company.csv', index_col=['company', 'year', 'president'])\n",
    "print(multi_index)"
   ]
  },
  {
   "cell_type": "code",
   "execution_count": 18,
   "metadata": {},
   "outputs": [
    {
     "name": "stdout",
     "output_type": "stream",
     "text": [
      "visitors      102\n",
      "pruductA    16102\n",
      "productB    44127\n",
      "Name: (cosme1, 2015, Tom), dtype: int64\n"
     ]
    }
   ],
   "source": [
    "print(multi_index.loc[('cosme1', 2015, 'Tom')])"
   ]
  },
  {
   "cell_type": "code",
   "execution_count": 19,
   "metadata": {},
   "outputs": [
    {
     "name": "stdout",
     "output_type": "stream",
     "text": [
      "                visitors  pruductA  productB\n",
      "year president                              \n",
      "2014 James           128     15020     39523\n",
      "2015 Tom             102     16102     44127\n",
      "2016 Tom             101     15983     48016\n",
      "2017 James           116     17240     50974\n"
     ]
    }
   ],
   "source": [
    "print(multi_index.loc[('cosme1')])"
   ]
  },
  {
   "cell_type": "code",
   "execution_count": 22,
   "metadata": {},
   "outputs": [
    {
     "name": "stdout",
     "output_type": "stream",
     "text": [
      "           visitors  pruductA  productB\n",
      "president                              \n",
      "Tom             102     16102     44127\n"
     ]
    }
   ],
   "source": [
    "print(multi_index.loc[('cosme1', 2015)])"
   ]
  },
  {
   "cell_type": "code",
   "execution_count": 23,
   "metadata": {
    "collapsed": true
   },
   "outputs": [],
   "source": [
    "multi_index.to_csv('multi_index.csv')"
   ]
  },
  {
   "cell_type": "code",
   "execution_count": null,
   "metadata": {
    "collapsed": true
   },
   "outputs": [],
   "source": [
    "print(pd.read_csv('multi_index.csv'))"
   ]
  }
 ],
 "metadata": {
  "kernelspec": {
   "display_name": "Python 3",
   "language": "python",
   "name": "python3"
  },
  "language_info": {
   "codemirror_mode": {
    "name": "ipython",
    "version": 3
   },
   "file_extension": ".py",
   "mimetype": "text/x-python",
   "name": "python",
   "nbconvert_exporter": "python",
   "pygments_lexer": "ipython3",
   "version": "3.6.3"
  }
 },
 "nbformat": 4,
 "nbformat_minor": 2
}
