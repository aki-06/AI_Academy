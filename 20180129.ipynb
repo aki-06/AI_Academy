{
 "cells": [
  {
   "cell_type": "code",
   "execution_count": 1,
   "metadata": {},
   "outputs": [
    {
     "name": "stdout",
     "output_type": "stream",
     "text": [
      "A     1\n",
      "B     3\n",
      "C     5\n",
      "D    10\n",
      "dtype: int64\n"
     ]
    }
   ],
   "source": [
    "# map, apply, applymap関数\n",
    "# Series\n",
    "\"\"\"\n",
    "Series.map()\n",
    "Series.array()\n",
    "\"\"\"\n",
    "import pandas as pd\n",
    "\n",
    "d = pd.Series([1, 3, 5, 10], index=['A', 'B', 'C', 'D'])\n",
    "print(d)"
   ]
  },
  {
   "cell_type": "code",
   "execution_count": 2,
   "metadata": {},
   "outputs": [
    {
     "name": "stdout",
     "output_type": "stream",
     "text": [
      "A     3\n",
      "B     5\n",
      "C     7\n",
      "D    12\n",
      "dtype: int64\n"
     ]
    }
   ],
   "source": [
    "d_plus2_apply = d.apply(lambda x: x + 2)\n",
    "print(d_plus2_apply)"
   ]
  },
  {
   "cell_type": "code",
   "execution_count": 3,
   "metadata": {},
   "outputs": [
    {
     "name": "stdout",
     "output_type": "stream",
     "text": [
      "A     2\n",
      "B     6\n",
      "C    10\n",
      "D    20\n",
      "dtype: int64\n"
     ]
    }
   ],
   "source": [
    "print(d.map(lambda x: x * 2))"
   ]
  },
  {
   "cell_type": "code",
   "execution_count": 4,
   "metadata": {},
   "outputs": [
    {
     "name": "stdout",
     "output_type": "stream",
     "text": [
      "   col1  col2\n",
      "A     1     2\n",
      "B     3     6\n",
      "C     5    10\n",
      "D    10    20\n"
     ]
    }
   ],
   "source": [
    "d_DataFrame = d.apply(lambda x: pd.Series([x, x * 2], index=['col1', 'col2']))\n",
    "print(d_DataFrame)"
   ]
  },
  {
   "cell_type": "code",
   "execution_count": 10,
   "metadata": {},
   "outputs": [
    {
     "name": "stdout",
     "output_type": "stream",
     "text": [
      "         体重     身長\n",
      "役割                \n",
      "エンジニア  66.0  178.0\n",
      "営業     60.0  173.5\n"
     ]
    }
   ],
   "source": [
    "import pandas as pd\n",
    "import numpy as np\n",
    "\n",
    "df = pd.DataFrame({\n",
    "        '役割' : ['営業', 'エンジニア', '営業', 'エンジニア'],\n",
    "        '体重' : [65, 60, 55, 72],\n",
    "        '身長' : [178, 173, 169, 183]\n",
    "    })\n",
    "\n",
    "#このデータを名前によってグループ分けします\n",
    "grouped = df.groupby('役割')\n",
    "\n",
    "#グループごとの平均値を求めます\n",
    "print(grouped.apply(np.mean))"
   ]
  }
 ],
 "metadata": {
  "kernelspec": {
   "display_name": "Python 3",
   "language": "python",
   "name": "python3"
  },
  "language_info": {
   "codemirror_mode": {
    "name": "ipython",
    "version": 3
   },
   "file_extension": ".py",
   "mimetype": "text/x-python",
   "name": "python",
   "nbconvert_exporter": "python",
   "pygments_lexer": "ipython3",
   "version": "3.6.3"
  }
 },
 "nbformat": 4,
 "nbformat_minor": 2
}
