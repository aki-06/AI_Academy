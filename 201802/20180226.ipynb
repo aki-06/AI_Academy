{
 "cells": [
  {
   "cell_type": "code",
   "execution_count": 2,
   "metadata": {},
   "outputs": [
    {
     "name": "stdout",
     "output_type": "stream",
     "text": [
      "['My', 'name', 'is', 'Nemoto']\n"
     ]
    }
   ],
   "source": [
    "# listの分割（split）\n",
    "\"\"\"\n",
    "split関数\n",
    "    - 文字列を空白やスラッシュなどで分けたい時\n",
    "文字列.split('区切る文字', 区切る回数)\n",
    "\"\"\"\n",
    "self_data = 'My name is Nemoto'\n",
    "\n",
    "str_list = self_data.split(' ')\n",
    "print(str_list)"
   ]
  },
  {
   "cell_type": "code",
   "execution_count": 3,
   "metadata": {
    "scrolled": true
   },
   "outputs": [
    {
     "name": "stdout",
     "output_type": "stream",
     "text": [
      "Nemoto\n"
     ]
    }
   ],
   "source": [
    "print(str_list[3])"
   ]
  },
  {
   "cell_type": "code",
   "execution_count": 4,
   "metadata": {},
   "outputs": [
    {
     "name": "stdout",
     "output_type": "stream",
     "text": [
      "['2018', '2', '26', '18', '00']\n"
     ]
    }
   ],
   "source": [
    "# listの分割（re.split）\n",
    "\"\"\"\n",
    "re.split\n",
    "    - 一度に複数の記号で文字列を切り分ける\n",
    "re.split(['区切りたい記号'], 文字列)\n",
    "\"\"\"\n",
    "import re\n",
    "\n",
    "time_data = '2018/2/26_18:00'\n",
    "time_list = re.split('[/_:]', time_data)\n",
    "print(time_list)"
   ]
  },
  {
   "cell_type": "code",
   "execution_count": 5,
   "metadata": {},
   "outputs": [
    {
     "name": "stdout",
     "output_type": "stream",
     "text": [
      "26\n"
     ]
    }
   ],
   "source": [
    "print(time_list[2])"
   ]
  },
  {
   "cell_type": "code",
   "execution_count": 7,
   "metadata": {
    "collapsed": true
   },
   "outputs": [],
   "source": [
    "# 高階関数（map）\n",
    "\"\"\"\n",
    "他の関数を引数とする関数\n",
    "イテレータを返す 計算はしない\n",
    "    - map(適用したい関数, 配列)\n",
    "listに格納する方法\n",
    "    - list(map(関数, 配列))\n",
    "\"\"\"\n",
    "import re\n",
    "\n",
    "time_list = [\n",
    "    \"2006/11/26_2:40\",\n",
    "    \"2009/1/16_23:35\",\n",
    "    \"2014/5/4_14:26\",\n",
    "    \"2017/8/9_7:5\",\n",
    "    \"2017/4/1_22:15\"\n",
    "]\n",
    "\n",
    "get_hour = lambda x: int(re.split('[/_:]', x)[3])"
   ]
  },
  {
   "cell_type": "code",
   "execution_count": 8,
   "metadata": {
    "scrolled": true
   },
   "outputs": [
    {
     "name": "stdout",
     "output_type": "stream",
     "text": [
      "<function <lambda> at 0x10ebd8950>\n"
     ]
    }
   ],
   "source": [
    "print(get_hour)"
   ]
  },
  {
   "cell_type": "code",
   "execution_count": 9,
   "metadata": {},
   "outputs": [
    {
     "name": "stdout",
     "output_type": "stream",
     "text": [
      "[2, 23, 14, 7, 22]\n"
     ]
    }
   ],
   "source": [
    "hour_list = list(map(get_hour, time_list))\n",
    "print(hour_list)"
   ]
  },
  {
   "cell_type": "code",
   "execution_count": 12,
   "metadata": {},
   "outputs": [
    {
     "name": "stdout",
     "output_type": "stream",
     "text": [
      "['2009/1/16_23:35', '2014/5/4_14:26', '2017/4/1_22:15']\n"
     ]
    }
   ],
   "source": [
    "# filter\n",
    "\"\"\"\n",
    "listの各要素から条件を満たす要素だけを取り出す\n",
    "filter(条件となる関数, 配列)\n",
    "list(filter(条件, 配列))\n",
    "\"\"\"\n",
    "import re\n",
    "\n",
    "time_list = [\n",
    "    \"2006/11/26_2:40\",\n",
    "    \"2009/1/16_23:35\",\n",
    "    \"2014/5/4_14:26\",\n",
    "    \"2017/8/9_7:5\",\n",
    "    \"2017/4/1_22:15\"\n",
    "]\n",
    "\n",
    "first_harf = lambda x: int(re.split('[/_:]', x)[1]) - 7 < 0\n",
    "first_harf_list = list(filter(first_harf, time_list))\n",
    "print(first_harf_list)"
   ]
  },
  {
   "cell_type": "code",
   "execution_count": 14,
   "metadata": {},
   "outputs": [
    {
     "name": "stdout",
     "output_type": "stream",
     "text": [
      "[[2006, 11, 26, 2, 40], [2017, 8, 9, 7, 5], [2014, 5, 4, 14, 26], [2017, 4, 1, 22, 15], [2009, 1, 16, 23, 35]]\n"
     ]
    }
   ],
   "source": [
    "# sorted\n",
    "\"\"\"\n",
    "リストをソートする\n",
    "sorted(ソートしたい配列, key=キーとなる関数, reverse=TreuまたはFalse)\n",
    "key=lambda x: x[n]\n",
    "    - n要素を昇順にソート\n",
    "reverse=True\n",
    "    - 降順\n",
    "\"\"\"\n",
    "time_data = [\n",
    "    [2006, 11, 26,  2, 40],\n",
    "    [2009,  1, 16, 23, 35],\n",
    "    [2014,  5,  4, 14, 26],\n",
    "    [2017,  8,  9,  7,  5],\n",
    "    [2017,  4,  1, 22, 15]\n",
    "]\n",
    "\n",
    "sort_by_month = sorted(time_data, key=lambda x: x[3])\n",
    "print(sort_by_month)"
   ]
  },
  {
   "cell_type": "code",
   "execution_count": 17,
   "metadata": {},
   "outputs": [
    {
     "name": "stdout",
     "output_type": "stream",
     "text": [
      "[[0, 30], [2, 35], [3, 0], [1, 14], [0, 11], [1, 0], [1, 22]]\n"
     ]
    }
   ],
   "source": [
    "# リストの生成\n",
    "\"\"\"\n",
    "リスト内包表記\n",
    "    - [適用したい関数(要素) for 要素 in 適用する元の配列]\n",
    "map\n",
    "    - イテレータが欲しい時\n",
    "リスト内包表記\n",
    "    - 直接配列が欲しい時\n",
    "\"\"\"\n",
    "minute_data = [30, 155, 180, 74, 11, 60, 82]\n",
    "\n",
    "split_h_m = lambda x: [x // 60, x % 60]\n",
    "\n",
    "h_m_data = [split_h_m(x) for x in minute_data]\n",
    "print(h_m_data)"
   ]
  },
  {
   "cell_type": "code",
   "execution_count": 18,
   "metadata": {},
   "outputs": [
    {
     "name": "stdout",
     "output_type": "stream",
     "text": [
      "[1, 3, 5]\n"
     ]
    }
   ],
   "source": [
    "# if文を用いたループ\n",
    "\"\"\"\n",
    "後置if\n",
    "    - [適用したい関数(要素) for 要素 in フィルタリングしたい配列 if 条件]\n",
    "\"\"\"\n",
    "a = [1, -2, 3, -4, 5]\n",
    "\n",
    "b = [x for x in a if x > 0]\n",
    "print(b)"
   ]
  },
  {
   "cell_type": "code",
   "execution_count": 19,
   "metadata": {},
   "outputs": [
    {
     "name": "stdout",
     "output_type": "stream",
     "text": [
      "[180, 60]\n"
     ]
    }
   ],
   "source": [
    "minute_data = [30, 155, 180, 74, 11, 60, 82]\n",
    "\n",
    "min_list = [x for x in minute_data if x % 60 == 0]\n",
    "print(min_list)"
   ]
  },
  {
   "cell_type": "code",
   "execution_count": 20,
   "metadata": {},
   "outputs": [
    {
     "name": "stdout",
     "output_type": "stream",
     "text": [
      "1 9\n",
      "-2 8\n",
      "3 -7\n",
      "-4 -6\n",
      "5 -5\n"
     ]
    }
   ],
   "source": [
    "# 複数配列の同時ループ\n",
    "\"\"\"\n",
    "zip\n",
    "    - 複数の配列を並列にループさせたい時\n",
    "\"\"\"\n",
    "a =[1, -2, 3, -4, 5]\n",
    "b = [9, 8, -7, -6, -5]\n",
    "\n",
    "for x, y in zip(a, b):\n",
    "    print(x, y)"
   ]
  },
  {
   "cell_type": "code",
   "execution_count": 22,
   "metadata": {},
   "outputs": [
    {
     "name": "stdout",
     "output_type": "stream",
     "text": [
      "[82, 68, 58, 52, 50]\n"
     ]
    }
   ],
   "source": [
    "a_and_b = [x**2 + y**2 for x, y in zip(a, b)]\n",
    "print(a_and_b)"
   ]
  },
  {
   "cell_type": "code",
   "execution_count": 23,
   "metadata": {},
   "outputs": [
    {
     "name": "stdout",
     "output_type": "stream",
     "text": [
      "[30, 155, 180, 74, 11, 60, 82]\n"
     ]
    }
   ],
   "source": [
    "hour = [0, 2, 3, 1, 0, 1, 1]\n",
    "minute = [30, 35, 0, 14, 11, 0, 22]\n",
    "\n",
    "h_m_conbine = lambda x, y: x * 60 + y\n",
    "\n",
    "h_m_data = [h_m_conbine(x, y) for x, y in zip(hour, minute)]\n",
    "\n",
    "print(h_m_data)"
   ]
  },
  {
   "cell_type": "code",
   "execution_count": 24,
   "metadata": {},
   "outputs": [
    {
     "name": "stdout",
     "output_type": "stream",
     "text": [
      "1 9\n",
      "1 8\n",
      "-2 9\n",
      "-2 8\n",
      "3 9\n",
      "3 8\n"
     ]
    }
   ],
   "source": [
    "# 多重ループ\n",
    "a =[1, -2, 3]\n",
    "b = [9, 8]\n",
    "\n",
    "for x in a:\n",
    "    for y in b:\n",
    "        print(x, y)"
   ]
  },
  {
   "cell_type": "code",
   "execution_count": 25,
   "metadata": {},
   "outputs": [
    {
     "name": "stdout",
     "output_type": "stream",
     "text": [
      "[[1, 9], [1, 8], [-2, 9], [-2, 8], [3, 9], [3, 8]]\n"
     ]
    }
   ],
   "source": [
    "sample = [[x, y] for x in a for y in b]\n",
    "print(sample)"
   ]
  },
  {
   "cell_type": "code",
   "execution_count": 27,
   "metadata": {},
   "outputs": [
    {
     "name": "stdout",
     "output_type": "stream",
     "text": [
      "[0, 1, 2, 3, 4, 5, 6, 7]\n"
     ]
    }
   ],
   "source": [
    "fours_place = [0, 1]\n",
    "twos_place  = [0, 1]\n",
    "ones_place  = [0, 1]\n",
    "\n",
    "digit = [x*4 + y*2 + z for x in fours_place for y in twos_place for z in ones_place]\n",
    "print(digit)"
   ]
  },
  {
   "cell_type": "code",
   "execution_count": 29,
   "metadata": {},
   "outputs": [
    {
     "name": "stdout",
     "output_type": "stream",
     "text": [
      "defaultdict(<class 'int'>, {'foo': 2, 'bar': 1, 'pop': 2, 'popo': 1})\n"
     ]
    }
   ],
   "source": [
    "# defaultdict\n",
    "\"\"\"\n",
    "from collections import defaultdict\n",
    "\n",
    "d = defaultdict(valueの型)\n",
    "\"\"\"\n",
    "from collections import defaultdict\n",
    "d = defaultdict(int)\n",
    "lst = [\"foo\", \"bar\", \"pop\", \"pop\", \"foo\", \"popo\"]\n",
    "for key in lst:\n",
    "    d[key] += 1\n",
    "\n",
    "print(d)"
   ]
  },
  {
   "cell_type": "code",
   "execution_count": 31,
   "metadata": {},
   "outputs": [
    {
     "name": "stdout",
     "output_type": "stream",
     "text": [
      "[(' ', 20), ('e', 18), ('i', 17), ('n', 14), ('l', 12), ('a', 11), ('t', 10), ('c', 7), ('h', 7), ('r', 6)]\n"
     ]
    }
   ],
   "source": [
    "from collections import defaultdict\n",
    "\n",
    "description = \\\n",
    "\"Artificial intelligence (AI, also machine intelligence, MI) is \" + \\\n",
    "\"intelligence exhibited by machines, rather than \" + \\\n",
    "\"humans or other animals (natural intelligence, NI).\"\n",
    "\n",
    "d = defaultdict(int)\n",
    "\n",
    "for key in description:\n",
    "    d[key] += 1\n",
    "    \n",
    "print(sorted(d.items(), key=lambda x: x[1], reverse=True)[:10])"
   ]
  },
  {
   "cell_type": "code",
   "execution_count": 33,
   "metadata": {},
   "outputs": [
    {
     "name": "stdout",
     "output_type": "stream",
     "text": [
      "{'apple': [50, 70], 'banana': [120], 'grape': [500, 1000], 'lemon': [150]}\n"
     ]
    }
   ],
   "source": [
    "\"\"\"\n",
    "defaultdict(list)\n",
    "辞書[key].append(要素)\n",
    "\"\"\"\n",
    "from collections import defaultdict\n",
    "\n",
    "d ={}\n",
    "price = [\n",
    "    (\"apple\", 50),\n",
    "    (\"banana\", 120),\n",
    "    (\"grape\", 500),\n",
    "    (\"apple\", 70),\n",
    "    (\"lemon\", 150),\n",
    "    (\"grape\", 1000)\n",
    "]\n",
    "for key, value in price:\n",
    "    if key in d:\n",
    "        d[key].append(value)\n",
    "    else:\n",
    "        d[key] = [value]\n",
    "\n",
    "print(d)"
   ]
  },
  {
   "cell_type": "code",
   "execution_count": 34,
   "metadata": {},
   "outputs": [
    {
     "name": "stdout",
     "output_type": "stream",
     "text": [
      "[60.0, 120.0, 750.0, 150.0]\n"
     ]
    }
   ],
   "source": [
    "from collections import defaultdict\n",
    "\n",
    "price = [\n",
    "    (\"apple\", 50),\n",
    "    (\"banana\", 120),\n",
    "    (\"grape\", 500),\n",
    "    (\"apple\", 70),\n",
    "    (\"lemon\", 150),\n",
    "    (\"grape\", 1000)\n",
    "]\n",
    "\n",
    "d = defaultdict(list)\n",
    "\n",
    "for key, value in price:\n",
    "    d[key].append(value)\n",
    "\n",
    "print([sum(x) / len(x) for x in d.values()])"
   ]
  },
  {
   "cell_type": "code",
   "execution_count": 35,
   "metadata": {},
   "outputs": [
    {
     "name": "stdout",
     "output_type": "stream",
     "text": [
      "Counter({'foo': 2, 'pop': 2, 'bar': 1, 'popo': 1})\n"
     ]
    }
   ],
   "source": [
    "# Counter\n",
    "\"\"\"\n",
    "要素の数え上げに特化\n",
    "d = Counter(数えたいデータ)\n",
    "most_common\n",
    "    - 要素を頻度の降順にソート\n",
    "    - 辞書.most_common(取得する要素数)\n",
    "        - 取得する要素数1とすると最頻を返す\n",
    "\"\"\"\n",
    "from collections import Counter\n",
    "\n",
    "lst = [\"foo\", \"bar\", \"pop\", \"pop\", \"foo\", \"popo\"]\n",
    "d = Counter(lst)\n",
    "\n",
    "print(d)"
   ]
  },
  {
   "cell_type": "code",
   "execution_count": 37,
   "metadata": {},
   "outputs": [
    {
     "name": "stdout",
     "output_type": "stream",
     "text": [
      "[(' ', 20), ('e', 18), ('i', 17), ('n', 14), ('l', 12), ('a', 11), ('t', 10), ('c', 7), ('h', 7), ('r', 6)]\n"
     ]
    }
   ],
   "source": [
    "from collections import Counter\n",
    "\n",
    "description = \\\n",
    "\"Artificial intelligence (AI, also machine intelligence, MI) is \" + \\\n",
    "\"intelligence exhibited by machines, rather than \" + \\\n",
    "\"humans or other animals (natural intelligence, NI).\"\n",
    "\n",
    "d = Counter(description)\n",
    "\n",
    "print(d.most_common(10))"
   ]
  },
  {
   "cell_type": "code",
   "execution_count": 39,
   "metadata": {},
   "outputs": [
    {
     "data": {
      "text/html": [
       "<div>\n",
       "<style>\n",
       "    .dataframe thead tr:only-child th {\n",
       "        text-align: right;\n",
       "    }\n",
       "\n",
       "    .dataframe thead th {\n",
       "        text-align: left;\n",
       "    }\n",
       "\n",
       "    .dataframe tbody tr th {\n",
       "        vertical-align: top;\n",
       "    }\n",
       "</style>\n",
       "<table border=\"1\" class=\"dataframe\">\n",
       "  <thead>\n",
       "    <tr style=\"text-align: right;\">\n",
       "      <th></th>\n",
       "      <th>sepal length</th>\n",
       "      <th>sepal width</th>\n",
       "      <th>petal length</th>\n",
       "      <th>petal width</th>\n",
       "      <th>class</th>\n",
       "    </tr>\n",
       "  </thead>\n",
       "  <tbody>\n",
       "    <tr>\n",
       "      <th>0</th>\n",
       "      <td>5.1</td>\n",
       "      <td>3.5</td>\n",
       "      <td>1.4</td>\n",
       "      <td>0.2</td>\n",
       "      <td>Iris-setosa</td>\n",
       "    </tr>\n",
       "    <tr>\n",
       "      <th>1</th>\n",
       "      <td>4.9</td>\n",
       "      <td>3.0</td>\n",
       "      <td>1.4</td>\n",
       "      <td>0.2</td>\n",
       "      <td>Iris-setosa</td>\n",
       "    </tr>\n",
       "    <tr>\n",
       "      <th>2</th>\n",
       "      <td>4.7</td>\n",
       "      <td>3.2</td>\n",
       "      <td>1.3</td>\n",
       "      <td>0.2</td>\n",
       "      <td>Iris-setosa</td>\n",
       "    </tr>\n",
       "    <tr>\n",
       "      <th>3</th>\n",
       "      <td>4.6</td>\n",
       "      <td>3.1</td>\n",
       "      <td>1.5</td>\n",
       "      <td>0.2</td>\n",
       "      <td>Iris-setosa</td>\n",
       "    </tr>\n",
       "    <tr>\n",
       "      <th>4</th>\n",
       "      <td>5.0</td>\n",
       "      <td>3.6</td>\n",
       "      <td>1.4</td>\n",
       "      <td>0.2</td>\n",
       "      <td>Iris-setosa</td>\n",
       "    </tr>\n",
       "  </tbody>\n",
       "</table>\n",
       "</div>"
      ],
      "text/plain": [
       "   sepal length  sepal width  petal length  petal width        class\n",
       "0           5.1          3.5           1.4          0.2  Iris-setosa\n",
       "1           4.9          3.0           1.4          0.2  Iris-setosa\n",
       "2           4.7          3.2           1.3          0.2  Iris-setosa\n",
       "3           4.6          3.1           1.5          0.2  Iris-setosa\n",
       "4           5.0          3.6           1.4          0.2  Iris-setosa"
      ]
     },
     "execution_count": 39,
     "metadata": {},
     "output_type": "execute_result"
    }
   ],
   "source": [
    "import pandas as pd\n",
    "\n",
    "df = pd.read_csv('http://archive.ics.uci.edu/ml/machine-learning-databases/iris/iris.data', header=None)\n",
    "df.columns = [\"sepal length\", \"sepal width\", \"petal length\", \"petal width\", \"class\"]\n",
    "\n",
    "df.head()"
   ]
  },
  {
   "cell_type": "code",
   "execution_count": 45,
   "metadata": {},
   "outputs": [
    {
     "data": {
      "text/html": [
       "<div>\n",
       "<style>\n",
       "    .dataframe thead tr:only-child th {\n",
       "        text-align: right;\n",
       "    }\n",
       "\n",
       "    .dataframe thead th {\n",
       "        text-align: left;\n",
       "    }\n",
       "\n",
       "    .dataframe tbody tr th {\n",
       "        vertical-align: top;\n",
       "    }\n",
       "</style>\n",
       "<table border=\"1\" class=\"dataframe\">\n",
       "  <thead>\n",
       "    <tr style=\"text-align: right;\">\n",
       "      <th></th>\n",
       "      <th>company</th>\n",
       "      <th>year</th>\n",
       "      <th>president</th>\n",
       "      <th>visitors</th>\n",
       "      <th>pruductA</th>\n",
       "      <th>productB</th>\n",
       "    </tr>\n",
       "  </thead>\n",
       "  <tbody>\n",
       "    <tr>\n",
       "      <th>0</th>\n",
       "      <td>cosme1</td>\n",
       "      <td>2014</td>\n",
       "      <td>James</td>\n",
       "      <td>128</td>\n",
       "      <td>15020</td>\n",
       "      <td>39523</td>\n",
       "    </tr>\n",
       "    <tr>\n",
       "      <th>1</th>\n",
       "      <td>cosme1</td>\n",
       "      <td>2015</td>\n",
       "      <td>Tom</td>\n",
       "      <td>102</td>\n",
       "      <td>16102</td>\n",
       "      <td>44127</td>\n",
       "    </tr>\n",
       "    <tr>\n",
       "      <th>2</th>\n",
       "      <td>cosme1</td>\n",
       "      <td>2016</td>\n",
       "      <td>Tom</td>\n",
       "      <td>101</td>\n",
       "      <td>15983</td>\n",
       "      <td>48016</td>\n",
       "    </tr>\n",
       "    <tr>\n",
       "      <th>3</th>\n",
       "      <td>cosme1</td>\n",
       "      <td>2017</td>\n",
       "      <td>James</td>\n",
       "      <td>116</td>\n",
       "      <td>17240</td>\n",
       "      <td>50974</td>\n",
       "    </tr>\n",
       "    <tr>\n",
       "      <th>4</th>\n",
       "      <td>cosme2</td>\n",
       "      <td>2014</td>\n",
       "      <td>Sherry</td>\n",
       "      <td>90</td>\n",
       "      <td>13205</td>\n",
       "      <td>38309</td>\n",
       "    </tr>\n",
       "    <tr>\n",
       "      <th>5</th>\n",
       "      <td>cosme2</td>\n",
       "      <td>2015</td>\n",
       "      <td>James</td>\n",
       "      <td>136</td>\n",
       "      <td>14276</td>\n",
       "      <td>42160</td>\n",
       "    </tr>\n",
       "    <tr>\n",
       "      <th>6</th>\n",
       "      <td>cosme2</td>\n",
       "      <td>2016</td>\n",
       "      <td>Sherry</td>\n",
       "      <td>101</td>\n",
       "      <td>13198</td>\n",
       "      <td>36756</td>\n",
       "    </tr>\n",
       "    <tr>\n",
       "      <th>7</th>\n",
       "      <td>cosme2</td>\n",
       "      <td>2017</td>\n",
       "      <td>Bob</td>\n",
       "      <td>120</td>\n",
       "      <td>16530</td>\n",
       "      <td>38455</td>\n",
       "    </tr>\n",
       "  </tbody>\n",
       "</table>\n",
       "</div>"
      ],
      "text/plain": [
       "  company  year president  visitors  pruductA  productB\n",
       "0  cosme1  2014     James       128     15020     39523\n",
       "1  cosme1  2015       Tom       102     16102     44127\n",
       "2  cosme1  2016       Tom       101     15983     48016\n",
       "3  cosme1  2017     James       116     17240     50974\n",
       "4  cosme2  2014    Sherry        90     13205     38309\n",
       "5  cosme2  2015     James       136     14276     42160\n",
       "6  cosme2  2016    Sherry       101     13198     36756\n",
       "7  cosme2  2017       Bob       120     16530     38455"
      ]
     },
     "execution_count": 45,
     "metadata": {},
     "output_type": "execute_result"
    }
   ],
   "source": [
    "import pandas as pd\n",
    "\n",
    "df = pd.read_csv('company.csv')\n",
    "df"
   ]
  },
  {
   "cell_type": "code",
   "execution_count": 48,
   "metadata": {},
   "outputs": [
    {
     "data": {
      "text/html": [
       "<div>\n",
       "<style>\n",
       "    .dataframe thead tr:only-child th {\n",
       "        text-align: right;\n",
       "    }\n",
       "\n",
       "    .dataframe thead th {\n",
       "        text-align: left;\n",
       "    }\n",
       "\n",
       "    .dataframe tbody tr th {\n",
       "        vertical-align: top;\n",
       "    }\n",
       "</style>\n",
       "<table border=\"1\" class=\"dataframe\">\n",
       "  <thead>\n",
       "    <tr style=\"text-align: right;\">\n",
       "      <th></th>\n",
       "      <th>ID</th>\n",
       "      <th>birth_year</th>\n",
       "      <th>city</th>\n",
       "      <th>name</th>\n",
       "    </tr>\n",
       "  </thead>\n",
       "  <tbody>\n",
       "    <tr>\n",
       "      <th>0</th>\n",
       "      <td>100</td>\n",
       "      <td>1990</td>\n",
       "      <td>Tokyo</td>\n",
       "      <td>Hiroshi</td>\n",
       "    </tr>\n",
       "    <tr>\n",
       "      <th>1</th>\n",
       "      <td>101</td>\n",
       "      <td>1989</td>\n",
       "      <td>Osaka</td>\n",
       "      <td>Akiko</td>\n",
       "    </tr>\n",
       "    <tr>\n",
       "      <th>2</th>\n",
       "      <td>102</td>\n",
       "      <td>1992</td>\n",
       "      <td>Kyoto</td>\n",
       "      <td>Yuki</td>\n",
       "    </tr>\n",
       "    <tr>\n",
       "      <th>3</th>\n",
       "      <td>103</td>\n",
       "      <td>1997</td>\n",
       "      <td>Hokkaido</td>\n",
       "      <td>Satoru</td>\n",
       "    </tr>\n",
       "    <tr>\n",
       "      <th>4</th>\n",
       "      <td>104</td>\n",
       "      <td>1982</td>\n",
       "      <td>Tokyo</td>\n",
       "      <td>Steeve</td>\n",
       "    </tr>\n",
       "    <tr>\n",
       "      <th>5</th>\n",
       "      <td>106</td>\n",
       "      <td>1991</td>\n",
       "      <td>Tokyo</td>\n",
       "      <td>Mituru</td>\n",
       "    </tr>\n",
       "    <tr>\n",
       "      <th>6</th>\n",
       "      <td>107</td>\n",
       "      <td>1994</td>\n",
       "      <td>Sendai</td>\n",
       "      <td>NaN</td>\n",
       "    </tr>\n",
       "    <tr>\n",
       "      <th>7</th>\n",
       "      <td>108</td>\n",
       "      <td>1988</td>\n",
       "      <td>Osaka</td>\n",
       "      <td>Aoi</td>\n",
       "    </tr>\n",
       "    <tr>\n",
       "      <th>8</th>\n",
       "      <td>109</td>\n",
       "      <td>1988</td>\n",
       "      <td>Nagoya</td>\n",
       "      <td>NaN</td>\n",
       "    </tr>\n",
       "    <tr>\n",
       "      <th>9</th>\n",
       "      <td>110</td>\n",
       "      <td>1990</td>\n",
       "      <td>Kyoto</td>\n",
       "      <td>Tarou</td>\n",
       "    </tr>\n",
       "    <tr>\n",
       "      <th>10</th>\n",
       "      <td>111</td>\n",
       "      <td>1995</td>\n",
       "      <td>Hokkaido</td>\n",
       "      <td>Suguru</td>\n",
       "    </tr>\n",
       "    <tr>\n",
       "      <th>11</th>\n",
       "      <td>113</td>\n",
       "      <td>1981</td>\n",
       "      <td>Tokyo</td>\n",
       "      <td>Mitsuo</td>\n",
       "    </tr>\n",
       "  </tbody>\n",
       "</table>\n",
       "</div>"
      ],
      "text/plain": [
       "     ID  birth_year      city     name\n",
       "0   100        1990     Tokyo  Hiroshi\n",
       "1   101        1989     Osaka    Akiko\n",
       "2   102        1992     Kyoto     Yuki\n",
       "3   103        1997  Hokkaido   Satoru\n",
       "4   104        1982     Tokyo   Steeve\n",
       "5   106        1991     Tokyo   Mituru\n",
       "6   107        1994    Sendai      NaN\n",
       "7   108        1988     Osaka      Aoi\n",
       "8   109        1988    Nagoya      NaN\n",
       "9   110        1990     Kyoto    Tarou\n",
       "10  111        1995  Hokkaido   Suguru\n",
       "11  113        1981     Tokyo   Mitsuo"
      ]
     },
     "execution_count": 48,
     "metadata": {},
     "output_type": "execute_result"
    }
   ],
   "source": [
    "import pandas as pd\n",
    "from pandas import Series, DataFrame\n",
    "\n",
    "attri_data1 = {\"ID\": [\"100\", \"101\", \"102\", \"103\", \"104\", \"106\", \"108\", \"110\", \"111\", \"113\"],\n",
    "               \"city\": [\"Tokyo\", \"Osaka\", \"Kyoto\", \"Hokkaido\", \"Tokyo\", \"Tokyo\", \"Osaka\", \"Kyoto\", \"Hokkaido\", \"Tokyo\"],\n",
    "               \"birth_year\": [1990, 1989, 1992, 1997, 1982, 1991, 1988, 1990, 1995, 1981],\n",
    "               \"name\": [\"Hiroshi\", \"Akiko\", \"Yuki\", \"Satoru\", \"Steeve\", \"Mituru\", \"Aoi\", \"Tarou\", \"Suguru\", \"Mitsuo\"]}\n",
    "attri_data_frame1 = DataFrame(attri_data1)\n",
    "\n",
    "attri_data2 = {\"ID\": [\"107\", \"109\"],\n",
    "               \"city\": [\"Sendai\", \"Nagoya\"],\n",
    "               \"birth_year\": [1994, 1988]}\n",
    "attri_data_frame2 = DataFrame(attri_data2)\n",
    "\n",
    "attri_data_frame1.append(attri_data_frame2).sort_values(by='ID', ascending=True).reset_index(drop=True)"
   ]
  },
  {
   "cell_type": "code",
   "execution_count": 49,
   "metadata": {},
   "outputs": [
    {
     "data": {
      "text/html": [
       "<div>\n",
       "<style>\n",
       "    .dataframe thead tr:only-child th {\n",
       "        text-align: right;\n",
       "    }\n",
       "\n",
       "    .dataframe thead th {\n",
       "        text-align: left;\n",
       "    }\n",
       "\n",
       "    .dataframe tbody tr th {\n",
       "        vertical-align: top;\n",
       "    }\n",
       "</style>\n",
       "<table border=\"1\" class=\"dataframe\">\n",
       "  <thead>\n",
       "    <tr style=\"text-align: right;\">\n",
       "      <th></th>\n",
       "      <th>0</th>\n",
       "      <th>1</th>\n",
       "      <th>2</th>\n",
       "      <th>3</th>\n",
       "    </tr>\n",
       "  </thead>\n",
       "  <tbody>\n",
       "    <tr>\n",
       "      <th>0</th>\n",
       "      <td>-0.432987</td>\n",
       "      <td>1.244547</td>\n",
       "      <td>-0.310293</td>\n",
       "      <td>0.264510</td>\n",
       "    </tr>\n",
       "    <tr>\n",
       "      <th>1</th>\n",
       "      <td>NaN</td>\n",
       "      <td>-1.122680</td>\n",
       "      <td>-0.358860</td>\n",
       "      <td>0.693517</td>\n",
       "    </tr>\n",
       "    <tr>\n",
       "      <th>2</th>\n",
       "      <td>-0.721103</td>\n",
       "      <td>-1.102514</td>\n",
       "      <td>NaN</td>\n",
       "      <td>0.433925</td>\n",
       "    </tr>\n",
       "    <tr>\n",
       "      <th>3</th>\n",
       "      <td>-1.233713</td>\n",
       "      <td>0.992370</td>\n",
       "      <td>-1.112389</td>\n",
       "      <td>1.107829</td>\n",
       "    </tr>\n",
       "    <tr>\n",
       "      <th>4</th>\n",
       "      <td>-1.563442</td>\n",
       "      <td>0.249730</td>\n",
       "      <td>0.119551</td>\n",
       "      <td>-0.916966</td>\n",
       "    </tr>\n",
       "    <tr>\n",
       "      <th>5</th>\n",
       "      <td>-0.414083</td>\n",
       "      <td>-2.082456</td>\n",
       "      <td>0.759448</td>\n",
       "      <td>NaN</td>\n",
       "    </tr>\n",
       "    <tr>\n",
       "      <th>6</th>\n",
       "      <td>0.001635</td>\n",
       "      <td>-0.649636</td>\n",
       "      <td>-1.316706</td>\n",
       "      <td>NaN</td>\n",
       "    </tr>\n",
       "    <tr>\n",
       "      <th>7</th>\n",
       "      <td>0.063980</td>\n",
       "      <td>0.590095</td>\n",
       "      <td>0.564158</td>\n",
       "      <td>NaN</td>\n",
       "    </tr>\n",
       "    <tr>\n",
       "      <th>8</th>\n",
       "      <td>0.039961</td>\n",
       "      <td>-0.604786</td>\n",
       "      <td>-1.420142</td>\n",
       "      <td>NaN</td>\n",
       "    </tr>\n",
       "    <tr>\n",
       "      <th>9</th>\n",
       "      <td>0.498102</td>\n",
       "      <td>-0.716765</td>\n",
       "      <td>0.457859</td>\n",
       "      <td>NaN</td>\n",
       "    </tr>\n",
       "  </tbody>\n",
       "</table>\n",
       "</div>"
      ],
      "text/plain": [
       "          0         1         2         3\n",
       "0 -0.432987  1.244547 -0.310293  0.264510\n",
       "1       NaN -1.122680 -0.358860  0.693517\n",
       "2 -0.721103 -1.102514       NaN  0.433925\n",
       "3 -1.233713  0.992370 -1.112389  1.107829\n",
       "4 -1.563442  0.249730  0.119551 -0.916966\n",
       "5 -0.414083 -2.082456  0.759448       NaN\n",
       "6  0.001635 -0.649636 -1.316706       NaN\n",
       "7  0.063980  0.590095  0.564158       NaN\n",
       "8  0.039961 -0.604786 -1.420142       NaN\n",
       "9  0.498102 -0.716765  0.457859       NaN"
      ]
     },
     "execution_count": 49,
     "metadata": {},
     "output_type": "execute_result"
    }
   ],
   "source": [
    "# リストワイズ/ペアワイズ削除\n",
    "import numpy as np\n",
    "from numpy import nan as NA\n",
    "import pandas as pd\n",
    "\n",
    "sample_data_frame = pd.DataFrame(np.random.randn(10, 4))\n",
    "\n",
    "# わざと欠損を作る\n",
    "sample_data_frame.iloc[1, 0] = NA\n",
    "sample_data_frame.iloc[2, 2] = NA\n",
    "sample_data_frame.iloc[5:, 3] = NA\n",
    "\n",
    "sample_data_frame"
   ]
  },
  {
   "cell_type": "code",
   "execution_count": 50,
   "metadata": {},
   "outputs": [
    {
     "data": {
      "text/html": [
       "<div>\n",
       "<style>\n",
       "    .dataframe thead tr:only-child th {\n",
       "        text-align: right;\n",
       "    }\n",
       "\n",
       "    .dataframe thead th {\n",
       "        text-align: left;\n",
       "    }\n",
       "\n",
       "    .dataframe tbody tr th {\n",
       "        vertical-align: top;\n",
       "    }\n",
       "</style>\n",
       "<table border=\"1\" class=\"dataframe\">\n",
       "  <thead>\n",
       "    <tr style=\"text-align: right;\">\n",
       "      <th></th>\n",
       "      <th>0</th>\n",
       "      <th>1</th>\n",
       "      <th>2</th>\n",
       "      <th>3</th>\n",
       "    </tr>\n",
       "  </thead>\n",
       "  <tbody>\n",
       "    <tr>\n",
       "      <th>0</th>\n",
       "      <td>-0.432987</td>\n",
       "      <td>1.244547</td>\n",
       "      <td>-0.310293</td>\n",
       "      <td>0.264510</td>\n",
       "    </tr>\n",
       "    <tr>\n",
       "      <th>3</th>\n",
       "      <td>-1.233713</td>\n",
       "      <td>0.992370</td>\n",
       "      <td>-1.112389</td>\n",
       "      <td>1.107829</td>\n",
       "    </tr>\n",
       "    <tr>\n",
       "      <th>4</th>\n",
       "      <td>-1.563442</td>\n",
       "      <td>0.249730</td>\n",
       "      <td>0.119551</td>\n",
       "      <td>-0.916966</td>\n",
       "    </tr>\n",
       "  </tbody>\n",
       "</table>\n",
       "</div>"
      ],
      "text/plain": [
       "          0         1         2         3\n",
       "0 -0.432987  1.244547 -0.310293  0.264510\n",
       "3 -1.233713  0.992370 -1.112389  1.107829\n",
       "4 -1.563442  0.249730  0.119551 -0.916966"
      ]
     },
     "execution_count": 50,
     "metadata": {},
     "output_type": "execute_result"
    }
   ],
   "source": [
    "\"\"\"\n",
    "リストワイズ削除\n",
    "    - データ欠損のある行を丸ごと削除\n",
    "\"\"\"\n",
    "sample_data_frame.dropna()"
   ]
  },
  {
   "cell_type": "code",
   "execution_count": 52,
   "metadata": {},
   "outputs": [
    {
     "data": {
      "text/html": [
       "<div>\n",
       "<style>\n",
       "    .dataframe thead tr:only-child th {\n",
       "        text-align: right;\n",
       "    }\n",
       "\n",
       "    .dataframe thead th {\n",
       "        text-align: left;\n",
       "    }\n",
       "\n",
       "    .dataframe tbody tr th {\n",
       "        vertical-align: top;\n",
       "    }\n",
       "</style>\n",
       "<table border=\"1\" class=\"dataframe\">\n",
       "  <thead>\n",
       "    <tr style=\"text-align: right;\">\n",
       "      <th></th>\n",
       "      <th>0</th>\n",
       "      <th>1</th>\n",
       "      <th>2</th>\n",
       "    </tr>\n",
       "  </thead>\n",
       "  <tbody>\n",
       "    <tr>\n",
       "      <th>0</th>\n",
       "      <td>-0.432987</td>\n",
       "      <td>1.244547</td>\n",
       "      <td>-0.310293</td>\n",
       "    </tr>\n",
       "    <tr>\n",
       "      <th>3</th>\n",
       "      <td>-1.233713</td>\n",
       "      <td>0.992370</td>\n",
       "      <td>-1.112389</td>\n",
       "    </tr>\n",
       "    <tr>\n",
       "      <th>4</th>\n",
       "      <td>-1.563442</td>\n",
       "      <td>0.249730</td>\n",
       "      <td>0.119551</td>\n",
       "    </tr>\n",
       "    <tr>\n",
       "      <th>5</th>\n",
       "      <td>-0.414083</td>\n",
       "      <td>-2.082456</td>\n",
       "      <td>0.759448</td>\n",
       "    </tr>\n",
       "    <tr>\n",
       "      <th>6</th>\n",
       "      <td>0.001635</td>\n",
       "      <td>-0.649636</td>\n",
       "      <td>-1.316706</td>\n",
       "    </tr>\n",
       "    <tr>\n",
       "      <th>7</th>\n",
       "      <td>0.063980</td>\n",
       "      <td>0.590095</td>\n",
       "      <td>0.564158</td>\n",
       "    </tr>\n",
       "    <tr>\n",
       "      <th>8</th>\n",
       "      <td>0.039961</td>\n",
       "      <td>-0.604786</td>\n",
       "      <td>-1.420142</td>\n",
       "    </tr>\n",
       "    <tr>\n",
       "      <th>9</th>\n",
       "      <td>0.498102</td>\n",
       "      <td>-0.716765</td>\n",
       "      <td>0.457859</td>\n",
       "    </tr>\n",
       "  </tbody>\n",
       "</table>\n",
       "</div>"
      ],
      "text/plain": [
       "          0         1         2\n",
       "0 -0.432987  1.244547 -0.310293\n",
       "3 -1.233713  0.992370 -1.112389\n",
       "4 -1.563442  0.249730  0.119551\n",
       "5 -0.414083 -2.082456  0.759448\n",
       "6  0.001635 -0.649636 -1.316706\n",
       "7  0.063980  0.590095  0.564158\n",
       "8  0.039961 -0.604786 -1.420142\n",
       "9  0.498102 -0.716765  0.457859"
      ]
     },
     "execution_count": 52,
     "metadata": {},
     "output_type": "execute_result"
    }
   ],
   "source": [
    "\"\"\"\n",
    "ペアワイズ削除\n",
    "    - 欠損値の少ない列を残す\n",
    "\"\"\"\n",
    "sample_data_frame[[0, 1, 2]].dropna()"
   ]
  }
 ],
 "metadata": {
  "kernelspec": {
   "display_name": "Python 3",
   "language": "python",
   "name": "python3"
  },
  "language_info": {
   "codemirror_mode": {
    "name": "ipython",
    "version": 3
   },
   "file_extension": ".py",
   "mimetype": "text/x-python",
   "name": "python",
   "nbconvert_exporter": "python",
   "pygments_lexer": "ipython3",
   "version": "3.6.3"
  }
 },
 "nbformat": 4,
 "nbformat_minor": 2
}
