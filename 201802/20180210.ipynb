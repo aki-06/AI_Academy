{
 "cells": [
  {
   "cell_type": "code",
   "execution_count": 1,
   "metadata": {},
   "outputs": [
    {
     "name": "stdout",
     "output_type": "stream",
     "text": [
      "   fruits  time  year\n",
      "0   apple     1  2001\n",
      "1  banana     2  2002\n",
      "2   grape     3  2003\n",
      "3  orange     4  2004\n",
      "4   mango     5  2005\n"
     ]
    }
   ],
   "source": [
    "# 行を追加する\n",
    "\"\"\"\n",
    "DataFrameの変数dfに対して、df.append('Series型のデータ', ignore_index=True)\n",
    "\"\"\"\n",
    "import pandas as pd\n",
    "data = {\n",
    "    'fruits': ['apple', 'banana', 'grape', 'orange', 'mango'],\n",
    "    'year': [2001, 2002, 2003, 2004, 2005],\n",
    "    'time': [1, 2, 3, 4, 5]\n",
    "}\n",
    "df = pd.DataFrame(data)\n",
    "print(df)"
   ]
  },
  {
   "cell_type": "code",
   "execution_count": 3,
   "metadata": {},
   "outputs": [
    {
     "name": "stdout",
     "output_type": "stream",
     "text": [
      "   fruits  time  year\n",
      "0   apple     1  2001\n",
      "1  banana     2  2002\n",
      "2   grape     3  2003\n",
      "3  orange     4  2004\n",
      "4   mango     5  2005\n",
      "5    kiwi     6  2006\n"
     ]
    }
   ],
   "source": [
    "series = pd.Series(['kiwi', 2006, 6], index = ['fruits', 'year', 'time'])\n",
    "df = df.append(series, ignore_index=True)\n",
    "print(df)"
   ]
  },
  {
   "cell_type": "code",
   "execution_count": 8,
   "metadata": {},
   "outputs": [
    {
     "name": "stdout",
     "output_type": "stream",
     "text": [
      "apple    1\n",
      "grape    2\n",
      "lemon    3\n",
      "dtype: int64\n"
     ]
    }
   ],
   "source": [
    "import pandas as pd\n",
    "\n",
    "index = ['apple', 'grape', 'lemon']\n",
    "data1 = [1, 2, 3]\n",
    "data2 = [4, 5, 6]\n",
    "data3 = [7, 8, 9, 10]\n",
    "series1 = pd.Series(data1, index=index)\n",
    "print(series1)"
   ]
  },
  {
   "cell_type": "code",
   "execution_count": 7,
   "metadata": {},
   "outputs": [
    {
     "name": "stdout",
     "output_type": "stream",
     "text": [
      "apple    4\n",
      "grape    5\n",
      "lemon    6\n",
      "dtype: int64\n"
     ]
    }
   ],
   "source": [
    "series2 = pd.Series(data2, index=index)\n",
    "print(series2)"
   ]
  },
  {
   "cell_type": "code",
   "execution_count": 9,
   "metadata": {},
   "outputs": [
    {
     "name": "stdout",
     "output_type": "stream",
     "text": [
      "apple     7\n",
      "grape     8\n",
      "lemon     9\n",
      "mango    10\n",
      "dtype: int64\n"
     ]
    }
   ],
   "source": [
    "index.append('mango')\n",
    "series3 = pd.Series(data3, index=index)\n",
    "print(series3)"
   ]
  },
  {
   "cell_type": "code",
   "execution_count": 14,
   "metadata": {},
   "outputs": [
    {
     "name": "stdout",
     "output_type": "stream",
     "text": [
      "   apple  grape  lemon\n",
      "0      1      2      3\n",
      "1      4      5      6\n"
     ]
    }
   ],
   "source": [
    "df = pd.DataFrame([series1, series2])\n",
    "print(df)"
   ]
  },
  {
   "cell_type": "code",
   "execution_count": 15,
   "metadata": {},
   "outputs": [
    {
     "name": "stdout",
     "output_type": "stream",
     "text": [
      "   apple  grape  lemon  mango\n",
      "1      1      2      3    NaN\n",
      "2      4      5      6    NaN\n",
      "3      7      8      9   10.0\n"
     ]
    }
   ],
   "source": [
    "df = df.append(series3, ignore_index=True)\n",
    "df.index = [1, 2, 3]\n",
    "print(df)"
   ]
  }
 ],
 "metadata": {
  "kernelspec": {
   "display_name": "Python 3",
   "language": "python",
   "name": "python3"
  },
  "language_info": {
   "codemirror_mode": {
    "name": "ipython",
    "version": 3
   },
   "file_extension": ".py",
   "mimetype": "text/x-python",
   "name": "python",
   "nbconvert_exporter": "python",
   "pygments_lexer": "ipython3",
   "version": "3.6.3"
  }
 },
 "nbformat": 4,
 "nbformat_minor": 2
}
