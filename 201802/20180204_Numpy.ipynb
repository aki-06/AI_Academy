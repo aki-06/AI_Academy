{
 "cells": [
  {
   "cell_type": "code",
   "execution_count": 1,
   "metadata": {},
   "outputs": [
    {
     "name": "stdout",
     "output_type": "stream",
     "text": [
      "[0, 1, 2, 3, 4, 5, 6, 7, 8, 9]\n"
     ]
    }
   ],
   "source": [
    "# viewとcopy\n",
    "\"\"\"\n",
    "ndarrayのスライスは配列のコピーではなくview\n",
    "viewとは元の配列と同じデータを指している\n",
    "スライスをコピーとして扱いたい場合、arr[:].copy()とする\n",
    "\"\"\"\n",
    "import numpy as np\n",
    "\n",
    "# Pythonのリストのスライス\n",
    "arr_list = [x for x in range(10)]\n",
    "print(arr_list)"
   ]
  },
  {
   "cell_type": "code",
   "execution_count": 3,
   "metadata": {},
   "outputs": [
    {
     "name": "stdout",
     "output_type": "stream",
     "text": [
      "[0, 1, 2, 3, 4, 5, 6, 7, 8, 9]\n"
     ]
    }
   ],
   "source": [
    "arr_list_copy = arr_list[:]\n",
    "print(arr_list_copy)"
   ]
  },
  {
   "cell_type": "code",
   "execution_count": 4,
   "metadata": {},
   "outputs": [
    {
     "name": "stdout",
     "output_type": "stream",
     "text": [
      "[100, 1, 2, 3, 4, 5, 6, 7, 8, 9]\n"
     ]
    }
   ],
   "source": [
    "arr_list_copy[0] = 100\n",
    "print(arr_list_copy)"
   ]
  },
  {
   "cell_type": "code",
   "execution_count": 5,
   "metadata": {},
   "outputs": [
    {
     "name": "stdout",
     "output_type": "stream",
     "text": [
      "[0, 1, 2, 3, 4, 5, 6, 7, 8, 9]\n"
     ]
    }
   ],
   "source": [
    "# リストのスライスではコピーが作られるので、arr_list_copyの変更は反映されない\n",
    "print(arr_list)"
   ]
  },
  {
   "cell_type": "code",
   "execution_count": 6,
   "metadata": {},
   "outputs": [
    {
     "name": "stdout",
     "output_type": "stream",
     "text": [
      "[0 1 2 3 4 5 6 7 8 9]\n"
     ]
    }
   ],
   "source": [
    "# ndarrayのスライス\n",
    "arr_numpy = np.arange(10)\n",
    "print(arr_numpy)"
   ]
  },
  {
   "cell_type": "code",
   "execution_count": 7,
   "metadata": {},
   "outputs": [
    {
     "name": "stdout",
     "output_type": "stream",
     "text": [
      "[0 1 2 3 4 5 6 7 8 9]\n"
     ]
    }
   ],
   "source": [
    "arr_numpy_view = arr_numpy[:]\n",
    "print(arr_numpy_view)"
   ]
  },
  {
   "cell_type": "code",
   "execution_count": 8,
   "metadata": {},
   "outputs": [
    {
     "name": "stdout",
     "output_type": "stream",
     "text": [
      "[100   1   2   3   4   5   6   7   8   9]\n"
     ]
    }
   ],
   "source": [
    "arr_numpy_view[0] = 100\n",
    "print(arr_numpy_view)"
   ]
  },
  {
   "cell_type": "code",
   "execution_count": 9,
   "metadata": {},
   "outputs": [
    {
     "name": "stdout",
     "output_type": "stream",
     "text": [
      "[100   1   2   3   4   5   6   7   8   9]\n"
     ]
    }
   ],
   "source": [
    "# arr_numpyの値も変更される\n",
    "print(arr_numpy)"
   ]
  },
  {
   "cell_type": "code",
   "execution_count": 11,
   "metadata": {},
   "outputs": [
    {
     "name": "stdout",
     "output_type": "stream",
     "text": [
      "[0 1 2 3 4 5 6 7 8 9]\n"
     ]
    }
   ],
   "source": [
    "arr_Numpy = np.arange(10)\n",
    "print(arr_Numpy)"
   ]
  },
  {
   "cell_type": "code",
   "execution_count": 12,
   "metadata": {},
   "outputs": [
    {
     "name": "stdout",
     "output_type": "stream",
     "text": [
      "[0 1 2 3 4 5 6 7 8 9]\n"
     ]
    }
   ],
   "source": [
    "arr_Numpy_copy = arr_Numpy[:].copy()\n",
    "print(arr_Numpy_copy)"
   ]
  },
  {
   "cell_type": "code",
   "execution_count": 13,
   "metadata": {},
   "outputs": [
    {
     "name": "stdout",
     "output_type": "stream",
     "text": [
      "[100   1   2   3   4   5   6   7   8   9]\n"
     ]
    }
   ],
   "source": [
    "arr_Numpy_copy[0] = 100\n",
    "print(arr_Numpy_copy)"
   ]
  },
  {
   "cell_type": "code",
   "execution_count": 14,
   "metadata": {
    "scrolled": true
   },
   "outputs": [
    {
     "name": "stdout",
     "output_type": "stream",
     "text": [
      "[0 1 2 3 4 5 6 7 8 9]\n"
     ]
    }
   ],
   "source": [
    "# .copy()を使うとarr_Numpyの値は変更されない\n",
    "print(arr_Numpy)"
   ]
  },
  {
   "cell_type": "code",
   "execution_count": 18,
   "metadata": {},
   "outputs": [
    {
     "name": "stdout",
     "output_type": "stream",
     "text": [
      "[2 4 6]\n"
     ]
    }
   ],
   "source": [
    "# ブールインデックス参照\n",
    "\"\"\"\n",
    "[]の中に論理値の配列を用いて要素を取り出すこと\n",
    "arr[ndarrayの論理値の配列]と表記すると、\n",
    "論理値配列のTrueに該当する要素のndarrayを作成して返す\n",
    "\"\"\"\n",
    "import numpy as np\n",
    "\n",
    "arr = np.array([2, 4, 6, 7])\n",
    "print(arr[np.array([True, True, True, False])])"
   ]
  },
  {
   "cell_type": "code",
   "execution_count": 19,
   "metadata": {
    "scrolled": true
   },
   "outputs": [
    {
     "name": "stdout",
     "output_type": "stream",
     "text": [
      "[4 7]\n"
     ]
    }
   ],
   "source": [
    "print(arr[arr % 3 == 1])"
   ]
  },
  {
   "cell_type": "code",
   "execution_count": 20,
   "metadata": {},
   "outputs": [
    {
     "name": "stdout",
     "output_type": "stream",
     "text": [
      "[2 4 6]\n"
     ]
    }
   ],
   "source": [
    "import numpy as np\n",
    "\n",
    "arr = np.array([1, 2, 3, 4, 5, 6])\n",
    "print(arr[arr % 2 == 0])"
   ]
  },
  {
   "cell_type": "code",
   "execution_count": 21,
   "metadata": {
    "scrolled": true
   },
   "outputs": [
    {
     "name": "stdout",
     "output_type": "stream",
     "text": [
      "[False  True False  True False  True]\n"
     ]
    }
   ],
   "source": [
    "print(arr % 2 == 0)"
   ]
  },
  {
   "cell_type": "code",
   "execution_count": 22,
   "metadata": {},
   "outputs": [
    {
     "name": "stdout",
     "output_type": "stream",
     "text": [
      "[ 4  9 -4 16 20]\n"
     ]
    }
   ],
   "source": [
    "# ユニバーサル関数\n",
    "\"\"\"\n",
    "ndaaray配列の各要素に対して演算した結果を返す関数\n",
    "- 多次元配列でも使用可能\n",
    "- 引数が一つのものと二つのものがある\n",
    "    - 一つのもの\n",
    "        - np.abs()\n",
    "            - 要素の絶対値を返す\n",
    "        - np.exp()\n",
    "            - 要素のe(自然対数の底)のべき乗を返す\n",
    "        - np.sqrt()\n",
    "            - 平方根を返す\n",
    "    - 二つのもの\n",
    "        - np.add()\n",
    "            - 要素同士の和を返す\n",
    "        - np.subtract()\n",
    "            - 要素同士の差を返す\n",
    "        - np.maximum()\n",
    "            - 要素同士の最大値を格納した配列を返す\n",
    "\"\"\"\n",
    "import numpy as np\n",
    "\n",
    "arr = np.array([4, 9, -4, 16, 20])\n",
    "print(arr)"
   ]
  },
  {
   "cell_type": "code",
   "execution_count": 23,
   "metadata": {},
   "outputs": [
    {
     "name": "stdout",
     "output_type": "stream",
     "text": [
      "[ 4  9  4 16 20]\n"
     ]
    }
   ],
   "source": [
    "# 絶対値\n",
    "arr_abs = np.abs(arr)\n",
    "print(arr_abs)"
   ]
  },
  {
   "cell_type": "code",
   "execution_count": 24,
   "metadata": {},
   "outputs": [
    {
     "name": "stdout",
     "output_type": "stream",
     "text": [
      "[  5.45981500e+01   8.10308393e+03   5.45981500e+01   8.88611052e+06\n",
      "   4.85165195e+08]\n"
     ]
    }
   ],
   "source": [
    "# eのべき乗\n",
    "print(np.exp(arr_abs))"
   ]
  },
  {
   "cell_type": "code",
   "execution_count": 25,
   "metadata": {},
   "outputs": [
    {
     "name": "stdout",
     "output_type": "stream",
     "text": [
      "[ 2.          3.          2.          4.          4.47213595]\n"
     ]
    }
   ],
   "source": [
    "# 平方根\n",
    "print(np.sqrt(arr_abs))"
   ]
  },
  {
   "cell_type": "code",
   "execution_count": 26,
   "metadata": {},
   "outputs": [
    {
     "name": "stdout",
     "output_type": "stream",
     "text": [
      "[2 5 7 9]\n"
     ]
    }
   ],
   "source": [
    "# 集合関数\n",
    "\"\"\"\n",
    "数学の集合演算を行う関数\n",
    "一次元配列のみ対象\n",
    "- np.unique()\n",
    "    - 重複を取り除き、ソートした結果を返す\n",
    "- np.union1d(x, y)\n",
    "    - 配列x, yのうち、少なくとも一方に存在する取り出しソートする(和集合)\n",
    "- np.intersect1d(x, y)\n",
    "    - 配列x, yのうち共通する要素を取り出しソートする(積集合)\n",
    "-np.setdiff1d(x, y)\n",
    "    - 配列xから配列yに存在する要素を取り除きソートする\n",
    "\"\"\"\n",
    "import numpy as np\n",
    "\n",
    "arr1 = [2, 5, 7, 9, 5, 2]\n",
    "arr2 = [2, 5, 8, 3, 1]\n",
    "\n",
    "# 重複を取り除く\n",
    "new_arr1 = np.unique(arr1)\n",
    "print(new_arr1)"
   ]
  },
  {
   "cell_type": "code",
   "execution_count": 27,
   "metadata": {},
   "outputs": [
    {
     "name": "stdout",
     "output_type": "stream",
     "text": [
      "[1 2 3 5 7 8 9]\n"
     ]
    }
   ],
   "source": [
    "# 和集合\n",
    "print(np.union1d(arr1, arr2))"
   ]
  },
  {
   "cell_type": "code",
   "execution_count": 28,
   "metadata": {},
   "outputs": [
    {
     "name": "stdout",
     "output_type": "stream",
     "text": [
      "[2 5]\n"
     ]
    }
   ],
   "source": [
    "# 積集合\n",
    "print(np.intersect1d(arr1, arr2))"
   ]
  },
  {
   "cell_type": "code",
   "execution_count": 29,
   "metadata": {},
   "outputs": [
    {
     "name": "stdout",
     "output_type": "stream",
     "text": [
      "[7 9]\n"
     ]
    }
   ],
   "source": [
    "# 差集合\n",
    "print(np.setdiff1d(arr1, arr2))"
   ]
  },
  {
   "cell_type": "code",
   "execution_count": 32,
   "metadata": {},
   "outputs": [
    {
     "name": "stdout",
     "output_type": "stream",
     "text": [
      "[[7 9]\n",
      " [0 9]\n",
      " [3 2]\n",
      " [5 3]\n",
      " [6 4]]\n"
     ]
    }
   ],
   "source": [
    "# 乱数\n",
    "\"\"\"\n",
    "np.randomモジュールで乱数を生成することができる\n",
    "- np.random.rand()\n",
    "    - 0以上1未満の一様乱数を生成する\n",
    "    - ()の中に整数を入れることで、整数分の乱数を生成できる\n",
    "- np.random.randint(x, y, z)\n",
    "    - x以上y未満の乱数をz個生成\n",
    "- np.random.normal()\n",
    "    - 関数やガウス分布に従う乱数を生成\n",
    "from numpy.random import randintをしておくとrandint()のみで使用できる\n",
    "from モジュール名 import モジュール内にある関数名  \n",
    "\"\"\"\n",
    "import numpy as np\n",
    "from numpy.random import randint\n",
    "\n",
    "arr1 = randint(0, 10, (5, 2))\n",
    "print(arr1)"
   ]
  },
  {
   "cell_type": "code",
   "execution_count": 33,
   "metadata": {},
   "outputs": [
    {
     "name": "stdout",
     "output_type": "stream",
     "text": [
      "[ 0.78644351  0.77354336  0.67946584]\n"
     ]
    }
   ],
   "source": [
    "arr2 = np.random.rand(3)\n",
    "print(arr2)"
   ]
  }
 ],
 "metadata": {
  "kernelspec": {
   "display_name": "Python 3",
   "language": "python",
   "name": "python3"
  },
  "language_info": {
   "codemirror_mode": {
    "name": "ipython",
    "version": 3
   },
   "file_extension": ".py",
   "mimetype": "text/x-python",
   "name": "python",
   "nbconvert_exporter": "python",
   "pygments_lexer": "ipython3",
   "version": "3.6.3"
  }
 },
 "nbformat": 4,
 "nbformat_minor": 2
}
