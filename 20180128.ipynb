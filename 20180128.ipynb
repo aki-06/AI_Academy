{
 "cells": [
  {
   "cell_type": "code",
   "execution_count": null,
   "metadata": {
    "collapsed": true
   },
   "outputs": [],
   "source": [
    "# Pandasを利用する利点\n",
    "\"\"\"\n",
    "- 多種の型のデータを一つのデータフレームで扱えること\n",
    "- データ加工や解析の関数が多いこと\n",
    "\"\"\""
   ]
  },
  {
   "cell_type": "code",
   "execution_count": 1,
   "metadata": {},
   "outputs": [
    {
     "name": "stdout",
     "output_type": "stream",
     "text": [
      "   名前  年齢  役職\n",
      "0  山田  50  社長\n",
      "1  田中  40  部長\n",
      "2  佐藤  30  課長\n"
     ]
    }
   ],
   "source": [
    "# データのイテレーション\n",
    "\"\"\"\n",
    "GroupBy\n",
    "指定したカラムの値によって、\n",
    "DataFrameに入ったデータをグループ分けすることで実現する\n",
    "\"\"\"\n",
    "import pandas as pd\n",
    "import numpy as np\n",
    "\n",
    "df = pd.DataFrame({\n",
    "    '名前': ['山田', '田中', '佐藤'],\n",
    "    '役職': ['社長', '部長', '課長'],\n",
    "    '年齢': [50, 40, 30]\n",
    "})\n",
    "print(df)"
   ]
  },
  {
   "cell_type": "code",
   "execution_count": 3,
   "metadata": {},
   "outputs": [
    {
     "name": "stdout",
     "output_type": "stream",
     "text": [
      "佐藤\n",
      "   名前  年齢  役職\n",
      "2  佐藤  30  課長\n",
      "\n",
      "山田\n",
      "   名前  年齢  役職\n",
      "0  山田  50  社長\n",
      "\n",
      "田中\n",
      "   名前  年齢  役職\n",
      "1  田中  40  部長\n",
      "\n"
     ]
    }
   ],
   "source": [
    "grouped = df.groupby('名前')\n",
    "for name, group in grouped:\n",
    "    print(name)\n",
    "    print(group)\n",
    "    print()"
   ]
  }
 ],
 "metadata": {
  "kernelspec": {
   "display_name": "Python 3",
   "language": "python",
   "name": "python3"
  },
  "language_info": {
   "codemirror_mode": {
    "name": "ipython",
    "version": 3
   },
   "file_extension": ".py",
   "mimetype": "text/x-python",
   "name": "python",
   "nbconvert_exporter": "python",
   "pygments_lexer": "ipython3",
   "version": "3.6.3"
  }
 },
 "nbformat": 4,
 "nbformat_minor": 2
}
