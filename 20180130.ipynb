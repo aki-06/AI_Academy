{
 "cells": [
  {
   "cell_type": "code",
   "execution_count": null,
   "metadata": {
    "collapsed": true
   },
   "outputs": [],
   "source": [
    "#  正規表現\n",
    "\"\"\"\n",
    "文字列のパターンマッチングを行う\n",
    "\"\"\""
   ]
  },
  {
   "cell_type": "code",
   "execution_count": null,
   "metadata": {
    "collapsed": true
   },
   "outputs": [],
   "source": [
    "# メタ文字\n",
    "\"\"\"\n",
    ".  任意の一文字\n",
    "*  直前のパターンの\n",
    "+  直前のパターンの\n",
    "^ 　先頭から\n",
    "$  末尾から\n",
    "?  直前のパターンの\n",
    "{m}  m回反復する\n",
    "{m, n}  mからn回反復する\n",
    "[]  []内のいずれかの一文字\n",
    "|  和集合\n",
    "()  グループ化\n",
    "\\  エスケープもじ\n",
    "\"\"\""
   ]
  },
  {
   "cell_type": "code",
   "execution_count": null,
   "metadata": {
    "collapsed": true
   },
   "outputs": [],
   "source": [
    "# Pythonで正規表現を使う\n",
    "import re"
   ]
  },
  {
   "cell_type": "code",
   "execution_count": 4,
   "metadata": {},
   "outputs": [
    {
     "name": "stdout",
     "output_type": "stream",
     "text": [
      "windows8\n",
      "マッチしません\n",
      "windows10\n",
      "マッチしません\n",
      "windowsxp\n",
      "マッチしません\n",
      "マッチしません\n",
      "マッチしません\n"
     ]
    }
   ],
   "source": [
    "# 正規表現の関数一覧\n",
    "\"\"\"\n",
    "match:マッチする文字列群を抜き出す\n",
    "re.match(パターン文字列, 文字列)\n",
    "re.compile(パターン文字列)\n",
    "search:合致する文字列の位置を返す\n",
    "re.search(パターン文字列, 文字列)\n",
    "\"\"\"\n",
    "import re\n",
    "\n",
    "pc_list = ['windows8', 'windows10', 'windowsxp', 'macos', 'os10']\n",
    "for i, a in enumerate(pc_list):\n",
    "    r = re.compile('windows[8|10|xp]+')\n",
    "    m = r.search(pc_list[i])\n",
    "    try:\n",
    "        print(m.group())\n",
    "        f = open('test.txt', 'a')\n",
    "        f.write(m.group)\n",
    "        f.write('\\n')\n",
    "    except:\n",
    "        print('マッチしません')"
   ]
  },
  {
   "cell_type": "code",
   "execution_count": null,
   "metadata": {
    "collapsed": true
   },
   "outputs": [],
   "source": [
    "\"\"\"\n",
    "re.split(パターン文字列, 文字列)\n",
    "パターン文字列で、文字列を分割してリストで返す\n",
    "\n",
    "re.sub(パターン文字列, repl, 文字列)\n",
    "文字列の中でパターン文字列にマッチするものをreplに変換する\n",
    "\n",
    "re.findall(パターン文字列, 文字列)\n",
    "文字列の中でパターン文字列にマッチするもの全てを操作し、文字列のリストを返す\n",
    "\n",
    "re.finditre(パターン文字列, 文字列)\n",
    "文字列の中でパターン文字列にマッチするものを全て探すイテレータとして返します。\n",
    "\"\"\""
   ]
  }
 ],
 "metadata": {
  "kernelspec": {
   "display_name": "Python 3",
   "language": "python",
   "name": "python3"
  },
  "language_info": {
   "codemirror_mode": {
    "name": "ipython",
    "version": 3
   },
   "file_extension": ".py",
   "mimetype": "text/x-python",
   "name": "python",
   "nbconvert_exporter": "python",
   "pygments_lexer": "ipython3",
   "version": "3.6.3"
  }
 },
 "nbformat": 4,
 "nbformat_minor": 2
}
