{
 "cells": [
  {
   "cell_type": "code",
   "execution_count": null,
   "metadata": {
    "collapsed": true
   },
   "outputs": [],
   "source": [
    "# 統計学入門\n",
    "\"\"\"\n",
    "ある一つのデータ群に対し、データの性質を調べたり、\n",
    "未来のデータを推測する学問\n",
    "1.記述統計学\n",
    "2.推測統計学\n",
    "3.ベイズ統計学\n",
    "\"\"\""
   ]
  },
  {
   "cell_type": "code",
   "execution_count": 2,
   "metadata": {},
   "outputs": [
    {
     "name": "stdout",
     "output_type": "stream",
     "text": [
      "平均: 72\n"
     ]
    }
   ],
   "source": [
    "# 平均\n",
    "\"\"\"\n",
    "複数の数値(N)に対して、全てを足し合わせた後、全体の数値の個数で割った値\n",
    "\"\"\"\n",
    "scores = [90, 80, 70, 85, 60, 50]\n",
    "s = sum(scores)\n",
    "N = len(scores)\n",
    "mean = s  // N\n",
    "print('平均:', mean)"
   ]
  },
  {
   "cell_type": "code",
   "execution_count": 3,
   "metadata": {},
   "outputs": [
    {
     "name": "stdout",
     "output_type": "stream",
     "text": [
      "分散: 197.916666667\n"
     ]
    }
   ],
   "source": [
    "# 分散(variance)\n",
    "\"\"\"\n",
    "数値データのばらつき具合を表すための指標\n",
    "\"\"\"\n",
    "import numpy as np\n",
    "\n",
    "scores = [90, 80, 70, 85, 60, 50]\n",
    "# 分散(variance)\n",
    "v = np.var(scores)\n",
    "print('分散:', v)"
   ]
  },
  {
   "cell_type": "code",
   "execution_count": 6,
   "metadata": {},
   "outputs": [
    {
     "name": "stdout",
     "output_type": "stream",
     "text": [
      "72\n",
      "偏差: [18, 8, -32, -12, 18, 0]\n"
     ]
    }
   ],
   "source": [
    "# 標準偏差\n",
    "\"\"\"\n",
    "分散を平方根に取ることによって計算される値で、\n",
    "データの散らばりの度合いを示す。\n",
    "データの散らばりが大きいと標準偏差も大きくなる\n",
    "散らばりが小さいと0に近くなる\n",
    "\"\"\"\n",
    "# 偏差\n",
    "\"\"\"\n",
    "個々の数値と平均値との差\n",
    "偏差 = 個々の数値 - データの平均値\n",
    "\"\"\"\n",
    "scores = [90, 80, 40, 60, 90, 72]\n",
    "\n",
    "def mean(scores):\n",
    "    s = sum(scores)\n",
    "    N = len(scores)\n",
    "    mean = s // N\n",
    "    return mean\n",
    "\n",
    "# 平均値を求める\n",
    "mean = mean(scores)\n",
    "print(mean)\n",
    "\n",
    "# 偏差を求める\n",
    "diff = []\n",
    "for n in scores:\n",
    "    diff.append(n - mean)\n",
    "    \n",
    "print('偏差:', diff)"
   ]
  },
  {
   "cell_type": "code",
   "execution_count": 8,
   "metadata": {},
   "outputs": [
    {
     "name": "stdout",
     "output_type": "stream",
     "text": [
      "平均: 72\n"
     ]
    }
   ],
   "source": [
    "# 標準偏差を求める\n",
    "\"\"\"\n",
    "1.平均値を求める\n",
    "2.偏差(数値 - 平均値)を求める\n",
    "3.分散(偏差の二乗平均)を求める\n",
    "4.分散の正の平方根を求める\n",
    "\"\"\"\n",
    "scores = [90, 80, 40, 60, 90]\n",
    "\n",
    "def mean(scores):\n",
    "    s = sum(scores)\n",
    "    N = len(scores)\n",
    "    mean = s // N\n",
    "    return mean\n",
    "\n",
    "# 平均\n",
    "mean = mean(scores)\n",
    "print('平均:', mean)"
   ]
  },
  {
   "cell_type": "code",
   "execution_count": 9,
   "metadata": {},
   "outputs": [
    {
     "name": "stdout",
     "output_type": "stream",
     "text": [
      "偏差: [-18, -8, 32, 12, -18]\n"
     ]
    }
   ],
   "source": [
    "# 偏差を求める\n",
    "diff = []\n",
    "\n",
    "for n in scores:\n",
    "    diff.append(mean - n)\n",
    "    \n",
    "print('偏差:', diff)"
   ]
  },
  {
   "cell_type": "code",
   "execution_count": 10,
   "metadata": {},
   "outputs": [
    {
     "name": "stdout",
     "output_type": "stream",
     "text": [
      "分散: 376.0\n"
     ]
    }
   ],
   "source": [
    "# 分散\n",
    "import numpy as np\n",
    "\n",
    "v = np.var(scores)\n",
    "print('分散:', v)"
   ]
  },
  {
   "cell_type": "code",
   "execution_count": 11,
   "metadata": {},
   "outputs": [
    {
     "name": "stdout",
     "output_type": "stream",
     "text": [
      "標準偏差: 19.3907194297\n"
     ]
    }
   ],
   "source": [
    "# 分散の正の平方根\n",
    "std = np.std(scores)\n",
    "print('標準偏差:', std)"
   ]
  }
 ],
 "metadata": {
  "kernelspec": {
   "display_name": "Python 3",
   "language": "python",
   "name": "python3"
  },
  "language_info": {
   "codemirror_mode": {
    "name": "ipython",
    "version": 3
   },
   "file_extension": ".py",
   "mimetype": "text/x-python",
   "name": "python",
   "nbconvert_exporter": "python",
   "pygments_lexer": "ipython3",
   "version": "3.6.3"
  }
 },
 "nbformat": 4,
 "nbformat_minor": 2
}
