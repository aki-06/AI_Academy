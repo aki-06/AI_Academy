{
 "cells": [
  {
   "cell_type": "code",
   "execution_count": 1,
   "metadata": {},
   "outputs": [
    {
     "name": "stdout",
     "output_type": "stream",
     "text": [
      "A     1\n",
      "B     3\n",
      "C     5\n",
      "D    10\n",
      "dtype: int64\n"
     ]
    }
   ],
   "source": [
    "# map, apply, applymap関数\n",
    "# Series\n",
    "\"\"\"\n",
    "Series.map()\n",
    "Series.array()\n",
    "\"\"\"\n",
    "import pandas as pd\n",
    "\n",
    "d = pd.Series([1, 3, 5, 10], index=['A', 'B', 'C', 'D'])\n",
    "print(d)"
   ]
  },
  {
   "cell_type": "code",
   "execution_count": 2,
   "metadata": {},
   "outputs": [
    {
     "name": "stdout",
     "output_type": "stream",
     "text": [
      "A     3\n",
      "B     5\n",
      "C     7\n",
      "D    12\n",
      "dtype: int64\n"
     ]
    }
   ],
   "source": [
    "d_plus2_apply = d.apply(lambda x: x + 2)\n",
    "print(d_plus2_apply)"
   ]
  },
  {
   "cell_type": "code",
   "execution_count": 3,
   "metadata": {},
   "outputs": [
    {
     "name": "stdout",
     "output_type": "stream",
     "text": [
      "A     2\n",
      "B     6\n",
      "C    10\n",
      "D    20\n",
      "dtype: int64\n"
     ]
    }
   ],
   "source": [
    "print(d.map(lambda x: x * 2))"
   ]
  },
  {
   "cell_type": "code",
   "execution_count": 4,
   "metadata": {},
   "outputs": [
    {
     "name": "stdout",
     "output_type": "stream",
     "text": [
      "   col1  col2\n",
      "A     1     2\n",
      "B     3     6\n",
      "C     5    10\n",
      "D    10    20\n"
     ]
    }
   ],
   "source": [
    "d_DataFrame = d.apply(lambda x: pd.Series([x, x * 2], index=['col1', 'col2']))\n",
    "print(d_DataFrame)"
   ]
  },
  {
   "cell_type": "code",
   "execution_count": 10,
   "metadata": {},
   "outputs": [
    {
     "name": "stdout",
     "output_type": "stream",
     "text": [
      "         体重     身長\n",
      "役割                \n",
      "エンジニア  66.0  178.0\n",
      "営業     60.0  173.5\n"
     ]
    }
   ],
   "source": [
    "import pandas as pd\n",
    "import numpy as np\n",
    "\n",
    "df = pd.DataFrame({\n",
    "        '役割' : ['営業', 'エンジニア', '営業', 'エンジニア'],\n",
    "        '体重' : [65, 60, 55, 72],\n",
    "        '身長' : [178, 173, 169, 183]\n",
    "    })\n",
    "\n",
    "#このデータを名前によってグループ分けします\n",
    "grouped = df.groupby('役割')\n",
    "\n",
    "#グループごとの平均値を求めます\n",
    "print(grouped.apply(np.mean))"
   ]
  },
  {
   "cell_type": "code",
   "execution_count": 13,
   "metadata": {},
   "outputs": [
    {
     "name": "stdout",
     "output_type": "stream",
     "text": [
      "  company  year president  visitors  pruductA  productB\n",
      "0  cosme1  2014     James       128     15020     39523\n",
      "1  cosme1  2015       Tom       102     16102     44127\n",
      "2  cosme1  2016       Tom       101     15983     48016\n",
      "3  cosme1  2017     James       116     17240     50974\n",
      "4  cosme2  2014    Sherry        90     13205     38309\n",
      "5  cosme2  2015     James       136     14276     42160\n",
      "6  cosme2  2016    Sherry       101     13198     36756\n",
      "7  cosme2  2017       Bob       120     16530     38455\n"
     ]
    }
   ],
   "source": [
    "# 階層型インデックス\n",
    "\"\"\"\n",
    "DataFrameなどで、複数の列をインデックスとして持たせる機能\n",
    "階層型インデックスが必要なデータの特徴\n",
    "- ユニークな列がなく、どれが実測値かわからないデータ\n",
    "- いくつかのインデックスを指定して、初めて実測値が定まる\n",
    "\"\"\"\n",
    "import pandas as pd\n",
    "import numpy as np\n",
    "\n",
    "df1 = pd.read_csv('company.csv')\n",
    "print(df1)"
   ]
  },
  {
   "cell_type": "code",
   "execution_count": 14,
   "metadata": {},
   "outputs": [
    {
     "name": "stdout",
     "output_type": "stream",
     "text": [
      "  company  year president  visitors  pruductA  productB\n",
      "2  cosme1  2016       Tom       101     15983     48016\n"
     ]
    }
   ],
   "source": [
    "print(df1[(df1['company'] == 'cosme1') & (df1['president'] == 'Tom') & (df1['visitors'] == 101)])"
   ]
  },
  {
   "cell_type": "code",
   "execution_count": 15,
   "metadata": {},
   "outputs": [
    {
     "name": "stdout",
     "output_type": "stream",
     "text": [
      "                        visitors  pruductA  productB\n",
      "company year president                              \n",
      "cosme1  2014 James           128     15020     39523\n",
      "        2015 Tom             102     16102     44127\n",
      "        2016 Tom             101     15983     48016\n",
      "        2017 James           116     17240     50974\n",
      "cosme2  2014 Sherry           90     13205     38309\n",
      "        2015 James           136     14276     42160\n",
      "        2016 Sherry          101     13198     36756\n",
      "        2017 Bob             120     16530     38455\n"
     ]
    }
   ],
   "source": [
    "multi_index = pd.read_csv('company.csv', index_col=['company', 'year', 'president'])\n",
    "print(multi_index)"
   ]
  },
  {
   "cell_type": "code",
   "execution_count": 18,
   "metadata": {},
   "outputs": [
    {
     "name": "stdout",
     "output_type": "stream",
     "text": [
      "visitors      102\n",
      "pruductA    16102\n",
      "productB    44127\n",
      "Name: (cosme1, 2015, Tom), dtype: int64\n"
     ]
    }
   ],
   "source": [
    "print(multi_index.loc[('cosme1', 2015, 'Tom')])"
   ]
  },
  {
   "cell_type": "code",
   "execution_count": 19,
   "metadata": {},
   "outputs": [
    {
     "name": "stdout",
     "output_type": "stream",
     "text": [
      "                visitors  pruductA  productB\n",
      "year president                              \n",
      "2014 James           128     15020     39523\n",
      "2015 Tom             102     16102     44127\n",
      "2016 Tom             101     15983     48016\n",
      "2017 James           116     17240     50974\n"
     ]
    }
   ],
   "source": [
    "print(multi_index.loc[('cosme1')])"
   ]
  },
  {
   "cell_type": "code",
   "execution_count": 22,
   "metadata": {},
   "outputs": [
    {
     "name": "stdout",
     "output_type": "stream",
     "text": [
      "           visitors  pruductA  productB\n",
      "president                              \n",
      "Tom             102     16102     44127\n"
     ]
    }
   ],
   "source": [
    "print(multi_index.loc[('cosme1', 2015)])"
   ]
  },
  {
   "cell_type": "code",
   "execution_count": 23,
   "metadata": {
    "collapsed": true
   },
   "outputs": [],
   "source": [
    "multi_index.to_csv('multi_index.csv')"
   ]
  },
  {
   "cell_type": "code",
   "execution_count": 24,
   "metadata": {},
   "outputs": [
    {
     "name": "stdout",
     "output_type": "stream",
     "text": [
      "  company  year president  visitors  pruductA  productB\n",
      "0  cosme1  2014     James       128     15020     39523\n",
      "1  cosme1  2015       Tom       102     16102     44127\n",
      "2  cosme1  2016       Tom       101     15983     48016\n",
      "3  cosme1  2017     James       116     17240     50974\n",
      "4  cosme2  2014    Sherry        90     13205     38309\n",
      "5  cosme2  2015     James       136     14276     42160\n",
      "6  cosme2  2016    Sherry       101     13198     36756\n",
      "7  cosme2  2017       Bob       120     16530     38455\n"
     ]
    }
   ],
   "source": [
    "print(pd.read_csv('multi_index.csv'))"
   ]
  },
  {
   "cell_type": "code",
   "execution_count": 25,
   "metadata": {},
   "outputs": [
    {
     "name": "stdout",
     "output_type": "stream",
     "text": [
      "                        visitors  pruductA  productB\n",
      "company year president                              \n",
      "cosme1  2014 James           128     15020     39523\n",
      "        2015 Tom             102     16102     44127\n",
      "        2016 Tom             101     15983     48016\n",
      "        2017 James           116     17240     50974\n",
      "cosme2  2014 Sherry           90     13205     38309\n",
      "        2015 James           136     14276     42160\n",
      "        2016 Sherry          101     13198     36756\n",
      "        2017 Bob             120     16530     38455\n"
     ]
    }
   ],
   "source": [
    "# データフレームの列追加\n",
    "import numpy as np\n",
    "import pandas as pd\n",
    "\n",
    "df2 = pd.read_csv('multi_index.csv', index_col=['company', 'year', 'president'])\n",
    "print(df2)"
   ]
  },
  {
   "cell_type": "code",
   "execution_count": 27,
   "metadata": {},
   "outputs": [
    {
     "name": "stdout",
     "output_type": "stream",
     "text": [
      "                        visitors  pruductA  productB   area\n",
      "company year president                                     \n",
      "cosme1  2014 James           128     15020     39523  Tokyo\n",
      "        2015 Tom             102     16102     44127  Tokyo\n",
      "        2016 Tom             101     15983     48016  Tokyo\n",
      "        2017 James           116     17240     50974  Tokyo\n",
      "cosme2  2014 Sherry           90     13205     38309  Osaka\n",
      "        2015 James           136     14276     42160  Osaka\n",
      "        2016 Sherry          101     13198     36756  Osaka\n",
      "        2017 Bob             120     16530     38455  Osaka\n"
     ]
    }
   ],
   "source": [
    "df2['area'] = np.array(['Tokyo','Tokyo','Tokyo','Tokyo','Osaka','Osaka','Osaka','Osaka'])\n",
    "print(df2)"
   ]
  },
  {
   "cell_type": "code",
   "execution_count": 28,
   "metadata": {},
   "outputs": [
    {
     "name": "stdout",
     "output_type": "stream",
     "text": [
      "  company  year president  visitors  pruductA  productB\n",
      "0  cosme1  2014     James       128     15020     39523\n",
      "1  cosme1  2015       Tom       102     16102     44127\n",
      "2  cosme1  2016       Tom       101     15983     48016\n",
      "3  cosme1  2017     James       116     17240     50974\n",
      "4  cosme2  2014    Sherry        90     13205     38309\n",
      "5  cosme2  2015     James       136     14276     42160\n",
      "6  cosme2  2016    Sherry       101     13198     36756\n",
      "7  cosme2  2017       Bob       120     16530     38455\n"
     ]
    }
   ],
   "source": [
    "# 統計処理\n",
    "import pandas as pd\n",
    "\n",
    "df = pd.read_csv('multi_index.csv')\n",
    "print(df)"
   ]
  },
  {
   "cell_type": "code",
   "execution_count": 29,
   "metadata": {},
   "outputs": [
    {
     "name": "stdout",
     "output_type": "stream",
     "text": [
      "              year    visitors      pruductA      productB\n",
      "count     8.000000    8.000000      8.000000      8.000000\n",
      "mean   2015.500000  111.750000  15194.250000  42290.000000\n",
      "std       1.195229   15.754818   1522.738769   5076.942725\n",
      "min    2014.000000   90.000000  13198.000000  36756.000000\n",
      "25%    2014.750000  101.000000  14008.250000  38418.500000\n",
      "50%    2015.500000  109.000000  15501.500000  40841.500000\n",
      "75%    2016.250000  122.000000  16209.000000  45099.250000\n",
      "max    2017.000000  136.000000  17240.000000  50974.000000\n"
     ]
    }
   ],
   "source": [
    "# describe\n",
    "print(df.describe())"
   ]
  },
  {
   "cell_type": "code",
   "execution_count": 30,
   "metadata": {},
   "outputs": [
    {
     "name": "stdout",
     "output_type": "stream",
     "text": [
      "              year  visitors  pruductA  productB\n",
      "year      1.000000  0.068278  0.605880  0.391697\n",
      "visitors  0.068278  1.000000  0.250168  0.042443\n",
      "pruductA  0.605880  0.250168  1.000000  0.709487\n",
      "productB  0.391697  0.042443  0.709487  1.000000\n"
     ]
    }
   ],
   "source": [
    "# correlation\n",
    "print(df.corr())"
   ]
  },
  {
   "cell_type": "code",
   "execution_count": 31,
   "metadata": {
    "collapsed": true
   },
   "outputs": [],
   "source": [
    "# データの結合\n",
    "import pandas as pd\n",
    "\n",
    "df1 = pd.DataFrame({\n",
    "    '名前': ['山田', '佐藤', '田中'],\n",
    "    '役職': ['社長', '部長', '課長'],\n",
    "    '年齢': [50, 40, 30]\n",
    "})\n",
    "\n",
    "df2 = pd.DataFrame({\n",
    "    '名前': ['山田', '根本'],\n",
    "    '入社年数': [10, 2]\n",
    "})"
   ]
  },
  {
   "cell_type": "code",
   "execution_count": 32,
   "metadata": {},
   "outputs": [
    {
     "name": "stdout",
     "output_type": "stream",
     "text": [
      "   名前  年齢  役職\n",
      "0  山田  50  社長\n",
      "1  佐藤  40  部長\n",
      "2  田中  30  課長\n"
     ]
    }
   ],
   "source": [
    "print(df1)"
   ]
  },
  {
   "cell_type": "code",
   "execution_count": 33,
   "metadata": {},
   "outputs": [
    {
     "name": "stdout",
     "output_type": "stream",
     "text": [
      "   入社年数  名前\n",
      "0    10  山田\n",
      "1     2  根本\n"
     ]
    }
   ],
   "source": [
    "print(df2)"
   ]
  },
  {
   "cell_type": "code",
   "execution_count": 35,
   "metadata": {},
   "outputs": [
    {
     "name": "stdout",
     "output_type": "stream",
     "text": [
      "   名前  年齢  役職  入社年数\n",
      "0  山田  50  社長    10\n"
     ]
    }
   ],
   "source": [
    "print(pd.merge(df1, df2, on='名前'))"
   ]
  },
  {
   "cell_type": "code",
   "execution_count": 36,
   "metadata": {},
   "outputs": [
    {
     "name": "stdout",
     "output_type": "stream",
     "text": [
      "   名前    年齢   役職  入社年数\n",
      "0  山田  50.0   社長  10.0\n",
      "1  佐藤  40.0   部長   NaN\n",
      "2  田中  30.0   課長   NaN\n",
      "3  根本   NaN  NaN   2.0\n"
     ]
    }
   ],
   "source": [
    "print(pd.merge(df1, df2, on='名前', how='outer'))"
   ]
  }
 ],
 "metadata": {
  "kernelspec": {
   "display_name": "Python 3",
   "language": "python",
   "name": "python3"
  },
  "language_info": {
   "codemirror_mode": {
    "name": "ipython",
    "version": 3
   },
   "file_extension": ".py",
   "mimetype": "text/x-python",
   "name": "python",
   "nbconvert_exporter": "python",
   "pygments_lexer": "ipython3",
   "version": "3.6.3"
  }
 },
 "nbformat": 4,
 "nbformat_minor": 2
}
