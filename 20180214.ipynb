{
 "cells": [
  {
   "cell_type": "code",
   "execution_count": 1,
   "metadata": {},
   "outputs": [
    {
     "name": "stdout",
     "output_type": "stream",
     "text": [
      "   apple  banana  grape\n",
      "1     45      68     37\n",
      "2     48      10     88\n",
      "3     65      84     71\n",
      "4     68      22     89\n"
     ]
    }
   ],
   "source": [
    "# インデックス、カラムが一致しているDataFrame同士の連結\n",
    "\"\"\"\n",
    "DataFrame同士を一定の方向にそのまま繋げる操作を連結という\n",
    "pandas.concat('DataFrameのリスト', axis=0)\n",
    "  - 先頭から順に縦方向に連結\n",
    "  - 同じカラムに対して連結\n",
    "pandas.concat('DataFrameのリスト', axis-1)\n",
    "  - 横方向に連結\n",
    "  - 同じインデックスに対して連結\n",
    "\"\"\"\n",
    "import pandas as pd\n",
    "import numpy as np\n",
    "\n",
    "# 指定のインデックスとカラムを持つDataFrameを乱数によって作成する関数\n",
    "def make_random_df(index, columns, seed):\n",
    "    np.random.seed(seed)\n",
    "    df = pd.DataFrame()\n",
    "    for column in columns:\n",
    "        df[column] = np.random.choice(range(1, 101), len(index))\n",
    "    df.index = index\n",
    "    return df\n",
    "\n",
    "#インデックス、カラムが一致しているDataFrameの作成\n",
    "columns = ['apple', 'banana', 'grape']\n",
    "df_data1 = make_random_df(range(1, 5), columns, 0)\n",
    "print(df_data1)"
   ]
  },
  {
   "cell_type": "code",
   "execution_count": 2,
   "metadata": {},
   "outputs": [
    {
     "name": "stdout",
     "output_type": "stream",
     "text": [
      "   apple  banana  grape\n",
      "1     38      76     17\n",
      "2     13       6      2\n",
      "3     73      80     77\n",
      "4     10      65     72\n"
     ]
    }
   ],
   "source": [
    "df_data2 = make_random_df(range(1, 5), columns, 1)\n",
    "print(df_data2)"
   ]
  },
  {
   "cell_type": "code",
   "execution_count": 3,
   "metadata": {},
   "outputs": [
    {
     "name": "stdout",
     "output_type": "stream",
     "text": [
      "   apple  banana  grape\n",
      "1     45      68     37\n",
      "2     48      10     88\n",
      "3     65      84     71\n",
      "4     68      22     89\n",
      "1     38      76     17\n",
      "2     13       6      2\n",
      "3     73      80     77\n",
      "4     10      65     72\n"
     ]
    }
   ],
   "source": [
    "# 縦方向に連結\n",
    "df1 = pd.concat([df_data1, df_data2], axis=0)\n",
    "print(df1)"
   ]
  },
  {
   "cell_type": "code",
   "execution_count": 4,
   "metadata": {},
   "outputs": [
    {
     "name": "stdout",
     "output_type": "stream",
     "text": [
      "   apple  banana  grape  apple  banana  grape\n",
      "1     45      68     37     38      76     17\n",
      "2     48      10     88     13       6      2\n",
      "3     65      84     71     73      80     77\n",
      "4     68      22     89     10      65     72\n"
     ]
    }
   ],
   "source": [
    "# 横方向に連結\n",
    "df2 = pd.concat([df_data1, df_data2], axis=1)\n",
    "print(df2)"
   ]
  },
  {
   "cell_type": "code",
   "execution_count": 7,
   "metadata": {},
   "outputs": [
    {
     "name": "stdout",
     "output_type": "stream",
     "text": [
      "   apple  banana  grape\n",
      "1      7      19     30\n",
      "2     26      85     15\n",
      "3     51      12     51\n",
      "4     21      29     69\n"
     ]
    }
   ],
   "source": [
    "# インデックス、カラムが一致していないDataFrame同士の連結\n",
    "\"\"\"\n",
    "インデックスやカラムが一致指定ない行や列にNaNが生成される\n",
    "\"\"\"\n",
    "import pandas as pd\n",
    "import numpy as np\n",
    "\n",
    "def make_random_df(index, columns, seed):\n",
    "    df = pd.DataFrame()\n",
    "    for column in columns:\n",
    "        df[column] = np.random.choice(range(1, 101), len(index))\n",
    "    df.index = index\n",
    "    return df\n",
    "\n",
    "columns1 = ['apple', 'banana', 'grape']\n",
    "columns2 = ['mango', 'peach', 'melon']\n",
    "\n",
    "df_data1 = make_random_df(range(1, 5), columns1, 0)\n",
    "print(df_data1)"
   ]
  },
  {
   "cell_type": "code",
   "execution_count": 12,
   "metadata": {},
   "outputs": [
    {
     "name": "stdout",
     "output_type": "stream",
     "text": [
      "   mango  peach  melon\n",
      "1      2      9     73\n",
      "3      1     89     31\n",
      "5     61     14     72\n",
      "7     82     48      4\n"
     ]
    }
   ],
   "source": [
    "df_data2 = make_random_df(np.arange(1, 8, 2), columns2, 1)\n",
    "print(df_data2)"
   ]
  },
  {
   "cell_type": "code",
   "execution_count": 13,
   "metadata": {},
   "outputs": [
    {
     "name": "stdout",
     "output_type": "stream",
     "text": [
      "   apple  banana  grape  mango  melon  peach\n",
      "1    7.0    19.0   30.0    NaN    NaN    NaN\n",
      "2   26.0    85.0   15.0    NaN    NaN    NaN\n",
      "3   51.0    12.0   51.0    NaN    NaN    NaN\n",
      "4   21.0    29.0   69.0    NaN    NaN    NaN\n",
      "1    NaN     NaN    NaN    2.0   73.0    9.0\n",
      "3    NaN     NaN    NaN    1.0   31.0   89.0\n",
      "5    NaN     NaN    NaN   61.0   72.0   14.0\n",
      "7    NaN     NaN    NaN   82.0    4.0   48.0\n"
     ]
    }
   ],
   "source": [
    "# 縦に連結\n",
    "df1 = pd.concat([df_data1, df_data2], axis=0)\n",
    "print(df1)"
   ]
  },
  {
   "cell_type": "code",
   "execution_count": 14,
   "metadata": {
    "scrolled": true
   },
   "outputs": [
    {
     "name": "stdout",
     "output_type": "stream",
     "text": [
      "   apple  banana  grape  mango  peach  melon\n",
      "1    7.0    19.0   30.0    2.0    9.0   73.0\n",
      "2   26.0    85.0   15.0    NaN    NaN    NaN\n",
      "3   51.0    12.0   51.0    1.0   89.0   31.0\n",
      "4   21.0    29.0   69.0    NaN    NaN    NaN\n",
      "5    NaN     NaN    NaN   61.0   14.0   72.0\n",
      "7    NaN     NaN    NaN   82.0   48.0    4.0\n"
     ]
    }
   ],
   "source": [
    "# 横に連結\n",
    "df2 = pd.concat([df_data1, df_data2], axis=1)\n",
    "print(df2)"
   ]
  },
  {
   "cell_type": "code",
   "execution_count": 16,
   "metadata": {},
   "outputs": [
    {
     "name": "stdout",
     "output_type": "stream",
     "text": [
      "   apple  banana  mango\n",
      "1     45      68     37\n",
      "2     48      10     88\n",
      "3     65      84     71\n",
      "4     68      22     89\n"
     ]
    }
   ],
   "source": [
    "# 連結する際のラベルの指定\n",
    "import pandas as pd\n",
    "import numpy as np\n",
    "\n",
    "def make_random_df(index, columns, seed):\n",
    "    np.random.seed(seed)\n",
    "    df = pd.DataFrame()\n",
    "    for column in columns:\n",
    "        df[column] = np.random.choice(range(1, 101), len(index))\n",
    "    df.index = index\n",
    "    return df\n",
    "    \n",
    "columns = ['apple', 'banana', 'mango']\n",
    "\n",
    "data1 = make_random_df(range(1, 5), columns, 0)\n",
    "print(data1)"
   ]
  },
  {
   "cell_type": "code",
   "execution_count": 17,
   "metadata": {},
   "outputs": [
    {
     "name": "stdout",
     "output_type": "stream",
     "text": [
      "   apple  banana  mango\n",
      "1     38      76     17\n",
      "2     13       6      2\n",
      "3     73      80     77\n",
      "4     10      65     72\n"
     ]
    }
   ],
   "source": [
    "data2 = make_random_df(range(1, 5), columns, 1)\n",
    "print(data2)"
   ]
  },
  {
   "cell_type": "code",
   "execution_count": 19,
   "metadata": {},
   "outputs": [
    {
     "name": "stdout",
     "output_type": "stream",
     "text": [
      "      X                  Y             \n",
      "  apple banana mango apple banana mango\n",
      "1    45     68    37    38     76    17\n",
      "2    48     10    88    13      6     2\n",
      "3    65     84    71    73     80    77\n",
      "4    68     22    89    10     65    72\n"
     ]
    }
   ],
   "source": [
    "df = pd.concat([data1, data2], axis=1, keys=['X', 'Y'])\n",
    "print(df)"
   ]
  },
  {
   "cell_type": "code",
   "execution_count": 20,
   "metadata": {},
   "outputs": [
    {
     "name": "stdout",
     "output_type": "stream",
     "text": [
      "1    76\n",
      "2     6\n",
      "3    80\n",
      "4    65\n",
      "Name: (Y, banana), dtype: int64\n"
     ]
    }
   ],
   "source": [
    "Y_banana = df['Y', 'banana']\n",
    "print(Y_banana)"
   ]
  }
 ],
 "metadata": {
  "kernelspec": {
   "display_name": "Python 3",
   "language": "python",
   "name": "python3"
  },
  "language_info": {
   "codemirror_mode": {
    "name": "ipython",
    "version": 3
   },
   "file_extension": ".py",
   "mimetype": "text/x-python",
   "name": "python",
   "nbconvert_exporter": "python",
   "pygments_lexer": "ipython3",
   "version": "3.6.3"
  }
 },
 "nbformat": 4,
 "nbformat_minor": 2
}
