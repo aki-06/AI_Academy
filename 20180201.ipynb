{
 "cells": [
  {
   "cell_type": "code",
   "execution_count": 1,
   "metadata": {},
   "outputs": [
    {
     "name": "stdout",
     "output_type": "stream",
     "text": [
      "平均: 4.66666666667\n",
      "最小値: 1\n",
      "最大値: 9\n",
      "中央値: 5.0\n",
      "最頻値: 5\n"
     ]
    }
   ],
   "source": [
    "import numpy as np\n",
    "import statistics\n",
    "\n",
    "data = np.array([1, 3, 4, 4, 5, 5, 5, 6, 9])\n",
    "\n",
    "mean = np.mean(data) # 平均\n",
    "minimum = np.min(data) # 最小値\n",
    "maximum = np.max(data) # 最大値\n",
    "median = np.median(data) # 中央値\n",
    "mode = statistics.mode(data) # 最頻値\n",
    "\n",
    "print('平均:', mean)\n",
    "print('最小値:', minimum)\n",
    "print('最大値:', maximum)\n",
    "print('中央値:', median)\n",
    "print('最頻値:', mode)"
   ]
  },
  {
   "cell_type": "code",
   "execution_count": 3,
   "metadata": {},
   "outputs": [
    {
     "name": "stdout",
     "output_type": "stream",
     "text": [
      "平方和は: 4.22222222222\n",
      "標準偏差は: 2.05480466766\n"
     ]
    }
   ],
   "source": [
    "import numpy as np\n",
    "\n",
    "data = np.array([1, 3, 4, 4, 5, 5, 5, 6, 9])\n",
    "\n",
    "var = np.var(data) # 平方和\n",
    "std = np.std(data) # 標準偏差\n",
    "\n",
    "print('平方和は:', var)\n",
    "print('標準偏差は:', std)"
   ]
  }
 ],
 "metadata": {
  "kernelspec": {
   "display_name": "Python 3",
   "language": "python",
   "name": "python3"
  },
  "language_info": {
   "codemirror_mode": {
    "name": "ipython",
    "version": 3
   },
   "file_extension": ".py",
   "mimetype": "text/x-python",
   "name": "python",
   "nbconvert_exporter": "python",
   "pygments_lexer": "ipython3",
   "version": "3.6.3"
  }
 },
 "nbformat": 4,
 "nbformat_minor": 2
}
